{
 "cells": [
  {
   "cell_type": "markdown",
   "metadata": {},
   "source": [
    "# Proyecto 1 Inteligencia de negocios - Clasificación Fake News #\n",
    "\n",
    "Grupo 17 - Miembros:\n",
    "\n",
    "*   Juan Esteban Diaz Castro - 202121646 - Algoritmo: Regresión Logística\n",
    "*   Jose Botello - 202022580 - Algoritmo: Naieve Bayes\n",
    "*   Samuel Ramirez - 20\n"
   ]
  },
  {
   "cell_type": "markdown",
   "metadata": {},
   "source": [
    "Instalar Librerias"
   ]
  },
  {
   "cell_type": "code",
   "execution_count": 1,
   "metadata": {},
   "outputs": [
    {
     "name": "stdout",
     "output_type": "stream",
     "text": [
      "Requirement already satisfied: numpy in c:\\users\\josem\\appdata\\local\\programs\\python\\python39\\lib\\site-packages (2.0.2)\n",
      "Note: you may need to restart the kernel to use updated packages.\n"
     ]
    },
    {
     "name": "stderr",
     "output_type": "stream",
     "text": [
      "WARNING: You are using pip version 22.0.4; however, version 25.0.1 is available.\n",
      "You should consider upgrading via the 'c:\\Users\\josem\\AppData\\Local\\Programs\\Python\\Python39\\python.exe -m pip install --upgrade pip' command.\n"
     ]
    },
    {
     "name": "stdout",
     "output_type": "stream",
     "text": [
      "Requirement already satisfied: pandas in c:\\users\\josem\\appdata\\local\\programs\\python\\python39\\lib\\site-packages (2.2.3)\n",
      "Requirement already satisfied: pytz>=2020.1 in c:\\users\\josem\\appdata\\local\\programs\\python\\python39\\lib\\site-packages (from pandas) (2024.2)\n",
      "Requirement already satisfied: numpy>=1.22.4 in c:\\users\\josem\\appdata\\local\\programs\\python\\python39\\lib\\site-packages (from pandas) (2.0.2)\n",
      "Requirement already satisfied: tzdata>=2022.7 in c:\\users\\josem\\appdata\\local\\programs\\python\\python39\\lib\\site-packages (from pandas) (2024.2)\n",
      "Requirement already satisfied: python-dateutil>=2.8.2 in c:\\users\\josem\\appdata\\local\\programs\\python\\python39\\lib\\site-packages (from pandas) (2.9.0.post0)\n",
      "Requirement already satisfied: six>=1.5 in c:\\users\\josem\\appdata\\local\\programs\\python\\python39\\lib\\site-packages (from python-dateutil>=2.8.2->pandas) (1.16.0)\n",
      "Note: you may need to restart the kernel to use updated packages.\n"
     ]
    },
    {
     "name": "stderr",
     "output_type": "stream",
     "text": [
      "WARNING: You are using pip version 22.0.4; however, version 25.0.1 is available.\n",
      "You should consider upgrading via the 'c:\\Users\\josem\\AppData\\Local\\Programs\\Python\\Python39\\python.exe -m pip install --upgrade pip' command.\n"
     ]
    },
    {
     "name": "stdout",
     "output_type": "stream",
     "text": [
      "Requirement already satisfied: joblib in c:\\users\\josem\\appdata\\local\\programs\\python\\python39\\lib\\site-packages (1.4.2)\n",
      "Note: you may need to restart the kernel to use updated packages.\n"
     ]
    },
    {
     "name": "stderr",
     "output_type": "stream",
     "text": [
      "WARNING: You are using pip version 22.0.4; however, version 25.0.1 is available.\n",
      "You should consider upgrading via the 'c:\\Users\\josem\\AppData\\Local\\Programs\\Python\\Python39\\python.exe -m pip install --upgrade pip' command.\n"
     ]
    },
    {
     "name": "stdout",
     "output_type": "stream",
     "text": [
      "Requirement already satisfied: matplotlib in c:\\users\\josem\\appdata\\local\\programs\\python\\python39\\lib\\site-packages (3.9.2)\n",
      "Requirement already satisfied: python-dateutil>=2.7 in c:\\users\\josem\\appdata\\local\\programs\\python\\python39\\lib\\site-packages (from matplotlib) (2.9.0.post0)\n",
      "Requirement already satisfied: importlib-resources>=3.2.0 in c:\\users\\josem\\appdata\\local\\programs\\python\\python39\\lib\\site-packages (from matplotlib) (6.4.5)\n",
      "Requirement already satisfied: fonttools>=4.22.0 in c:\\users\\josem\\appdata\\local\\programs\\python\\python39\\lib\\site-packages (from matplotlib) (4.54.1)\n",
      "Requirement already satisfied: cycler>=0.10 in c:\\users\\josem\\appdata\\local\\programs\\python\\python39\\lib\\site-packages (from matplotlib) (0.12.1)\n",
      "Requirement already satisfied: packaging>=20.0 in c:\\users\\josem\\appdata\\local\\programs\\python\\python39\\lib\\site-packages (from matplotlib) (24.1)\n",
      "Requirement already satisfied: contourpy>=1.0.1 in c:\\users\\josem\\appdata\\local\\programs\\python\\python39\\lib\\site-packages (from matplotlib) (1.3.0)\n",
      "Requirement already satisfied: numpy>=1.23 in c:\\users\\josem\\appdata\\local\\programs\\python\\python39\\lib\\site-packages (from matplotlib) (2.0.2)\n",
      "Requirement already satisfied: pillow>=8 in c:\\users\\josem\\appdata\\local\\programs\\python\\python39\\lib\\site-packages (from matplotlib) (10.4.0)\n",
      "Requirement already satisfied: kiwisolver>=1.3.1 in c:\\users\\josem\\appdata\\local\\programs\\python\\python39\\lib\\site-packages (from matplotlib) (1.4.7)\n",
      "Requirement already satisfied: pyparsing>=2.3.1 in c:\\users\\josem\\appdata\\local\\programs\\python\\python39\\lib\\site-packages (from matplotlib) (3.1.4)\n",
      "Requirement already satisfied: zipp>=3.1.0 in c:\\users\\josem\\appdata\\local\\programs\\python\\python39\\lib\\site-packages (from importlib-resources>=3.2.0->matplotlib) (3.20.2)\n",
      "Requirement already satisfied: six>=1.5 in c:\\users\\josem\\appdata\\local\\programs\\python\\python39\\lib\\site-packages (from python-dateutil>=2.7->matplotlib) (1.16.0)\n",
      "Note: you may need to restart the kernel to use updated packages.\n"
     ]
    },
    {
     "name": "stderr",
     "output_type": "stream",
     "text": [
      "WARNING: You are using pip version 22.0.4; however, version 25.0.1 is available.\n",
      "You should consider upgrading via the 'c:\\Users\\josem\\AppData\\Local\\Programs\\Python\\Python39\\python.exe -m pip install --upgrade pip' command.\n"
     ]
    },
    {
     "name": "stdout",
     "output_type": "stream",
     "text": [
      "Requirement already satisfied: seaborn in c:\\users\\josem\\appdata\\local\\programs\\python\\python39\\lib\\site-packages (0.13.2)\n",
      "Requirement already satisfied: pandas>=1.2 in c:\\users\\josem\\appdata\\local\\programs\\python\\python39\\lib\\site-packages (from seaborn) (2.2.3)\n",
      "Requirement already satisfied: matplotlib!=3.6.1,>=3.4 in c:\\users\\josem\\appdata\\local\\programs\\python\\python39\\lib\\site-packages (from seaborn) (3.9.2)\n",
      "Requirement already satisfied: numpy!=1.24.0,>=1.20 in c:\\users\\josem\\appdata\\local\\programs\\python\\python39\\lib\\site-packages (from seaborn) (2.0.2)\n",
      "Requirement already satisfied: pyparsing>=2.3.1 in c:\\users\\josem\\appdata\\local\\programs\\python\\python39\\lib\\site-packages (from matplotlib!=3.6.1,>=3.4->seaborn) (3.1.4)\n",
      "Requirement already satisfied: pillow>=8 in c:\\users\\josem\\appdata\\local\\programs\\python\\python39\\lib\\site-packages (from matplotlib!=3.6.1,>=3.4->seaborn) (10.4.0)\n",
      "Requirement already satisfied: cycler>=0.10 in c:\\users\\josem\\appdata\\local\\programs\\python\\python39\\lib\\site-packages (from matplotlib!=3.6.1,>=3.4->seaborn) (0.12.1)\n",
      "Requirement already satisfied: python-dateutil>=2.7 in c:\\users\\josem\\appdata\\local\\programs\\python\\python39\\lib\\site-packages (from matplotlib!=3.6.1,>=3.4->seaborn) (2.9.0.post0)\n",
      "Requirement already satisfied: fonttools>=4.22.0 in c:\\users\\josem\\appdata\\local\\programs\\python\\python39\\lib\\site-packages (from matplotlib!=3.6.1,>=3.4->seaborn) (4.54.1)\n",
      "Requirement already satisfied: contourpy>=1.0.1 in c:\\users\\josem\\appdata\\local\\programs\\python\\python39\\lib\\site-packages (from matplotlib!=3.6.1,>=3.4->seaborn) (1.3.0)\n",
      "Requirement already satisfied: kiwisolver>=1.3.1 in c:\\users\\josem\\appdata\\local\\programs\\python\\python39\\lib\\site-packages (from matplotlib!=3.6.1,>=3.4->seaborn) (1.4.7)\n",
      "Requirement already satisfied: importlib-resources>=3.2.0 in c:\\users\\josem\\appdata\\local\\programs\\python\\python39\\lib\\site-packages (from matplotlib!=3.6.1,>=3.4->seaborn) (6.4.5)\n",
      "Requirement already satisfied: packaging>=20.0 in c:\\users\\josem\\appdata\\local\\programs\\python\\python39\\lib\\site-packages (from matplotlib!=3.6.1,>=3.4->seaborn) (24.1)\n",
      "Requirement already satisfied: tzdata>=2022.7 in c:\\users\\josem\\appdata\\local\\programs\\python\\python39\\lib\\site-packages (from pandas>=1.2->seaborn) (2024.2)\n",
      "Requirement already satisfied: pytz>=2020.1 in c:\\users\\josem\\appdata\\local\\programs\\python\\python39\\lib\\site-packages (from pandas>=1.2->seaborn) (2024.2)\n",
      "Requirement already satisfied: zipp>=3.1.0 in c:\\users\\josem\\appdata\\local\\programs\\python\\python39\\lib\\site-packages (from importlib-resources>=3.2.0->matplotlib!=3.6.1,>=3.4->seaborn) (3.20.2)\n",
      "Requirement already satisfied: six>=1.5 in c:\\users\\josem\\appdata\\local\\programs\\python\\python39\\lib\\site-packages (from python-dateutil>=2.7->matplotlib!=3.6.1,>=3.4->seaborn) (1.16.0)\n",
      "Note: you may need to restart the kernel to use updated packages.\n"
     ]
    },
    {
     "name": "stderr",
     "output_type": "stream",
     "text": [
      "WARNING: You are using pip version 22.0.4; however, version 25.0.1 is available.\n",
      "You should consider upgrading via the 'c:\\Users\\josem\\AppData\\Local\\Programs\\Python\\Python39\\python.exe -m pip install --upgrade pip' command.\n"
     ]
    },
    {
     "name": "stdout",
     "output_type": "stream",
     "text": [
      "Note: you may need to restart the kernel to use updated packages.Requirement already satisfied: scikit-learn in c:\\users\\josem\\appdata\\local\\programs\\python\\python39\\lib\\site-packages (1.5.2)\n",
      "Requirement already satisfied: numpy>=1.19.5 in c:\\users\\josem\\appdata\\local\\programs\\python\\python39\\lib\\site-packages (from scikit-learn) (2.0.2)\n",
      "Requirement already satisfied: scipy>=1.6.0 in c:\\users\\josem\\appdata\\local\\programs\\python\\python39\\lib\\site-packages (from scikit-learn) (1.13.1)\n",
      "Requirement already satisfied: joblib>=1.2.0 in c:\\users\\josem\\appdata\\local\\programs\\python\\python39\\lib\\site-packages (from scikit-learn) (1.4.2)\n",
      "Requirement already satisfied: threadpoolctl>=3.1.0 in c:\\users\\josem\\appdata\\local\\programs\\python\\python39\\lib\\site-packages (from scikit-learn) (3.5.0)\n",
      "\n"
     ]
    },
    {
     "name": "stderr",
     "output_type": "stream",
     "text": [
      "WARNING: You are using pip version 22.0.4; however, version 25.0.1 is available.\n",
      "You should consider upgrading via the 'c:\\Users\\josem\\AppData\\Local\\Programs\\Python\\Python39\\python.exe -m pip install --upgrade pip' command.\n"
     ]
    },
    {
     "name": "stdout",
     "output_type": "stream",
     "text": [
      "Requirement already satisfied: scipy in c:\\users\\josem\\appdata\\local\\programs\\python\\python39\\lib\\site-packages (1.13.1)\n",
      "Requirement already satisfied: numpy<2.3,>=1.22.4 in c:\\users\\josem\\appdata\\local\\programs\\python\\python39\\lib\\site-packages (from scipy) (2.0.2)\n",
      "Note: you may need to restart the kernel to use updated packages.\n"
     ]
    },
    {
     "name": "stderr",
     "output_type": "stream",
     "text": [
      "WARNING: You are using pip version 22.0.4; however, version 25.0.1 is available.\n",
      "You should consider upgrading via the 'c:\\Users\\josem\\AppData\\Local\\Programs\\Python\\Python39\\python.exe -m pip install --upgrade pip' command.\n"
     ]
    },
    {
     "name": "stdout",
     "output_type": "stream",
     "text": [
      "Requirement already satisfied: jupyter in c:\\users\\josem\\appdata\\local\\programs\\python\\python39\\lib\\site-packages (1.1.1)\n",
      "Requirement already satisfied: ipykernel in c:\\users\\josem\\appdata\\roaming\\python\\python39\\site-packages (from jupyter) (6.29.5)\n",
      "Requirement already satisfied: jupyterlab in c:\\users\\josem\\appdata\\local\\programs\\python\\python39\\lib\\site-packages (from jupyter) (4.3.5)\n",
      "Requirement already satisfied: notebook in c:\\users\\josem\\appdata\\local\\programs\\python\\python39\\lib\\site-packages (from jupyter) (7.3.2)\n",
      "Requirement already satisfied: ipywidgets in c:\\users\\josem\\appdata\\local\\programs\\python\\python39\\lib\\site-packages (from jupyter) (8.1.5)\n",
      "Requirement already satisfied: nbconvert in c:\\users\\josem\\appdata\\local\\programs\\python\\python39\\lib\\site-packages (from jupyter) (7.16.6)\n",
      "Requirement already satisfied: jupyter-console in c:\\users\\josem\\appdata\\local\\programs\\python\\python39\\lib\\site-packages (from jupyter) (6.6.3)\n",
      "Requirement already satisfied: nest-asyncio in c:\\users\\josem\\appdata\\roaming\\python\\python39\\site-packages (from ipykernel->jupyter) (1.6.0)\n",
      "Requirement already satisfied: traitlets>=5.4.0 in c:\\users\\josem\\appdata\\roaming\\python\\python39\\site-packages (from ipykernel->jupyter) (5.14.3)\n",
      "Requirement already satisfied: tornado>=6.1 in c:\\users\\josem\\appdata\\roaming\\python\\python39\\site-packages (from ipykernel->jupyter) (6.4.2)\n",
      "Requirement already satisfied: psutil in c:\\users\\josem\\appdata\\roaming\\python\\python39\\site-packages (from ipykernel->jupyter) (6.1.0)\n",
      "Requirement already satisfied: jupyter-core!=5.0.*,>=4.12 in c:\\users\\josem\\appdata\\roaming\\python\\python39\\site-packages (from ipykernel->jupyter) (5.7.2)\n",
      "Requirement already satisfied: pyzmq>=24 in c:\\users\\josem\\appdata\\roaming\\python\\python39\\site-packages (from ipykernel->jupyter) (26.2.0)\n",
      "Requirement already satisfied: matplotlib-inline>=0.1 in c:\\users\\josem\\appdata\\roaming\\python\\python39\\site-packages (from ipykernel->jupyter) (0.1.7)\n",
      "Requirement already satisfied: packaging in c:\\users\\josem\\appdata\\local\\programs\\python\\python39\\lib\\site-packages (from ipykernel->jupyter) (24.1)\n",
      "Requirement already satisfied: jupyter-client>=6.1.12 in c:\\users\\josem\\appdata\\roaming\\python\\python39\\site-packages (from ipykernel->jupyter) (8.6.3)\n",
      "Requirement already satisfied: debugpy>=1.6.5 in c:\\users\\josem\\appdata\\roaming\\python\\python39\\site-packages (from ipykernel->jupyter) (1.8.9)\n",
      "Requirement already satisfied: ipython>=7.23.1 in c:\\users\\josem\\appdata\\roaming\\python\\python39\\site-packages (from ipykernel->jupyter) (8.18.1)\n",
      "Requirement already satisfied: comm>=0.1.1 in c:\\users\\josem\\appdata\\roaming\\python\\python39\\site-packages (from ipykernel->jupyter) (0.2.2)\n",
      "Requirement already satisfied: widgetsnbextension~=4.0.12 in c:\\users\\josem\\appdata\\local\\programs\\python\\python39\\lib\\site-packages (from ipywidgets->jupyter) (4.0.13)\n",
      "Requirement already satisfied: jupyterlab-widgets~=3.0.12 in c:\\users\\josem\\appdata\\local\\programs\\python\\python39\\lib\\site-packages (from ipywidgets->jupyter) (3.0.13)\n",
      "Requirement already satisfied: pygments in c:\\users\\josem\\appdata\\roaming\\python\\python39\\site-packages (from jupyter-console->jupyter) (2.18.0)\n",
      "Requirement already satisfied: prompt-toolkit>=3.0.30 in c:\\users\\josem\\appdata\\roaming\\python\\python39\\site-packages (from jupyter-console->jupyter) (3.0.48)\n",
      "Requirement already satisfied: tomli>=1.2.2 in c:\\users\\josem\\appdata\\local\\programs\\python\\python39\\lib\\site-packages (from jupyterlab->jupyter) (2.2.1)\n",
      "Requirement already satisfied: jupyter-server<3,>=2.4.0 in c:\\users\\josem\\appdata\\local\\programs\\python\\python39\\lib\\site-packages (from jupyterlab->jupyter) (2.15.0)\n",
      "Requirement already satisfied: httpx>=0.25.0 in c:\\users\\josem\\appdata\\local\\programs\\python\\python39\\lib\\site-packages (from jupyterlab->jupyter) (0.28.1)\n",
      "Requirement already satisfied: notebook-shim>=0.2 in c:\\users\\josem\\appdata\\local\\programs\\python\\python39\\lib\\site-packages (from jupyterlab->jupyter) (0.2.4)\n",
      "Requirement already satisfied: async-lru>=1.0.0 in c:\\users\\josem\\appdata\\local\\programs\\python\\python39\\lib\\site-packages (from jupyterlab->jupyter) (2.0.4)\n",
      "Requirement already satisfied: jupyterlab-server<3,>=2.27.1 in c:\\users\\josem\\appdata\\local\\programs\\python\\python39\\lib\\site-packages (from jupyterlab->jupyter) (2.27.3)\n",
      "Requirement already satisfied: jupyter-lsp>=2.0.0 in c:\\users\\josem\\appdata\\local\\programs\\python\\python39\\lib\\site-packages (from jupyterlab->jupyter) (2.2.5)\n",
      "Requirement already satisfied: importlib-metadata>=4.8.3 in c:\\users\\josem\\appdata\\roaming\\python\\python39\\site-packages (from jupyterlab->jupyter) (8.5.0)\n",
      "Requirement already satisfied: setuptools>=40.8.0 in c:\\users\\josem\\appdata\\local\\programs\\python\\python39\\lib\\site-packages (from jupyterlab->jupyter) (75.1.0)\n",
      "Requirement already satisfied: jinja2>=3.0.3 in c:\\users\\josem\\appdata\\local\\programs\\python\\python39\\lib\\site-packages (from jupyterlab->jupyter) (3.1.5)\n",
      "Requirement already satisfied: bleach[css]!=5.0.0 in c:\\users\\josem\\appdata\\local\\programs\\python\\python39\\lib\\site-packages (from nbconvert->jupyter) (6.2.0)\n",
      "Requirement already satisfied: pandocfilters>=1.4.1 in c:\\users\\josem\\appdata\\local\\programs\\python\\python39\\lib\\site-packages (from nbconvert->jupyter) (1.5.1)\n",
      "Requirement already satisfied: markupsafe>=2.0 in c:\\users\\josem\\appdata\\local\\programs\\python\\python39\\lib\\site-packages (from nbconvert->jupyter) (3.0.2)\n",
      "Requirement already satisfied: defusedxml in c:\\users\\josem\\appdata\\local\\programs\\python\\python39\\lib\\site-packages (from nbconvert->jupyter) (0.7.1)\n",
      "Requirement already satisfied: beautifulsoup4 in c:\\users\\josem\\appdata\\local\\programs\\python\\python39\\lib\\site-packages (from nbconvert->jupyter) (4.13.3)\n",
      "Requirement already satisfied: jupyterlab-pygments in c:\\users\\josem\\appdata\\local\\programs\\python\\python39\\lib\\site-packages (from nbconvert->jupyter) (0.3.0)\n",
      "Requirement already satisfied: nbclient>=0.5.0 in c:\\users\\josem\\appdata\\local\\programs\\python\\python39\\lib\\site-packages (from nbconvert->jupyter) (0.10.2)\n",
      "Requirement already satisfied: nbformat>=5.7 in c:\\users\\josem\\appdata\\local\\programs\\python\\python39\\lib\\site-packages (from nbconvert->jupyter) (5.10.4)\n",
      "Requirement already satisfied: mistune<4,>=2.0.3 in c:\\users\\josem\\appdata\\local\\programs\\python\\python39\\lib\\site-packages (from nbconvert->jupyter) (3.1.1)\n",
      "Requirement already satisfied: typing-extensions>=4.0.0 in c:\\users\\josem\\appdata\\local\\programs\\python\\python39\\lib\\site-packages (from async-lru>=1.0.0->jupyterlab->jupyter) (4.12.2)\n",
      "Requirement already satisfied: webencodings in c:\\users\\josem\\appdata\\local\\programs\\python\\python39\\lib\\site-packages (from bleach[css]!=5.0.0->nbconvert->jupyter) (0.5.1)\n",
      "Requirement already satisfied: tinycss2<1.5,>=1.1.0 in c:\\users\\josem\\appdata\\local\\programs\\python\\python39\\lib\\site-packages (from bleach[css]!=5.0.0->nbconvert->jupyter) (1.4.0)\n",
      "Requirement already satisfied: anyio in c:\\users\\josem\\appdata\\local\\programs\\python\\python39\\lib\\site-packages (from httpx>=0.25.0->jupyterlab->jupyter) (4.8.0)\n",
      "Requirement already satisfied: certifi in c:\\users\\josem\\appdata\\local\\programs\\python\\python39\\lib\\site-packages (from httpx>=0.25.0->jupyterlab->jupyter) (2024.8.30)\n",
      "Requirement already satisfied: httpcore==1.* in c:\\users\\josem\\appdata\\local\\programs\\python\\python39\\lib\\site-packages (from httpx>=0.25.0->jupyterlab->jupyter) (1.0.7)\n",
      "Requirement already satisfied: idna in c:\\users\\josem\\appdata\\local\\programs\\python\\python39\\lib\\site-packages (from httpx>=0.25.0->jupyterlab->jupyter) (3.10)\n",
      "Requirement already satisfied: h11<0.15,>=0.13 in c:\\users\\josem\\appdata\\local\\programs\\python\\python39\\lib\\site-packages (from httpcore==1.*->httpx>=0.25.0->jupyterlab->jupyter) (0.14.0)\n",
      "Requirement already satisfied: zipp>=3.20 in c:\\users\\josem\\appdata\\local\\programs\\python\\python39\\lib\\site-packages (from importlib-metadata>=4.8.3->jupyterlab->jupyter) (3.20.2)\n",
      "Requirement already satisfied: stack-data in c:\\users\\josem\\appdata\\roaming\\python\\python39\\site-packages (from ipython>=7.23.1->ipykernel->jupyter) (0.6.3)\n",
      "Requirement already satisfied: colorama in c:\\users\\josem\\appdata\\roaming\\python\\python39\\site-packages (from ipython>=7.23.1->ipykernel->jupyter) (0.4.6)\n",
      "Requirement already satisfied: exceptiongroup in c:\\users\\josem\\appdata\\roaming\\python\\python39\\site-packages (from ipython>=7.23.1->ipykernel->jupyter) (1.2.2)\n",
      "Requirement already satisfied: decorator in c:\\users\\josem\\appdata\\roaming\\python\\python39\\site-packages (from ipython>=7.23.1->ipykernel->jupyter) (5.1.1)\n",
      "Requirement already satisfied: jedi>=0.16 in c:\\users\\josem\\appdata\\roaming\\python\\python39\\site-packages (from ipython>=7.23.1->ipykernel->jupyter) (0.19.2)\n",
      "Requirement already satisfied: python-dateutil>=2.8.2 in c:\\users\\josem\\appdata\\local\\programs\\python\\python39\\lib\\site-packages (from jupyter-client>=6.1.12->ipykernel->jupyter) (2.9.0.post0)\n",
      "Requirement already satisfied: pywin32>=300 in c:\\users\\josem\\appdata\\roaming\\python\\python39\\site-packages (from jupyter-core!=5.0.*,>=4.12->ipykernel->jupyter) (308)\n",
      "Requirement already satisfied: platformdirs>=2.5 in c:\\users\\josem\\appdata\\local\\programs\\python\\python39\\lib\\site-packages (from jupyter-core!=5.0.*,>=4.12->ipykernel->jupyter) (4.3.6)\n",
      "Requirement already satisfied: websocket-client>=1.7 in c:\\users\\josem\\appdata\\local\\programs\\python\\python39\\lib\\site-packages (from jupyter-server<3,>=2.4.0->jupyterlab->jupyter) (1.8.0)\n",
      "Requirement already satisfied: jupyter-server-terminals>=0.4.4 in c:\\users\\josem\\appdata\\local\\programs\\python\\python39\\lib\\site-packages (from jupyter-server<3,>=2.4.0->jupyterlab->jupyter) (0.5.3)\n",
      "Requirement already satisfied: terminado>=0.8.3 in c:\\users\\josem\\appdata\\local\\programs\\python\\python39\\lib\\site-packages (from jupyter-server<3,>=2.4.0->jupyterlab->jupyter) (0.18.1)\n",
      "Requirement already satisfied: send2trash>=1.8.2 in c:\\users\\josem\\appdata\\local\\programs\\python\\python39\\lib\\site-packages (from jupyter-server<3,>=2.4.0->jupyterlab->jupyter) (1.8.3)\n",
      "Requirement already satisfied: overrides>=5.0 in c:\\users\\josem\\appdata\\local\\programs\\python\\python39\\lib\\site-packages (from jupyter-server<3,>=2.4.0->jupyterlab->jupyter) (7.7.0)\n",
      "Requirement already satisfied: argon2-cffi>=21.1 in c:\\users\\josem\\appdata\\local\\programs\\python\\python39\\lib\\site-packages (from jupyter-server<3,>=2.4.0->jupyterlab->jupyter) (23.1.0)\n",
      "Requirement already satisfied: prometheus-client>=0.9 in c:\\users\\josem\\appdata\\local\\programs\\python\\python39\\lib\\site-packages (from jupyter-server<3,>=2.4.0->jupyterlab->jupyter) (0.21.1)\n",
      "Requirement already satisfied: jupyter-events>=0.11.0 in c:\\users\\josem\\appdata\\local\\programs\\python\\python39\\lib\\site-packages (from jupyter-server<3,>=2.4.0->jupyterlab->jupyter) (0.12.0)\n",
      "Requirement already satisfied: pywinpty>=2.0.1 in c:\\users\\josem\\appdata\\local\\programs\\python\\python39\\lib\\site-packages (from jupyter-server<3,>=2.4.0->jupyterlab->jupyter) (2.0.15)\n",
      "Requirement already satisfied: requests>=2.31 in c:\\users\\josem\\appdata\\local\\programs\\python\\python39\\lib\\site-packages (from jupyterlab-server<3,>=2.27.1->jupyterlab->jupyter) (2.32.3)\n",
      "Requirement already satisfied: jsonschema>=4.18.0 in c:\\users\\josem\\appdata\\local\\programs\\python\\python39\\lib\\site-packages (from jupyterlab-server<3,>=2.27.1->jupyterlab->jupyter) (4.23.0)\n",
      "Requirement already satisfied: babel>=2.10 in c:\\users\\josem\\appdata\\local\\programs\\python\\python39\\lib\\site-packages (from jupyterlab-server<3,>=2.27.1->jupyterlab->jupyter) (2.17.0)\n",
      "Requirement already satisfied: json5>=0.9.0 in c:\\users\\josem\\appdata\\local\\programs\\python\\python39\\lib\\site-packages (from jupyterlab-server<3,>=2.27.1->jupyterlab->jupyter) (0.10.0)\n",
      "Requirement already satisfied: fastjsonschema>=2.15 in c:\\users\\josem\\appdata\\local\\programs\\python\\python39\\lib\\site-packages (from nbformat>=5.7->nbconvert->jupyter) (2.21.1)\n",
      "Requirement already satisfied: wcwidth in c:\\users\\josem\\appdata\\roaming\\python\\python39\\site-packages (from prompt-toolkit>=3.0.30->jupyter-console->jupyter) (0.2.13)\n",
      "Requirement already satisfied: soupsieve>1.2 in c:\\users\\josem\\appdata\\local\\programs\\python\\python39\\lib\\site-packages (from beautifulsoup4->nbconvert->jupyter) (2.6)\n",
      "Requirement already satisfied: sniffio>=1.1 in c:\\users\\josem\\appdata\\local\\programs\\python\\python39\\lib\\site-packages (from anyio->httpx>=0.25.0->jupyterlab->jupyter) (1.3.1)\n",
      "Requirement already satisfied: argon2-cffi-bindings in c:\\users\\josem\\appdata\\local\\programs\\python\\python39\\lib\\site-packages (from argon2-cffi>=21.1->jupyter-server<3,>=2.4.0->jupyterlab->jupyter) (21.2.0)\n",
      "Requirement already satisfied: parso<0.9.0,>=0.8.4 in c:\\users\\josem\\appdata\\roaming\\python\\python39\\site-packages (from jedi>=0.16->ipython>=7.23.1->ipykernel->jupyter) (0.8.4)\n",
      "Requirement already satisfied: jsonschema-specifications>=2023.03.6 in c:\\users\\josem\\appdata\\local\\programs\\python\\python39\\lib\\site-packages (from jsonschema>=4.18.0->jupyterlab-server<3,>=2.27.1->jupyterlab->jupyter) (2024.10.1)\n",
      "Requirement already satisfied: attrs>=22.2.0 in c:\\users\\josem\\appdata\\local\\programs\\python\\python39\\lib\\site-packages (from jsonschema>=4.18.0->jupyterlab-server<3,>=2.27.1->jupyterlab->jupyter) (25.1.0)\n",
      "Requirement already satisfied: referencing>=0.28.4 in c:\\users\\josem\\appdata\\local\\programs\\python\\python39\\lib\\site-packages (from jsonschema>=4.18.0->jupyterlab-server<3,>=2.27.1->jupyterlab->jupyter) (0.36.2)\n",
      "Requirement already satisfied: rpds-py>=0.7.1 in c:\\users\\josem\\appdata\\local\\programs\\python\\python39\\lib\\site-packages (from jsonschema>=4.18.0->jupyterlab-server<3,>=2.27.1->jupyterlab->jupyter) (0.22.3)\n",
      "Requirement already satisfied: rfc3339-validator in c:\\users\\josem\\appdata\\local\\programs\\python\\python39\\lib\\site-packages (from jupyter-events>=0.11.0->jupyter-server<3,>=2.4.0->jupyterlab->jupyter) (0.1.4)\n",
      "Requirement already satisfied: pyyaml>=5.3 in c:\\users\\josem\\appdata\\local\\programs\\python\\python39\\lib\\site-packages (from jupyter-events>=0.11.0->jupyter-server<3,>=2.4.0->jupyterlab->jupyter) (6.0.2)\n",
      "Requirement already satisfied: python-json-logger>=2.0.4 in c:\\users\\josem\\appdata\\local\\programs\\python\\python39\\lib\\site-packages (from jupyter-events>=0.11.0->jupyter-server<3,>=2.4.0->jupyterlab->jupyter) (3.2.1)\n",
      "Requirement already satisfied: rfc3986-validator>=0.1.1 in c:\\users\\josem\\appdata\\local\\programs\\python\\python39\\lib\\site-packages (from jupyter-events>=0.11.0->jupyter-server<3,>=2.4.0->jupyterlab->jupyter) (0.1.1)\n",
      "Requirement already satisfied: six>=1.5 in c:\\users\\josem\\appdata\\local\\programs\\python\\python39\\lib\\site-packages (from python-dateutil>=2.8.2->jupyter-client>=6.1.12->ipykernel->jupyter) (1.16.0)\n",
      "Requirement already satisfied: urllib3<3,>=1.21.1 in c:\\users\\josem\\appdata\\local\\programs\\python\\python39\\lib\\site-packages (from requests>=2.31->jupyterlab-server<3,>=2.27.1->jupyterlab->jupyter) (2.2.3)\n",
      "Requirement already satisfied: charset-normalizer<4,>=2 in c:\\users\\josem\\appdata\\local\\programs\\python\\python39\\lib\\site-packages (from requests>=2.31->jupyterlab-server<3,>=2.27.1->jupyterlab->jupyter) (3.4.0)\n",
      "Requirement already satisfied: pure-eval in c:\\users\\josem\\appdata\\roaming\\python\\python39\\site-packages (from stack-data->ipython>=7.23.1->ipykernel->jupyter) (0.2.3)\n",
      "Requirement already satisfied: asttokens>=2.1.0 in c:\\users\\josem\\appdata\\roaming\\python\\python39\\site-packages (from stack-data->ipython>=7.23.1->ipykernel->jupyter) (2.4.1)\n",
      "Requirement already satisfied: executing>=1.2.0 in c:\\users\\josem\\appdata\\roaming\\python\\python39\\site-packages (from stack-data->ipython>=7.23.1->ipykernel->jupyter) (2.1.0)\n",
      "Requirement already satisfied: fqdn in c:\\users\\josem\\appdata\\local\\programs\\python\\python39\\lib\\site-packages (from jsonschema>=4.18.0->jupyterlab-server<3,>=2.27.1->jupyterlab->jupyter) (1.5.1)\n",
      "Requirement already satisfied: isoduration in c:\\users\\josem\\appdata\\local\\programs\\python\\python39\\lib\\site-packages (from jsonschema>=4.18.0->jupyterlab-server<3,>=2.27.1->jupyterlab->jupyter) (20.11.0)\n",
      "Requirement already satisfied: jsonpointer>1.13 in c:\\users\\josem\\appdata\\local\\programs\\python\\python39\\lib\\site-packages (from jsonschema>=4.18.0->jupyterlab-server<3,>=2.27.1->jupyterlab->jupyter) (3.0.0)\n",
      "Requirement already satisfied: webcolors>=24.6.0 in c:\\users\\josem\\appdata\\local\\programs\\python\\python39\\lib\\site-packages (from jsonschema>=4.18.0->jupyterlab-server<3,>=2.27.1->jupyterlab->jupyter) (24.11.1)\n",
      "Requirement already satisfied: uri-template in c:\\users\\josem\\appdata\\local\\programs\\python\\python39\\lib\\site-packages (from jsonschema>=4.18.0->jupyterlab-server<3,>=2.27.1->jupyterlab->jupyter) (1.3.0)\n",
      "Requirement already satisfied: cffi>=1.0.1 in c:\\users\\josem\\appdata\\local\\programs\\python\\python39\\lib\\site-packages (from argon2-cffi-bindings->argon2-cffi>=21.1->jupyter-server<3,>=2.4.0->jupyterlab->jupyter) (1.17.1)\n",
      "Requirement already satisfied: pycparser in c:\\users\\josem\\appdata\\local\\programs\\python\\python39\\lib\\site-packages (from cffi>=1.0.1->argon2-cffi-bindings->argon2-cffi>=21.1->jupyter-server<3,>=2.4.0->jupyterlab->jupyter) (2.22)\n",
      "Requirement already satisfied: arrow>=0.15.0 in c:\\users\\josem\\appdata\\local\\programs\\python\\python39\\lib\\site-packages (from isoduration->jsonschema>=4.18.0->jupyterlab-server<3,>=2.27.1->jupyterlab->jupyter) (1.3.0)\n",
      "Requirement already satisfied: types-python-dateutil>=2.8.10 in c:\\users\\josem\\appdata\\local\\programs\\python\\python39\\lib\\site-packages (from arrow>=0.15.0->isoduration->jsonschema>=4.18.0->jupyterlab-server<3,>=2.27.1->jupyterlab->jupyter) (2.9.0.20241206)\n",
      "Note: you may need to restart the kernel to use updated packages.\n"
     ]
    },
    {
     "name": "stderr",
     "output_type": "stream",
     "text": [
      "WARNING: You are using pip version 22.0.4; however, version 25.0.1 is available.\n",
      "You should consider upgrading via the 'c:\\Users\\josem\\AppData\\Local\\Programs\\Python\\Python39\\python.exe -m pip install --upgrade pip' command.\n"
     ]
    },
    {
     "name": "stdout",
     "output_type": "stream",
     "text": [
      "Requirement already satisfied: swifter in c:\\users\\josem\\appdata\\local\\programs\\python\\python39\\lib\\site-packages (1.4.0)\n",
      "Requirement already satisfied: pandas>=1.0.0 in c:\\users\\josem\\appdata\\local\\programs\\python\\python39\\lib\\site-packages (from swifter) (2.2.3)\n",
      "Requirement already satisfied: psutil>=5.6.6 in c:\\users\\josem\\appdata\\roaming\\python\\python39\\site-packages (from swifter) (6.1.0)\n",
      "Requirement already satisfied: dask[dataframe]>=2.10.0 in c:\\users\\josem\\appdata\\local\\programs\\python\\python39\\lib\\site-packages (from swifter) (2024.8.0)\n",
      "Requirement already satisfied: tqdm>=4.33.0 in c:\\users\\josem\\appdata\\local\\programs\\python\\python39\\lib\\site-packages (from swifter) (4.67.1)\n",
      "Requirement already satisfied: fsspec>=2021.09.0 in c:\\users\\josem\\appdata\\local\\programs\\python\\python39\\lib\\site-packages (from dask[dataframe]>=2.10.0->swifter) (2025.2.0)\n",
      "Requirement already satisfied: click>=8.1 in c:\\users\\josem\\appdata\\local\\programs\\python\\python39\\lib\\site-packages (from dask[dataframe]>=2.10.0->swifter) (8.1.8)\n",
      "Requirement already satisfied: partd>=1.4.0 in c:\\users\\josem\\appdata\\local\\programs\\python\\python39\\lib\\site-packages (from dask[dataframe]>=2.10.0->swifter) (1.4.2)\n",
      "Requirement already satisfied: pyyaml>=5.3.1 in c:\\users\\josem\\appdata\\local\\programs\\python\\python39\\lib\\site-packages (from dask[dataframe]>=2.10.0->swifter) (6.0.2)\n",
      "Requirement already satisfied: importlib-metadata>=4.13.0 in c:\\users\\josem\\appdata\\roaming\\python\\python39\\site-packages (from dask[dataframe]>=2.10.0->swifter) (8.5.0)\n",
      "Requirement already satisfied: cloudpickle>=1.5.0 in c:\\users\\josem\\appdata\\local\\programs\\python\\python39\\lib\\site-packages (from dask[dataframe]>=2.10.0->swifter) (3.1.1)\n",
      "Requirement already satisfied: toolz>=0.10.0 in c:\\users\\josem\\appdata\\local\\programs\\python\\python39\\lib\\site-packages (from dask[dataframe]>=2.10.0->swifter) (1.0.0)\n",
      "Requirement already satisfied: packaging>=20.0 in c:\\users\\josem\\appdata\\local\\programs\\python\\python39\\lib\\site-packages (from dask[dataframe]>=2.10.0->swifter) (24.1)\n",
      "Requirement already satisfied: dask-expr<1.2,>=1.1 in c:\\users\\josem\\appdata\\local\\programs\\python\\python39\\lib\\site-packages (from dask[dataframe]>=2.10.0->swifter) (1.1.10)\n",
      "Requirement already satisfied: numpy>=1.22.4 in c:\\users\\josem\\appdata\\local\\programs\\python\\python39\\lib\\site-packages (from pandas>=1.0.0->swifter) (2.0.2)\n",
      "Requirement already satisfied: pytz>=2020.1 in c:\\users\\josem\\appdata\\local\\programs\\python\\python39\\lib\\site-packages (from pandas>=1.0.0->swifter) (2024.2)\n",
      "Requirement already satisfied: tzdata>=2022.7 in c:\\users\\josem\\appdata\\local\\programs\\python\\python39\\lib\\site-packages (from pandas>=1.0.0->swifter) (2024.2)\n",
      "Requirement already satisfied: python-dateutil>=2.8.2 in c:\\users\\josem\\appdata\\local\\programs\\python\\python39\\lib\\site-packages (from pandas>=1.0.0->swifter) (2.9.0.post0)\n",
      "Requirement already satisfied: colorama in c:\\users\\josem\\appdata\\roaming\\python\\python39\\site-packages (from tqdm>=4.33.0->swifter) (0.4.6)\n",
      "Requirement already satisfied: pyarrow>=7.0.0 in c:\\users\\josem\\appdata\\local\\programs\\python\\python39\\lib\\site-packages (from dask-expr<1.2,>=1.1->dask[dataframe]>=2.10.0->swifter) (19.0.1)\n",
      "Requirement already satisfied: zipp>=3.20 in c:\\users\\josem\\appdata\\local\\programs\\python\\python39\\lib\\site-packages (from importlib-metadata>=4.13.0->dask[dataframe]>=2.10.0->swifter) (3.20.2)\n",
      "Requirement already satisfied: locket in c:\\users\\josem\\appdata\\local\\programs\\python\\python39\\lib\\site-packages (from partd>=1.4.0->dask[dataframe]>=2.10.0->swifter) (1.0.0)\n",
      "Requirement already satisfied: six>=1.5 in c:\\users\\josem\\appdata\\local\\programs\\python\\python39\\lib\\site-packages (from python-dateutil>=2.8.2->pandas>=1.0.0->swifter) (1.16.0)\n",
      "Note: you may need to restart the kernel to use updated packages.\n"
     ]
    },
    {
     "name": "stderr",
     "output_type": "stream",
     "text": [
      "WARNING: You are using pip version 22.0.4; however, version 25.0.1 is available.\n",
      "You should consider upgrading via the 'c:\\Users\\josem\\AppData\\Local\\Programs\\Python\\Python39\\python.exe -m pip install --upgrade pip' command.\n"
     ]
    },
    {
     "name": "stdout",
     "output_type": "stream",
     "text": [
      "Requirement already satisfied: num2words in c:\\users\\josem\\appdata\\local\\programs\\python\\python39\\lib\\site-packages (0.5.14)\n",
      "Requirement already satisfied: docopt>=0.6.2 in c:\\users\\josem\\appdata\\local\\programs\\python\\python39\\lib\\site-packages (from num2words) (0.6.2)\n",
      "Note: you may need to restart the kernel to use updated packages.\n"
     ]
    },
    {
     "name": "stderr",
     "output_type": "stream",
     "text": [
      "WARNING: You are using pip version 22.0.4; however, version 25.0.1 is available.\n",
      "You should consider upgrading via the 'c:\\Users\\josem\\AppData\\Local\\Programs\\Python\\Python39\\python.exe -m pip install --upgrade pip' command.\n"
     ]
    },
    {
     "name": "stdout",
     "output_type": "stream",
     "text": [
      "Requirement already satisfied: inflect in c:\\users\\josem\\appdata\\local\\programs\\python\\python39\\lib\\site-packages (7.5.0)\n",
      "Requirement already satisfied: typeguard>=4.0.1 in c:\\users\\josem\\appdata\\local\\programs\\python\\python39\\lib\\site-packages (from inflect) (4.4.2)\n",
      "Requirement already satisfied: more_itertools>=8.5.0 in c:\\users\\josem\\appdata\\local\\programs\\python\\python39\\lib\\site-packages (from inflect) (10.6.0)\n",
      "Requirement already satisfied: typing_extensions>=4.10.0 in c:\\users\\josem\\appdata\\local\\programs\\python\\python39\\lib\\site-packages (from typeguard>=4.0.1->inflect) (4.12.2)\n",
      "Requirement already satisfied: importlib_metadata>=3.6 in c:\\users\\josem\\appdata\\roaming\\python\\python39\\site-packages (from typeguard>=4.0.1->inflect) (8.5.0)\n",
      "Requirement already satisfied: zipp>=3.20 in c:\\users\\josem\\appdata\\local\\programs\\python\\python39\\lib\\site-packages (from importlib_metadata>=3.6->typeguard>=4.0.1->inflect) (3.20.2)\n",
      "Note: you may need to restart the kernel to use updated packages.\n"
     ]
    },
    {
     "name": "stderr",
     "output_type": "stream",
     "text": [
      "WARNING: You are using pip version 22.0.4; however, version 25.0.1 is available.\n",
      "You should consider upgrading via the 'c:\\Users\\josem\\AppData\\Local\\Programs\\Python\\Python39\\python.exe -m pip install --upgrade pip' command.\n"
     ]
    },
    {
     "name": "stdout",
     "output_type": "stream",
     "text": [
      "Requirement already satisfied: spacy in c:\\users\\josem\\appdata\\local\\programs\\python\\python39\\lib\\site-packages (3.8.3)\n",
      "Requirement already satisfied: weasel<0.5.0,>=0.1.0 in c:\\users\\josem\\appdata\\local\\programs\\python\\python39\\lib\\site-packages (from spacy) (0.4.1)\n",
      "Requirement already satisfied: preshed<3.1.0,>=3.0.2 in c:\\users\\josem\\appdata\\local\\programs\\python\\python39\\lib\\site-packages (from spacy) (3.0.9)\n",
      "Requirement already satisfied: typer<1.0.0,>=0.3.0 in c:\\users\\josem\\appdata\\local\\programs\\python\\python39\\lib\\site-packages (from spacy) (0.15.1)\n",
      "Requirement already satisfied: murmurhash<1.1.0,>=0.28.0 in c:\\users\\josem\\appdata\\local\\programs\\python\\python39\\lib\\site-packages (from spacy) (1.0.12)\n",
      "Requirement already satisfied: spacy-legacy<3.1.0,>=3.0.11 in c:\\users\\josem\\appdata\\local\\programs\\python\\python39\\lib\\site-packages (from spacy) (3.0.12)\n",
      "Requirement already satisfied: srsly<3.0.0,>=2.4.3 in c:\\users\\josem\\appdata\\local\\programs\\python\\python39\\lib\\site-packages (from spacy) (2.5.1)\n",
      "Requirement already satisfied: tqdm<5.0.0,>=4.38.0 in c:\\users\\josem\\appdata\\local\\programs\\python\\python39\\lib\\site-packages (from spacy) (4.67.1)\n",
      "Requirement already satisfied: cymem<2.1.0,>=2.0.2 in c:\\users\\josem\\appdata\\local\\programs\\python\\python39\\lib\\site-packages (from spacy) (2.0.11)\n",
      "Requirement already satisfied: catalogue<2.1.0,>=2.0.6 in c:\\users\\josem\\appdata\\local\\programs\\python\\python39\\lib\\site-packages (from spacy) (2.0.10)\n",
      "Requirement already satisfied: jinja2 in c:\\users\\josem\\appdata\\local\\programs\\python\\python39\\lib\\site-packages (from spacy) (3.1.5)\n",
      "Requirement already satisfied: thinc<8.4.0,>=8.3.0 in c:\\users\\josem\\appdata\\local\\programs\\python\\python39\\lib\\site-packages (from spacy) (8.3.4)\n",
      "Requirement already satisfied: numpy>=1.19.0 in c:\\users\\josem\\appdata\\local\\programs\\python\\python39\\lib\\site-packages (from spacy) (2.0.2)\n",
      "Requirement already satisfied: wasabi<1.2.0,>=0.9.1 in c:\\users\\josem\\appdata\\local\\programs\\python\\python39\\lib\\site-packages (from spacy) (1.1.3)\n",
      "Requirement already satisfied: pydantic!=1.8,!=1.8.1,<3.0.0,>=1.7.4 in c:\\users\\josem\\appdata\\local\\programs\\python\\python39\\lib\\site-packages (from spacy) (2.10.6)\n",
      "Requirement already satisfied: packaging>=20.0 in c:\\users\\josem\\appdata\\local\\programs\\python\\python39\\lib\\site-packages (from spacy) (24.1)\n",
      "Requirement already satisfied: spacy-loggers<2.0.0,>=1.0.0 in c:\\users\\josem\\appdata\\local\\programs\\python\\python39\\lib\\site-packages (from spacy) (1.0.5)\n",
      "Requirement already satisfied: requests<3.0.0,>=2.13.0 in c:\\users\\josem\\appdata\\local\\programs\\python\\python39\\lib\\site-packages (from spacy) (2.32.3)\n",
      "Requirement already satisfied: langcodes<4.0.0,>=3.2.0 in c:\\users\\josem\\appdata\\local\\programs\\python\\python39\\lib\\site-packages (from spacy) (3.5.0)\n",
      "Requirement already satisfied: setuptools in c:\\users\\josem\\appdata\\local\\programs\\python\\python39\\lib\\site-packages (from spacy) (75.1.0)\n",
      "Requirement already satisfied: language-data>=1.2 in c:\\users\\josem\\appdata\\local\\programs\\python\\python39\\lib\\site-packages (from langcodes<4.0.0,>=3.2.0->spacy) (1.3.0)\n",
      "Requirement already satisfied: annotated-types>=0.6.0 in c:\\users\\josem\\appdata\\local\\programs\\python\\python39\\lib\\site-packages (from pydantic!=1.8,!=1.8.1,<3.0.0,>=1.7.4->spacy) (0.7.0)\n",
      "Requirement already satisfied: pydantic-core==2.27.2 in c:\\users\\josem\\appdata\\local\\programs\\python\\python39\\lib\\site-packages (from pydantic!=1.8,!=1.8.1,<3.0.0,>=1.7.4->spacy) (2.27.2)\n",
      "Requirement already satisfied: typing-extensions>=4.12.2 in c:\\users\\josem\\appdata\\local\\programs\\python\\python39\\lib\\site-packages (from pydantic!=1.8,!=1.8.1,<3.0.0,>=1.7.4->spacy) (4.12.2)\n",
      "Requirement already satisfied: idna<4,>=2.5 in c:\\users\\josem\\appdata\\local\\programs\\python\\python39\\lib\\site-packages (from requests<3.0.0,>=2.13.0->spacy) (3.10)\n",
      "Requirement already satisfied: certifi>=2017.4.17 in c:\\users\\josem\\appdata\\local\\programs\\python\\python39\\lib\\site-packages (from requests<3.0.0,>=2.13.0->spacy) (2024.8.30)\n",
      "Requirement already satisfied: urllib3<3,>=1.21.1 in c:\\users\\josem\\appdata\\local\\programs\\python\\python39\\lib\\site-packages (from requests<3.0.0,>=2.13.0->spacy) (2.2.3)\n",
      "Requirement already satisfied: charset-normalizer<4,>=2 in c:\\users\\josem\\appdata\\local\\programs\\python\\python39\\lib\\site-packages (from requests<3.0.0,>=2.13.0->spacy) (3.4.0)\n",
      "Requirement already satisfied: blis<1.3.0,>=1.2.0 in c:\\users\\josem\\appdata\\local\\programs\\python\\python39\\lib\\site-packages (from thinc<8.4.0,>=8.3.0->spacy) (1.2.0)\n",
      "Requirement already satisfied: confection<1.0.0,>=0.0.1 in c:\\users\\josem\\appdata\\local\\programs\\python\\python39\\lib\\site-packages (from thinc<8.4.0,>=8.3.0->spacy) (0.1.5)\n",
      "Requirement already satisfied: colorama in c:\\users\\josem\\appdata\\roaming\\python\\python39\\site-packages (from tqdm<5.0.0,>=4.38.0->spacy) (0.4.6)\n",
      "Requirement already satisfied: click>=8.0.0 in c:\\users\\josem\\appdata\\local\\programs\\python\\python39\\lib\\site-packages (from typer<1.0.0,>=0.3.0->spacy) (8.1.8)\n",
      "Requirement already satisfied: shellingham>=1.3.0 in c:\\users\\josem\\appdata\\local\\programs\\python\\python39\\lib\\site-packages (from typer<1.0.0,>=0.3.0->spacy) (1.5.4)\n",
      "Requirement already satisfied: rich>=10.11.0 in c:\\users\\josem\\appdata\\local\\programs\\python\\python39\\lib\\site-packages (from typer<1.0.0,>=0.3.0->spacy) (13.9.4)\n",
      "Requirement already satisfied: smart-open<8.0.0,>=5.2.1 in c:\\users\\josem\\appdata\\local\\programs\\python\\python39\\lib\\site-packages (from weasel<0.5.0,>=0.1.0->spacy) (7.1.0)\n",
      "Requirement already satisfied: cloudpathlib<1.0.0,>=0.7.0 in c:\\users\\josem\\appdata\\local\\programs\\python\\python39\\lib\\site-packages (from weasel<0.5.0,>=0.1.0->spacy) (0.20.0)\n",
      "Requirement already satisfied: MarkupSafe>=2.0 in c:\\users\\josem\\appdata\\local\\programs\\python\\python39\\lib\\site-packages (from jinja2->spacy) (3.0.2)\n",
      "Requirement already satisfied: marisa-trie>=1.1.0 in c:\\users\\josem\\appdata\\local\\programs\\python\\python39\\lib\\site-packages (from language-data>=1.2->langcodes<4.0.0,>=3.2.0->spacy) (1.2.1)\n",
      "Requirement already satisfied: markdown-it-py>=2.2.0 in c:\\users\\josem\\appdata\\local\\programs\\python\\python39\\lib\\site-packages (from rich>=10.11.0->typer<1.0.0,>=0.3.0->spacy) (3.0.0)\n",
      "Requirement already satisfied: pygments<3.0.0,>=2.13.0 in c:\\users\\josem\\appdata\\roaming\\python\\python39\\site-packages (from rich>=10.11.0->typer<1.0.0,>=0.3.0->spacy) (2.18.0)\n",
      "Requirement already satisfied: wrapt in c:\\users\\josem\\appdata\\local\\programs\\python\\python39\\lib\\site-packages (from smart-open<8.0.0,>=5.2.1->weasel<0.5.0,>=0.1.0->spacy) (1.17.2)\n",
      "Requirement already satisfied: mdurl~=0.1 in c:\\users\\josem\\appdata\\local\\programs\\python\\python39\\lib\\site-packages (from markdown-it-py>=2.2.0->rich>=10.11.0->typer<1.0.0,>=0.3.0->spacy) (0.1.2)\n",
      "Note: you may need to restart the kernel to use updated packages.\n"
     ]
    },
    {
     "name": "stderr",
     "output_type": "stream",
     "text": [
      "WARNING: You are using pip version 22.0.4; however, version 25.0.1 is available.\n",
      "You should consider upgrading via the 'c:\\Users\\josem\\AppData\\Local\\Programs\\Python\\Python39\\python.exe -m pip install --upgrade pip' command.\n"
     ]
    },
    {
     "name": "stdout",
     "output_type": "stream",
     "text": [
      "Collecting es-core-news-sm==3.8.0\n",
      "  Downloading https://github.com/explosion/spacy-models/releases/download/es_core_news_sm-3.8.0/es_core_news_sm-3.8.0-py3-none-any.whl (12.9 MB)\n",
      "     --------------------------------------- 12.9/12.9 MB 25.2 MB/s eta 0:00:00\n",
      "\u001b[38;5;2m✔ Download and installation successful\u001b[0m\n",
      "You can now load the package via spacy.load('es_core_news_sm')\n"
     ]
    },
    {
     "name": "stderr",
     "output_type": "stream",
     "text": [
      "WARNING: You are using pip version 22.0.4; however, version 25.0.1 is available.\n",
      "You should consider upgrading via the 'c:\\Users\\josem\\AppData\\Local\\Programs\\Python\\Python39\\python.exe -m pip install --upgrade pip' command.\n"
     ]
    },
    {
     "name": "stdout",
     "output_type": "stream",
     "text": [
      "Requirement already satisfied: pyarrow in c:\\users\\josem\\appdata\\local\\programs\\python\\python39\\lib\\site-packages (19.0.1)\n",
      "Note: you may need to restart the kernel to use updated packages.\n"
     ]
    },
    {
     "name": "stderr",
     "output_type": "stream",
     "text": [
      "WARNING: You are using pip version 22.0.4; however, version 25.0.1 is available.\n",
      "You should consider upgrading via the 'c:\\Users\\josem\\AppData\\Local\\Programs\\Python\\Python39\\python.exe -m pip install --upgrade pip' command.\n"
     ]
    }
   ],
   "source": [
    "%pip install numpy\n",
    "%pip install pandas\n",
    "%pip install joblib\n",
    "%pip install matplotlib\n",
    "%pip install seaborn\n",
    "%pip install scikit-learn\n",
    "%pip install scipy\n",
    "%pip install jupyter\n",
    "%pip install swifter\n",
    "\n",
    "%pip install num2words\n",
    "%pip install inflect\n",
    "%pip install spacy\n",
    "!python -m spacy download es_core_news_sm\n",
    "%pip install --upgrade pyarrow"
   ]
  },
  {
   "cell_type": "code",
   "execution_count": 2,
   "metadata": {},
   "outputs": [
    {
     "name": "stderr",
     "output_type": "stream",
     "text": [
      "WARNING: You are using pip version 22.0.4; however, version 25.0.1 is available.\n",
      "You should consider upgrading via the 'c:\\Users\\josem\\AppData\\Local\\Programs\\Python\\Python39\\python.exe -m pip install --upgrade pip' command.\n"
     ]
    },
    {
     "name": "stdout",
     "output_type": "stream",
     "text": [
      "Collecting es-core-news-sm==3.8.0\n",
      "  Downloading https://github.com/explosion/spacy-models/releases/download/es_core_news_sm-3.8.0/es_core_news_sm-3.8.0-py3-none-any.whl (12.9 MB)\n",
      "     --------------------------------------- 12.9/12.9 MB 25.2 MB/s eta 0:00:00\n",
      "\u001b[38;5;2m✔ Download and installation successful\u001b[0m\n",
      "You can now load the package via spacy.load('es_core_news_sm')\n"
     ]
    }
   ],
   "source": [
    "import numpy as np\n",
    "import pandas as pd\n",
    "\n",
    "from joblib import dump, load\n",
    "\n",
    "import matplotlib.pyplot as plt\n",
    "import seaborn as sns\n",
    "\n",
    "from sklearn.model_selection import train_test_split\n",
    "\n",
    "from sklearn.pipeline import Pipeline\n",
    "\n",
    "from sklearn.preprocessing import StandardScaler\n",
    "from sklearn.linear_model import LogisticRegression\n",
    "from sklearn.linear_model import SGDOneClassSVM\n",
    "from sklearn.svm import LinearSVC, SVC\n",
    "from sklearn.naive_bayes import GaussianNB\n",
    "from sklearn.feature_extraction.text import CountVectorizer\n",
    "\n",
    "from sklearn.datasets import load_iris\n",
    "from sklearn.metrics import accuracy_score\n",
    "\n",
    "\n",
    "import scipy.stats as stats\n",
    "from scipy.sparse import hstack\n",
    "\n",
    "import multiprocessing \n",
    "import spacy\n",
    "import unicodedata\n",
    "import sys\n",
    "import re\n",
    "import inflect\n",
    "import num2words\n",
    "import swifter\n",
    "import pyarrow\n",
    "\n",
    "!{sys.executable} -m spacy download es_core_news_sm\n",
    "nlp = spacy.load(\"es_core_news_sm\")"
   ]
  },
  {
   "cell_type": "markdown",
   "metadata": {},
   "source": [
    "Carga del paquete de Lenguaje Español para spacy"
   ]
  },
  {
   "cell_type": "code",
   "execution_count": 3,
   "metadata": {},
   "outputs": [],
   "source": [
    "nlp = spacy.load(\"es_core_news_sm\")"
   ]
  },
  {
   "cell_type": "markdown",
   "metadata": {},
   "source": [
    "# 1. Carga de Datos"
   ]
  },
  {
   "cell_type": "markdown",
   "metadata": {},
   "source": [
    "Importamos el csv y hacemos un shape para poder ver la estructura de los datos"
   ]
  },
  {
   "cell_type": "code",
   "execution_count": 4,
   "metadata": {},
   "outputs": [
    {
     "data": {
      "text/plain": [
       "(57063, 5)"
      ]
     },
     "execution_count": 4,
     "metadata": {},
     "output_type": "execute_result"
    }
   ],
   "source": [
    "data = \"./data/fake_news_spanish.csv\"\n",
    "\n",
    "news = pd.read_csv(data, sep=\";\", encoding=\"ISO-8859-1\")\n",
    "\n",
    "data_news = news.copy()\n",
    "\n",
    "data_news.shape"
   ]
  },
  {
   "cell_type": "code",
   "execution_count": 5,
   "metadata": {},
   "outputs": [
    {
     "data": {
      "text/html": [
       "<div>\n",
       "<style scoped>\n",
       "    .dataframe tbody tr th:only-of-type {\n",
       "        vertical-align: middle;\n",
       "    }\n",
       "\n",
       "    .dataframe tbody tr th {\n",
       "        vertical-align: top;\n",
       "    }\n",
       "\n",
       "    .dataframe thead th {\n",
       "        text-align: right;\n",
       "    }\n",
       "</style>\n",
       "<table border=\"1\" class=\"dataframe\">\n",
       "  <thead>\n",
       "    <tr style=\"text-align: right;\">\n",
       "      <th></th>\n",
       "      <th>ID</th>\n",
       "      <th>Label</th>\n",
       "      <th>Titulo</th>\n",
       "      <th>Descripcion</th>\n",
       "      <th>Fecha</th>\n",
       "    </tr>\n",
       "  </thead>\n",
       "  <tbody>\n",
       "    <tr>\n",
       "      <th>31622</th>\n",
       "      <td>ID</td>\n",
       "      <td>0</td>\n",
       "      <td>Las primarias de Cs para elegir a su candidato...</td>\n",
       "      <td>De momento, solo el exvicepresidente madrileÃ±...</td>\n",
       "      <td>17/03/2021</td>\n",
       "    </tr>\n",
       "    <tr>\n",
       "      <th>33539</th>\n",
       "      <td>ID</td>\n",
       "      <td>1</td>\n",
       "      <td>COMERSE LOS MOCOS ES BUENO PARA LA SALUD (SIEM...</td>\n",
       "      <td>SegÃºn un informe confidencial del Tribunal de...</td>\n",
       "      <td>14/11/2022</td>\n",
       "    </tr>\n",
       "    <tr>\n",
       "      <th>28735</th>\n",
       "      <td>ID</td>\n",
       "      <td>1</td>\n",
       "      <td>'La Manada de Murcia' niega la violaciÃ³n en g...</td>\n",
       "      <td>Los tres hombres acusados de abusar sexualment...</td>\n",
       "      <td>10/05/2018</td>\n",
       "    </tr>\n",
       "    <tr>\n",
       "      <th>49519</th>\n",
       "      <td>ID</td>\n",
       "      <td>1</td>\n",
       "      <td>El Gobierno mantiene el plan de entrega de buq...</td>\n",
       "      <td>AmnistÃ­a Internacional reclama al Ejecutivo q...</td>\n",
       "      <td>28/01/2022</td>\n",
       "    </tr>\n",
       "    <tr>\n",
       "      <th>34352</th>\n",
       "      <td>ID</td>\n",
       "      <td>0</td>\n",
       "      <td>JosÃ© Bernal, la historia olvidada del maestro...</td>\n",
       "      <td>Miguel Paz narra en su libro Â¡Viva la liberta...</td>\n",
       "      <td>12/04/2022</td>\n",
       "    </tr>\n",
       "  </tbody>\n",
       "</table>\n",
       "</div>"
      ],
      "text/plain": [
       "       ID  Label                                             Titulo  \\\n",
       "31622  ID      0  Las primarias de Cs para elegir a su candidato...   \n",
       "33539  ID      1  COMERSE LOS MOCOS ES BUENO PARA LA SALUD (SIEM...   \n",
       "28735  ID      1  'La Manada de Murcia' niega la violaciÃ³n en g...   \n",
       "49519  ID      1  El Gobierno mantiene el plan de entrega de buq...   \n",
       "34352  ID      0  JosÃ© Bernal, la historia olvidada del maestro...   \n",
       "\n",
       "                                             Descripcion       Fecha  \n",
       "31622  De momento, solo el exvicepresidente madrileÃ±...  17/03/2021  \n",
       "33539  SegÃºn un informe confidencial del Tribunal de...  14/11/2022  \n",
       "28735  Los tres hombres acusados de abusar sexualment...  10/05/2018  \n",
       "49519  AmnistÃ­a Internacional reclama al Ejecutivo q...  28/01/2022  \n",
       "34352  Miguel Paz narra en su libro Â¡Viva la liberta...  12/04/2022  "
      ]
     },
     "execution_count": 5,
     "metadata": {},
     "output_type": "execute_result"
    }
   ],
   "source": [
    "data_news.sample(5)"
   ]
  },
  {
   "cell_type": "code",
   "execution_count": 6,
   "metadata": {},
   "outputs": [
    {
     "data": {
      "text/plain": [
       "ID             object\n",
       "Label           int64\n",
       "Titulo         object\n",
       "Descripcion    object\n",
       "Fecha          object\n",
       "dtype: object"
      ]
     },
     "execution_count": 6,
     "metadata": {},
     "output_type": "execute_result"
    }
   ],
   "source": [
    "data_news.dtypes"
   ]
  },
  {
   "cell_type": "markdown",
   "metadata": {},
   "source": [
    "# 2. Perfilamiento de Datos"
   ]
  },
  {
   "cell_type": "markdown",
   "metadata": {},
   "source": [
    "Separación datos en train y test"
   ]
  },
  {
   "cell_type": "code",
   "execution_count": 7,
   "metadata": {},
   "outputs": [
    {
     "data": {
      "text/plain": [
       "((39944, 5), (39944,))"
      ]
     },
     "execution_count": 7,
     "metadata": {},
     "output_type": "execute_result"
    }
   ],
   "source": [
    "X_train, X_test, y_train , y_test = train_test_split(data_news, data_news[\"Label\"], test_size=0.3, random_state=1)\n",
    "\n",
    "X_train.shape, y_train.shape"
   ]
  },
  {
   "cell_type": "code",
   "execution_count": 8,
   "metadata": {},
   "outputs": [
    {
     "data": {
      "text/plain": [
       "((17119, 5), (17119,))"
      ]
     },
     "execution_count": 8,
     "metadata": {},
     "output_type": "execute_result"
    }
   ],
   "source": [
    "X_test.shape, y_test.shape"
   ]
  },
  {
   "cell_type": "code",
   "execution_count": 9,
   "metadata": {},
   "outputs": [
    {
     "data": {
      "text/html": [
       "<div>\n",
       "<style scoped>\n",
       "    .dataframe tbody tr th:only-of-type {\n",
       "        vertical-align: middle;\n",
       "    }\n",
       "\n",
       "    .dataframe tbody tr th {\n",
       "        vertical-align: top;\n",
       "    }\n",
       "\n",
       "    .dataframe thead th {\n",
       "        text-align: right;\n",
       "    }\n",
       "</style>\n",
       "<table border=\"1\" class=\"dataframe\">\n",
       "  <thead>\n",
       "    <tr style=\"text-align: right;\">\n",
       "      <th></th>\n",
       "      <th>ID</th>\n",
       "      <th>Label</th>\n",
       "      <th>Titulo</th>\n",
       "      <th>Descripcion</th>\n",
       "      <th>Fecha</th>\n",
       "    </tr>\n",
       "  </thead>\n",
       "  <tbody>\n",
       "    <tr>\n",
       "      <th>23862</th>\n",
       "      <td>ID</td>\n",
       "      <td>1</td>\n",
       "      <td>El Ayuntamiento de Barcelona reclama 'mano ten...</td>\n",
       "      <td>Las cuentas ascienden a 3.600 millones, una ci...</td>\n",
       "      <td>14/10/2022</td>\n",
       "    </tr>\n",
       "    <tr>\n",
       "      <th>44273</th>\n",
       "      <td>ID</td>\n",
       "      <td>0</td>\n",
       "      <td>El EQUO vuelve a estar por encima del 30% en e...</td>\n",
       "      <td>Los de David de la Cruz y los de Pablo MÃ³nica...</td>\n",
       "      <td>30/01/2020</td>\n",
       "    </tr>\n",
       "    <tr>\n",
       "      <th>43156</th>\n",
       "      <td>ID</td>\n",
       "      <td>1</td>\n",
       "      <td>MÃ¡s Madrid, Podemos y el Ayuntamiento de Madr...</td>\n",
       "      <td>JosÃ© Luis MartÃ­nez-Almeida, dice que quiere ...</td>\n",
       "      <td>08/04/2022</td>\n",
       "    </tr>\n",
       "    <tr>\n",
       "      <th>13087</th>\n",
       "      <td>ID</td>\n",
       "      <td>0</td>\n",
       "      <td>La presencia de mujeres en las cÃºpulas de los...</td>\n",
       "      <td>EAJ-PNV y PNC, los dos partidos mÃ¡s crÃ­ticos...</td>\n",
       "      <td>07/03/2023</td>\n",
       "    </tr>\n",
       "    <tr>\n",
       "      <th>56295</th>\n",
       "      <td>ID</td>\n",
       "      <td>0</td>\n",
       "      <td>Las defensas intentan frenar que el caso ERE s...</td>\n",
       "      <td>Los abogados de los 22 ex altos cargos del Gob...</td>\n",
       "      <td>10/01/2018</td>\n",
       "    </tr>\n",
       "    <tr>\n",
       "      <th>...</th>\n",
       "      <td>...</td>\n",
       "      <td>...</td>\n",
       "      <td>...</td>\n",
       "      <td>...</td>\n",
       "      <td>...</td>\n",
       "    </tr>\n",
       "    <tr>\n",
       "      <th>50057</th>\n",
       "      <td>ID</td>\n",
       "      <td>0</td>\n",
       "      <td>Encuesta: Â¿CÃ³mo valora las penas a la cÃºpul...</td>\n",
       "      <td>El Supremo condena por sediciÃ³n a la cÃºpula ...</td>\n",
       "      <td>10/10/2019</td>\n",
       "    </tr>\n",
       "    <tr>\n",
       "      <th>32511</th>\n",
       "      <td>ID</td>\n",
       "      <td>0</td>\n",
       "      <td>Cristina Narbona insta a evitar el bloqueo y q...</td>\n",
       "      <td>Cualquier opciÃ³n es bienvenida. La opciÃ³n qu...</td>\n",
       "      <td>05/10/2019</td>\n",
       "    </tr>\n",
       "    <tr>\n",
       "      <th>5192</th>\n",
       "      <td>ID</td>\n",
       "      <td>1</td>\n",
       "      <td>La patronal reconoce que hay relaciÃ³n laboral...</td>\n",
       "      <td>El Ministerio de Trabajo y agentes sociales co...</td>\n",
       "      <td>10/02/2021</td>\n",
       "    </tr>\n",
       "    <tr>\n",
       "      <th>12172</th>\n",
       "      <td>ID</td>\n",
       "      <td>1</td>\n",
       "      <td>Aguado elige al jefe del Canal de Isabel II co...</td>\n",
       "      <td>Rafael MartÃ­n Prieto, se sitÃºa como el princ...</td>\n",
       "      <td>30/08/2019</td>\n",
       "    </tr>\n",
       "    <tr>\n",
       "      <th>33003</th>\n",
       "      <td>ID</td>\n",
       "      <td>1</td>\n",
       "      <td>Archivada la causa contra tres policÃ­as de Ma...</td>\n",
       "      <td>En el grupo se llamaba vejestorio despreciable...</td>\n",
       "      <td>27/04/2018</td>\n",
       "    </tr>\n",
       "  </tbody>\n",
       "</table>\n",
       "<p>39944 rows × 5 columns</p>\n",
       "</div>"
      ],
      "text/plain": [
       "       ID  Label                                             Titulo  \\\n",
       "23862  ID      1  El Ayuntamiento de Barcelona reclama 'mano ten...   \n",
       "44273  ID      0  El EQUO vuelve a estar por encima del 30% en e...   \n",
       "43156  ID      1  MÃ¡s Madrid, Podemos y el Ayuntamiento de Madr...   \n",
       "13087  ID      0  La presencia de mujeres en las cÃºpulas de los...   \n",
       "56295  ID      0  Las defensas intentan frenar que el caso ERE s...   \n",
       "...    ..    ...                                                ...   \n",
       "50057  ID      0  Encuesta: Â¿CÃ³mo valora las penas a la cÃºpul...   \n",
       "32511  ID      0  Cristina Narbona insta a evitar el bloqueo y q...   \n",
       "5192   ID      1  La patronal reconoce que hay relaciÃ³n laboral...   \n",
       "12172  ID      1  Aguado elige al jefe del Canal de Isabel II co...   \n",
       "33003  ID      1  Archivada la causa contra tres policÃ­as de Ma...   \n",
       "\n",
       "                                             Descripcion       Fecha  \n",
       "23862  Las cuentas ascienden a 3.600 millones, una ci...  14/10/2022  \n",
       "44273  Los de David de la Cruz y los de Pablo MÃ³nica...  30/01/2020  \n",
       "43156  JosÃ© Luis MartÃ­nez-Almeida, dice que quiere ...  08/04/2022  \n",
       "13087  EAJ-PNV y PNC, los dos partidos mÃ¡s crÃ­ticos...  07/03/2023  \n",
       "56295  Los abogados de los 22 ex altos cargos del Gob...  10/01/2018  \n",
       "...                                                  ...         ...  \n",
       "50057  El Supremo condena por sediciÃ³n a la cÃºpula ...  10/10/2019  \n",
       "32511  Cualquier opciÃ³n es bienvenida. La opciÃ³n qu...  05/10/2019  \n",
       "5192   El Ministerio de Trabajo y agentes sociales co...  10/02/2021  \n",
       "12172  Rafael MartÃ­n Prieto, se sitÃºa como el princ...  30/08/2019  \n",
       "33003  En el grupo se llamaba vejestorio despreciable...  27/04/2018  \n",
       "\n",
       "[39944 rows x 5 columns]"
      ]
     },
     "execution_count": 9,
     "metadata": {},
     "output_type": "execute_result"
    }
   ],
   "source": [
    "X_train"
   ]
  },
  {
   "cell_type": "code",
   "execution_count": 10,
   "metadata": {},
   "outputs": [
    {
     "name": "stdout",
     "output_type": "stream",
     "text": [
      "<class 'pandas.core.frame.DataFrame'>\n",
      "Index: 39944 entries, 23862 to 33003\n",
      "Data columns (total 5 columns):\n",
      " #   Column       Non-Null Count  Dtype \n",
      "---  ------       --------------  ----- \n",
      " 0   ID           39944 non-null  object\n",
      " 1   Label        39944 non-null  int64 \n",
      " 2   Titulo       39930 non-null  object\n",
      " 3   Descripcion  39944 non-null  object\n",
      " 4   Fecha        39944 non-null  object\n",
      "dtypes: int64(1), object(4)\n",
      "memory usage: 1.8+ MB\n"
     ]
    }
   ],
   "source": [
    "X_train.info()"
   ]
  },
  {
   "cell_type": "code",
   "execution_count": 11,
   "metadata": {},
   "outputs": [
    {
     "data": {
      "text/plain": [
       "ID             39944\n",
       "Label          39944\n",
       "Titulo         39930\n",
       "Descripcion    39944\n",
       "Fecha          39944\n",
       "dtype: int64"
      ]
     },
     "execution_count": 11,
     "metadata": {},
     "output_type": "execute_result"
    }
   ],
   "source": [
    "X_train.count()"
   ]
  },
  {
   "cell_type": "code",
   "execution_count": 12,
   "metadata": {},
   "outputs": [
    {
     "data": {
      "text/html": [
       "<div>\n",
       "<style scoped>\n",
       "    .dataframe tbody tr th:only-of-type {\n",
       "        vertical-align: middle;\n",
       "    }\n",
       "\n",
       "    .dataframe tbody tr th {\n",
       "        vertical-align: top;\n",
       "    }\n",
       "\n",
       "    .dataframe thead th {\n",
       "        text-align: right;\n",
       "    }\n",
       "</style>\n",
       "<table border=\"1\" class=\"dataframe\">\n",
       "  <thead>\n",
       "    <tr style=\"text-align: right;\">\n",
       "      <th></th>\n",
       "      <th>Label</th>\n",
       "    </tr>\n",
       "  </thead>\n",
       "  <tbody>\n",
       "    <tr>\n",
       "      <th>count</th>\n",
       "      <td>39944.000000</td>\n",
       "    </tr>\n",
       "    <tr>\n",
       "      <th>mean</th>\n",
       "      <td>0.580988</td>\n",
       "    </tr>\n",
       "    <tr>\n",
       "      <th>std</th>\n",
       "      <td>0.493403</td>\n",
       "    </tr>\n",
       "    <tr>\n",
       "      <th>min</th>\n",
       "      <td>0.000000</td>\n",
       "    </tr>\n",
       "    <tr>\n",
       "      <th>25%</th>\n",
       "      <td>0.000000</td>\n",
       "    </tr>\n",
       "    <tr>\n",
       "      <th>50%</th>\n",
       "      <td>1.000000</td>\n",
       "    </tr>\n",
       "    <tr>\n",
       "      <th>75%</th>\n",
       "      <td>1.000000</td>\n",
       "    </tr>\n",
       "    <tr>\n",
       "      <th>max</th>\n",
       "      <td>1.000000</td>\n",
       "    </tr>\n",
       "  </tbody>\n",
       "</table>\n",
       "</div>"
      ],
      "text/plain": [
       "              Label\n",
       "count  39944.000000\n",
       "mean       0.580988\n",
       "std        0.493403\n",
       "min        0.000000\n",
       "25%        0.000000\n",
       "50%        1.000000\n",
       "75%        1.000000\n",
       "max        1.000000"
      ]
     },
     "execution_count": 12,
     "metadata": {},
     "output_type": "execute_result"
    }
   ],
   "source": [
    "X_train.describe()"
   ]
  },
  {
   "cell_type": "code",
   "execution_count": 13,
   "metadata": {},
   "outputs": [
    {
     "data": {
      "text/plain": [
       "count    39944.000000\n",
       "mean       248.174645\n",
       "std        283.665969\n",
       "min         37.000000\n",
       "25%        175.000000\n",
       "50%        226.000000\n",
       "75%        272.000000\n",
       "max      14415.000000\n",
       "Name: Descripcion, dtype: float64"
      ]
     },
     "execution_count": 13,
     "metadata": {},
     "output_type": "execute_result"
    }
   ],
   "source": [
    "X_train[\"Descripcion\"].apply(len).describe()"
   ]
  },
  {
   "cell_type": "markdown",
   "metadata": {},
   "source": [
    "2.2 Análisis de Calidad"
   ]
  },
  {
   "cell_type": "markdown",
   "metadata": {},
   "source": [
    "2.2.1 Completitud"
   ]
  },
  {
   "cell_type": "markdown",
   "metadata": {},
   "source": [
    "Revisamos el porcentaje casillas vacias por columna"
   ]
  },
  {
   "cell_type": "code",
   "execution_count": 14,
   "metadata": {},
   "outputs": [
    {
     "data": {
      "text/html": [
       "<div>\n",
       "<style scoped>\n",
       "    .dataframe tbody tr th:only-of-type {\n",
       "        vertical-align: middle;\n",
       "    }\n",
       "\n",
       "    .dataframe tbody tr th {\n",
       "        vertical-align: top;\n",
       "    }\n",
       "\n",
       "    .dataframe thead th {\n",
       "        text-align: right;\n",
       "    }\n",
       "</style>\n",
       "<table border=\"1\" class=\"dataframe\">\n",
       "  <thead>\n",
       "    <tr style=\"text-align: right;\">\n",
       "      <th></th>\n",
       "      <th>0</th>\n",
       "    </tr>\n",
       "  </thead>\n",
       "  <tbody>\n",
       "    <tr>\n",
       "      <th>Titulo</th>\n",
       "      <td>0.035049</td>\n",
       "    </tr>\n",
       "    <tr>\n",
       "      <th>ID</th>\n",
       "      <td>0.000000</td>\n",
       "    </tr>\n",
       "    <tr>\n",
       "      <th>Label</th>\n",
       "      <td>0.000000</td>\n",
       "    </tr>\n",
       "    <tr>\n",
       "      <th>Descripcion</th>\n",
       "      <td>0.000000</td>\n",
       "    </tr>\n",
       "    <tr>\n",
       "      <th>Fecha</th>\n",
       "      <td>0.000000</td>\n",
       "    </tr>\n",
       "  </tbody>\n",
       "</table>\n",
       "</div>"
      ],
      "text/plain": [
       "                    0\n",
       "Titulo       0.035049\n",
       "ID           0.000000\n",
       "Label        0.000000\n",
       "Descripcion  0.000000\n",
       "Fecha        0.000000"
      ]
     },
     "execution_count": 14,
     "metadata": {},
     "output_type": "execute_result"
    }
   ],
   "source": [
    "df_porcentajes = (100*X_train.isna().sum()/len(X_train)).to_frame()\n",
    "df_porcentajes.sort_values(0, ascending = False)"
   ]
  },
  {
   "cell_type": "markdown",
   "metadata": {},
   "source": [
    "Miramos las filas incompletas"
   ]
  },
  {
   "cell_type": "code",
   "execution_count": 15,
   "metadata": {},
   "outputs": [
    {
     "data": {
      "text/html": [
       "<div>\n",
       "<style scoped>\n",
       "    .dataframe tbody tr th:only-of-type {\n",
       "        vertical-align: middle;\n",
       "    }\n",
       "\n",
       "    .dataframe tbody tr th {\n",
       "        vertical-align: top;\n",
       "    }\n",
       "\n",
       "    .dataframe thead th {\n",
       "        text-align: right;\n",
       "    }\n",
       "</style>\n",
       "<table border=\"1\" class=\"dataframe\">\n",
       "  <thead>\n",
       "    <tr style=\"text-align: right;\">\n",
       "      <th></th>\n",
       "      <th>ID</th>\n",
       "      <th>Label</th>\n",
       "      <th>Titulo</th>\n",
       "      <th>Descripcion</th>\n",
       "      <th>Fecha</th>\n",
       "    </tr>\n",
       "  </thead>\n",
       "  <tbody>\n",
       "    <tr>\n",
       "      <th>3243</th>\n",
       "      <td>ID</td>\n",
       "      <td>0</td>\n",
       "      <td>NaN</td>\n",
       "      <td>Hace unos 75 aÃ±os, Hermann GÃ¶ring testificÃ³...</td>\n",
       "      <td>16/06/2019</td>\n",
       "    </tr>\n",
       "    <tr>\n",
       "      <th>36724</th>\n",
       "      <td>ID</td>\n",
       "      <td>0</td>\n",
       "      <td>NaN</td>\n",
       "      <td>Como muchos de ustedes recordarÃ¡n, ayer por l...</td>\n",
       "      <td>04/02/2023</td>\n",
       "    </tr>\n",
       "    <tr>\n",
       "      <th>55146</th>\n",
       "      <td>ID</td>\n",
       "      <td>0</td>\n",
       "      <td>NaN</td>\n",
       "      <td>Denuncia PÃºblica\\r\\nSe veÃ­a venir... En Gual...</td>\n",
       "      <td>15/02/2023</td>\n",
       "    </tr>\n",
       "    <tr>\n",
       "      <th>47967</th>\n",
       "      <td>ID</td>\n",
       "      <td>0</td>\n",
       "      <td>NaN</td>\n",
       "      <td>Se han dado a conocer los datos electorales pr...</td>\n",
       "      <td>19/04/2019</td>\n",
       "    </tr>\n",
       "    <tr>\n",
       "      <th>7345</th>\n",
       "      <td>ID</td>\n",
       "      <td>0</td>\n",
       "      <td>NaN</td>\n",
       "      <td>Defienden dichos con capitulos de Don Gato.\\r\\...</td>\n",
       "      <td>02/07/2023</td>\n",
       "    </tr>\n",
       "    <tr>\n",
       "      <th>7652</th>\n",
       "      <td>ID</td>\n",
       "      <td>0</td>\n",
       "      <td>NaN</td>\n",
       "      <td>Lean (y vean la imagen) con mucha atenciÃ³n:\\r...</td>\n",
       "      <td>04/08/2018</td>\n",
       "    </tr>\n",
       "    <tr>\n",
       "      <th>4189</th>\n",
       "      <td>ID</td>\n",
       "      <td>0</td>\n",
       "      <td>NaN</td>\n",
       "      <td>Evidentemente, Barak Obama ha sido arrestado e...</td>\n",
       "      <td>10/03/2022</td>\n",
       "    </tr>\n",
       "    <tr>\n",
       "      <th>5041</th>\n",
       "      <td>ID</td>\n",
       "      <td>0</td>\n",
       "      <td>NaN</td>\n",
       "      <td>\"DespuÃ©s de convertirme en presidente, le ped...</td>\n",
       "      <td>16/03/2022</td>\n",
       "    </tr>\n",
       "    <tr>\n",
       "      <th>35816</th>\n",
       "      <td>ID</td>\n",
       "      <td>0</td>\n",
       "      <td>NaN</td>\n",
       "      <td>#ÃLTIMA_HORA Le ordenarÃ© a los empresarios d...</td>\n",
       "      <td>07/05/2021</td>\n",
       "    </tr>\n",
       "    <tr>\n",
       "      <th>15159</th>\n",
       "      <td>ID</td>\n",
       "      <td>0</td>\n",
       "      <td>NaN</td>\n",
       "      <td>Declarar a Bill Gates enemigo pÃºblico y proce...</td>\n",
       "      <td>02/08/2024</td>\n",
       "    </tr>\n",
       "    <tr>\n",
       "      <th>9700</th>\n",
       "      <td>ID</td>\n",
       "      <td>0</td>\n",
       "      <td>NaN</td>\n",
       "      <td>Â¿SabÃ­as que Francisco Sagasti saliÃ³ a march...</td>\n",
       "      <td>26/12/2018</td>\n",
       "    </tr>\n",
       "    <tr>\n",
       "      <th>5644</th>\n",
       "      <td>ID</td>\n",
       "      <td>0</td>\n",
       "      <td>NaN</td>\n",
       "      <td>Me pasaron de buena fuente hoy (un vecino del ...</td>\n",
       "      <td>08/04/2023</td>\n",
       "    </tr>\n",
       "    <tr>\n",
       "      <th>40295</th>\n",
       "      <td>ID</td>\n",
       "      <td>0</td>\n",
       "      <td>NaN</td>\n",
       "      <td>Juanma Moreno Bonilla, presidente de la Junta ...</td>\n",
       "      <td>21/08/2020</td>\n",
       "    </tr>\n",
       "    <tr>\n",
       "      <th>24806</th>\n",
       "      <td>ID</td>\n",
       "      <td>0</td>\n",
       "      <td>NaN</td>\n",
       "      <td>CUANDO LAS IMÃGENES HABLAN MÃS QUE PALABRAS....</td>\n",
       "      <td>28/06/2018</td>\n",
       "    </tr>\n",
       "  </tbody>\n",
       "</table>\n",
       "</div>"
      ],
      "text/plain": [
       "       ID  Label Titulo                                        Descripcion  \\\n",
       "3243   ID      0    NaN  Hace unos 75 aÃ±os, Hermann GÃ¶ring testificÃ³...   \n",
       "36724  ID      0    NaN  Como muchos de ustedes recordarÃ¡n, ayer por l...   \n",
       "55146  ID      0    NaN  Denuncia PÃºblica\\r\\nSe veÃ­a venir... En Gual...   \n",
       "47967  ID      0    NaN  Se han dado a conocer los datos electorales pr...   \n",
       "7345   ID      0    NaN  Defienden dichos con capitulos de Don Gato.\\r\\...   \n",
       "7652   ID      0    NaN  Lean (y vean la imagen) con mucha atenciÃ³n:\\r...   \n",
       "4189   ID      0    NaN  Evidentemente, Barak Obama ha sido arrestado e...   \n",
       "5041   ID      0    NaN  \"DespuÃ©s de convertirme en presidente, le ped...   \n",
       "35816  ID      0    NaN  #ÃLTIMA_HORA Le ordenarÃ© a los empresarios d...   \n",
       "15159  ID      0    NaN  Declarar a Bill Gates enemigo pÃºblico y proce...   \n",
       "9700   ID      0    NaN  Â¿SabÃ­as que Francisco Sagasti saliÃ³ a march...   \n",
       "5644   ID      0    NaN  Me pasaron de buena fuente hoy (un vecino del ...   \n",
       "40295  ID      0    NaN  Juanma Moreno Bonilla, presidente de la Junta ...   \n",
       "24806  ID      0    NaN  CUANDO LAS IMÃGENES HABLAN MÃS QUE PALABRAS....   \n",
       "\n",
       "            Fecha  \n",
       "3243   16/06/2019  \n",
       "36724  04/02/2023  \n",
       "55146  15/02/2023  \n",
       "47967  19/04/2019  \n",
       "7345   02/07/2023  \n",
       "7652   04/08/2018  \n",
       "4189   10/03/2022  \n",
       "5041   16/03/2022  \n",
       "35816  07/05/2021  \n",
       "15159  02/08/2024  \n",
       "9700   26/12/2018  \n",
       "5644   08/04/2023  \n",
       "40295  21/08/2020  \n",
       "24806  28/06/2018  "
      ]
     },
     "execution_count": 15,
     "metadata": {},
     "output_type": "execute_result"
    }
   ],
   "source": [
    "filas_incompletas = X_train[X_train.isna().any(axis=1)]\n",
    "filas_incompletas\n"
   ]
  },
  {
   "cell_type": "markdown",
   "metadata": {},
   "source": [
    "Podemos eliminar los registros que estan vacios, porque en este caso asignarles un valor basado en la moda no tiene sentido ya que el titulo de la noticia sería diferente a la descripción"
   ]
  },
  {
   "cell_type": "code",
   "execution_count": 16,
   "metadata": {},
   "outputs": [
    {
     "name": "stdout",
     "output_type": "stream",
     "text": [
      "None\n"
     ]
    },
    {
     "data": {
      "text/plain": [
       "(39930, 5)"
      ]
     },
     "execution_count": 16,
     "metadata": {},
     "output_type": "execute_result"
    }
   ],
   "source": [
    "def drop_empty(train):\n",
    "\n",
    "    train.dropna(inplace=True)\n",
    "\n",
    "    return\n",
    "\n",
    "print(drop_empty(train=X_train))\n",
    "\n",
    "X_train.shape"
   ]
  },
  {
   "cell_type": "code",
   "execution_count": 17,
   "metadata": {},
   "outputs": [
    {
     "data": {
      "text/html": [
       "<div>\n",
       "<style scoped>\n",
       "    .dataframe tbody tr th:only-of-type {\n",
       "        vertical-align: middle;\n",
       "    }\n",
       "\n",
       "    .dataframe tbody tr th {\n",
       "        vertical-align: top;\n",
       "    }\n",
       "\n",
       "    .dataframe thead th {\n",
       "        text-align: right;\n",
       "    }\n",
       "</style>\n",
       "<table border=\"1\" class=\"dataframe\">\n",
       "  <thead>\n",
       "    <tr style=\"text-align: right;\">\n",
       "      <th></th>\n",
       "      <th>ID</th>\n",
       "      <th>Label</th>\n",
       "      <th>Titulo</th>\n",
       "      <th>Descripcion</th>\n",
       "      <th>Fecha</th>\n",
       "    </tr>\n",
       "  </thead>\n",
       "  <tbody>\n",
       "  </tbody>\n",
       "</table>\n",
       "</div>"
      ],
      "text/plain": [
       "Empty DataFrame\n",
       "Columns: [ID, Label, Titulo, Descripcion, Fecha]\n",
       "Index: []"
      ]
     },
     "execution_count": 17,
     "metadata": {},
     "output_type": "execute_result"
    }
   ],
   "source": [
    "filas_incompletas = X_train[X_train.isna().any(axis=1)]\n",
    "filas_incompletas"
   ]
  },
  {
   "cell_type": "markdown",
   "metadata": {},
   "source": [
    "2.2.2 Duplicidad"
   ]
  },
  {
   "cell_type": "markdown",
   "metadata": {},
   "source": [
    "Miramos las filas duplicadas"
   ]
  },
  {
   "cell_type": "code",
   "execution_count": 18,
   "metadata": {},
   "outputs": [
    {
     "data": {
      "text/html": [
       "<div>\n",
       "<style scoped>\n",
       "    .dataframe tbody tr th:only-of-type {\n",
       "        vertical-align: middle;\n",
       "    }\n",
       "\n",
       "    .dataframe tbody tr th {\n",
       "        vertical-align: top;\n",
       "    }\n",
       "\n",
       "    .dataframe thead th {\n",
       "        text-align: right;\n",
       "    }\n",
       "</style>\n",
       "<table border=\"1\" class=\"dataframe\">\n",
       "  <thead>\n",
       "    <tr style=\"text-align: right;\">\n",
       "      <th></th>\n",
       "      <th>ID</th>\n",
       "      <th>Label</th>\n",
       "      <th>Titulo</th>\n",
       "      <th>Descripcion</th>\n",
       "      <th>Fecha</th>\n",
       "    </tr>\n",
       "  </thead>\n",
       "  <tbody>\n",
       "    <tr>\n",
       "      <th>14575</th>\n",
       "      <td>ID</td>\n",
       "      <td>1</td>\n",
       "      <td>'Hazlo por Madrid', el lema del PSOE se centra...</td>\n",
       "      <td>Gabilondo asegura que si hay movilizaciÃ³n Ayu...</td>\n",
       "      <td>12/04/2021</td>\n",
       "    </tr>\n",
       "    <tr>\n",
       "      <th>40673</th>\n",
       "      <td>ID</td>\n",
       "      <td>1</td>\n",
       "      <td>'Hazlo por Madrid', el lema del PSOE se centra...</td>\n",
       "      <td>Gabilondo asegura que si hay movilizaciÃ³n Ayu...</td>\n",
       "      <td>12/04/2021</td>\n",
       "    </tr>\n",
       "    <tr>\n",
       "      <th>31439</th>\n",
       "      <td>ID</td>\n",
       "      <td>1</td>\n",
       "      <td>'SÃ¡lvame Deluxe' entra en polÃ­tica</td>\n",
       "      <td>El presentador del programa de Telecinco acomp...</td>\n",
       "      <td>24/04/2021</td>\n",
       "    </tr>\n",
       "    <tr>\n",
       "      <th>13847</th>\n",
       "      <td>ID</td>\n",
       "      <td>1</td>\n",
       "      <td>'SÃ¡lvame Deluxe' entra en polÃ­tica</td>\n",
       "      <td>El presentador del programa de Telecinco acomp...</td>\n",
       "      <td>24/04/2021</td>\n",
       "    </tr>\n",
       "    <tr>\n",
       "      <th>50738</th>\n",
       "      <td>ID</td>\n",
       "      <td>1</td>\n",
       "      <td>70.000 millones en tres aÃ±os para modernizar ...</td>\n",
       "      <td>El 39% de los fondos se destinarÃ¡ a la transi...</td>\n",
       "      <td>13/04/2021</td>\n",
       "    </tr>\n",
       "    <tr>\n",
       "      <th>...</th>\n",
       "      <td>...</td>\n",
       "      <td>...</td>\n",
       "      <td>...</td>\n",
       "      <td>...</td>\n",
       "      <td>...</td>\n",
       "    </tr>\n",
       "    <tr>\n",
       "      <th>28964</th>\n",
       "      <td>ID</td>\n",
       "      <td>1</td>\n",
       "      <td>Â¿A quÃ© hora puedo ir a votar en las eleccion...</td>\n",
       "      <td>La Comunidad de Madrid ha establecido una guÃ­...</td>\n",
       "      <td>30/04/2021</td>\n",
       "    </tr>\n",
       "    <tr>\n",
       "      <th>54584</th>\n",
       "      <td>ID</td>\n",
       "      <td>1</td>\n",
       "      <td>Â¿Hartazgo de centralismo en ValÃ¨ncia?</td>\n",
       "      <td>La guerra de declaraciones entre Ayuso y el go...</td>\n",
       "      <td>15/04/2021</td>\n",
       "    </tr>\n",
       "    <tr>\n",
       "      <th>54615</th>\n",
       "      <td>ID</td>\n",
       "      <td>1</td>\n",
       "      <td>Â¿Hartazgo de centralismo en ValÃ¨ncia?</td>\n",
       "      <td>La guerra de declaraciones entre Ayuso y el go...</td>\n",
       "      <td>15/04/2021</td>\n",
       "    </tr>\n",
       "    <tr>\n",
       "      <th>10974</th>\n",
       "      <td>ID</td>\n",
       "      <td>1</td>\n",
       "      <td>Â¿Ignorarles o rebatirles?: la nueva campaÃ±a ...</td>\n",
       "      <td>La formaciÃ³n de Abascal busca normalizar las ...</td>\n",
       "      <td>21/04/2021</td>\n",
       "    </tr>\n",
       "    <tr>\n",
       "      <th>51859</th>\n",
       "      <td>ID</td>\n",
       "      <td>1</td>\n",
       "      <td>Â¿Ignorarles o rebatirles?: la nueva campaÃ±a ...</td>\n",
       "      <td>La formaciÃ³n de Abascal busca normalizar las ...</td>\n",
       "      <td>21/04/2021</td>\n",
       "    </tr>\n",
       "  </tbody>\n",
       "</table>\n",
       "<p>437 rows × 5 columns</p>\n",
       "</div>"
      ],
      "text/plain": [
       "       ID  Label                                             Titulo  \\\n",
       "14575  ID      1  'Hazlo por Madrid', el lema del PSOE se centra...   \n",
       "40673  ID      1  'Hazlo por Madrid', el lema del PSOE se centra...   \n",
       "31439  ID      1               'SÃ¡lvame Deluxe' entra en polÃ­tica   \n",
       "13847  ID      1               'SÃ¡lvame Deluxe' entra en polÃ­tica   \n",
       "50738  ID      1  70.000 millones en tres aÃ±os para modernizar ...   \n",
       "...    ..    ...                                                ...   \n",
       "28964  ID      1  Â¿A quÃ© hora puedo ir a votar en las eleccion...   \n",
       "54584  ID      1            Â¿Hartazgo de centralismo en ValÃ¨ncia?   \n",
       "54615  ID      1            Â¿Hartazgo de centralismo en ValÃ¨ncia?   \n",
       "10974  ID      1  Â¿Ignorarles o rebatirles?: la nueva campaÃ±a ...   \n",
       "51859  ID      1  Â¿Ignorarles o rebatirles?: la nueva campaÃ±a ...   \n",
       "\n",
       "                                             Descripcion       Fecha  \n",
       "14575  Gabilondo asegura que si hay movilizaciÃ³n Ayu...  12/04/2021  \n",
       "40673  Gabilondo asegura que si hay movilizaciÃ³n Ayu...  12/04/2021  \n",
       "31439  El presentador del programa de Telecinco acomp...  24/04/2021  \n",
       "13847  El presentador del programa de Telecinco acomp...  24/04/2021  \n",
       "50738  El 39% de los fondos se destinarÃ¡ a la transi...  13/04/2021  \n",
       "...                                                  ...         ...  \n",
       "28964  La Comunidad de Madrid ha establecido una guÃ­...  30/04/2021  \n",
       "54584  La guerra de declaraciones entre Ayuso y el go...  15/04/2021  \n",
       "54615  La guerra de declaraciones entre Ayuso y el go...  15/04/2021  \n",
       "10974  La formaciÃ³n de Abascal busca normalizar las ...  21/04/2021  \n",
       "51859  La formaciÃ³n de Abascal busca normalizar las ...  21/04/2021  \n",
       "\n",
       "[437 rows x 5 columns]"
      ]
     },
     "execution_count": 18,
     "metadata": {},
     "output_type": "execute_result"
    }
   ],
   "source": [
    "duplicated_rows = X_train.loc[X_train.duplicated(subset=[\"Titulo\"]+[\"Descripcion\"], keep=False)].sort_values(\"Titulo\")\n",
    "duplicated_rows"
   ]
  },
  {
   "cell_type": "markdown",
   "metadata": {},
   "source": [
    "Eliminar noticias duplicadas"
   ]
  },
  {
   "cell_type": "code",
   "execution_count": 19,
   "metadata": {},
   "outputs": [
    {
     "name": "stdout",
     "output_type": "stream",
     "text": [
      "None\n"
     ]
    },
    {
     "data": {
      "text/plain": [
       "(39706, 5)"
      ]
     },
     "execution_count": 19,
     "metadata": {},
     "output_type": "execute_result"
    }
   ],
   "source": [
    "def drop_duplicates(train):\n",
    "\n",
    "    train.drop_duplicates(subset = ['Titulo'] + ['Descripcion'], keep = 'first', inplace = True)\n",
    "\n",
    "    duplicated_rows = data_news.loc[data_news.duplicated(subset=[\"Titulo\"]+[\"Descripcion\"], keep=False)].sort_values(\"Titulo\")\n",
    "\n",
    "    return\n",
    "\n",
    "print(drop_duplicates(train=X_train))\n",
    "\n",
    "X_train.shape"
   ]
  },
  {
   "cell_type": "code",
   "execution_count": 20,
   "metadata": {},
   "outputs": [
    {
     "data": {
      "text/html": [
       "<div>\n",
       "<style scoped>\n",
       "    .dataframe tbody tr th:only-of-type {\n",
       "        vertical-align: middle;\n",
       "    }\n",
       "\n",
       "    .dataframe tbody tr th {\n",
       "        vertical-align: top;\n",
       "    }\n",
       "\n",
       "    .dataframe thead th {\n",
       "        text-align: right;\n",
       "    }\n",
       "</style>\n",
       "<table border=\"1\" class=\"dataframe\">\n",
       "  <thead>\n",
       "    <tr style=\"text-align: right;\">\n",
       "      <th></th>\n",
       "      <th>ID</th>\n",
       "      <th>Label</th>\n",
       "      <th>Titulo</th>\n",
       "      <th>Descripcion</th>\n",
       "      <th>Fecha</th>\n",
       "    </tr>\n",
       "  </thead>\n",
       "  <tbody>\n",
       "  </tbody>\n",
       "</table>\n",
       "</div>"
      ],
      "text/plain": [
       "Empty DataFrame\n",
       "Columns: [ID, Label, Titulo, Descripcion, Fecha]\n",
       "Index: []"
      ]
     },
     "execution_count": 20,
     "metadata": {},
     "output_type": "execute_result"
    }
   ],
   "source": [
    "duplicated_rows = X_train.loc[X_train.duplicated(subset=[\"Titulo\"]+[\"Descripcion\"], keep=False)].sort_values(\"Titulo\")\n",
    "duplicated_rows"
   ]
  },
  {
   "cell_type": "markdown",
   "metadata": {},
   "source": [
    "2.2.3 Consistencia"
   ]
  },
  {
   "cell_type": "markdown",
   "metadata": {},
   "source": [
    "Verificamos la longitud de los titulos y descripciones"
   ]
  },
  {
   "cell_type": "code",
   "execution_count": 21,
   "metadata": {},
   "outputs": [
    {
     "name": "stdout",
     "output_type": "stream",
     "text": [
      "Longitud del Titulo: \n",
      "23862    109\n",
      "44273    112\n",
      "43156    117\n",
      "13087    130\n",
      "56295     78\n",
      "        ... \n",
      "50057     62\n",
      "32511     97\n",
      "5192     111\n",
      "12172     85\n",
      "33003     84\n",
      "Name: Titulo, Length: 39706, dtype: int64\n",
      "\n",
      "Longitud de la Descripcion: \n",
      "23862    237\n",
      "44273    273\n",
      "43156    263\n",
      "13087    142\n",
      "56295    330\n",
      "        ... \n",
      "50057    104\n",
      "32511    160\n",
      "5192     366\n",
      "12172    225\n",
      "33003    191\n",
      "Name: Descripcion, Length: 39706, dtype: int64\n"
     ]
    }
   ],
   "source": [
    "len_titulo = X_train[\"Titulo\"].apply(len)\n",
    "len_descripcion = X_train[\"Descripcion\"].apply(len)\n",
    "\n",
    "print(\"Longitud del Titulo: \\n\" + str(len_titulo))\n",
    "print(\"\\nLongitud de la Descripcion: \\n\" + str(len_descripcion))\n"
   ]
  },
  {
   "cell_type": "code",
   "execution_count": 22,
   "metadata": {},
   "outputs": [
    {
     "data": {
      "text/plain": [
       "count    39706.000000\n",
       "mean        96.482219\n",
       "std         22.080211\n",
       "min         13.000000\n",
       "25%         81.000000\n",
       "50%         96.000000\n",
       "75%        113.000000\n",
       "max        261.000000\n",
       "Name: Titulo, dtype: float64"
      ]
     },
     "execution_count": 22,
     "metadata": {},
     "output_type": "execute_result"
    }
   ],
   "source": [
    "len_titulo.describe()"
   ]
  },
  {
   "cell_type": "code",
   "execution_count": 23,
   "metadata": {},
   "outputs": [
    {
     "data": {
      "text/plain": [
       "count    39706.000000\n",
       "mean       247.573843\n",
       "std        280.119402\n",
       "min         37.000000\n",
       "25%        175.000000\n",
       "50%        226.000000\n",
       "75%        272.000000\n",
       "max      14415.000000\n",
       "Name: Descripcion, dtype: float64"
      ]
     },
     "execution_count": 23,
     "metadata": {},
     "output_type": "execute_result"
    }
   ],
   "source": [
    "len_descripcion.describe()"
   ]
  },
  {
   "cell_type": "markdown",
   "metadata": {},
   "source": [
    "2.2.4 Validez"
   ]
  },
  {
   "cell_type": "code",
   "execution_count": 24,
   "metadata": {},
   "outputs": [
    {
     "data": {
      "text/html": [
       "<div>\n",
       "<style scoped>\n",
       "    .dataframe tbody tr th:only-of-type {\n",
       "        vertical-align: middle;\n",
       "    }\n",
       "\n",
       "    .dataframe tbody tr th {\n",
       "        vertical-align: top;\n",
       "    }\n",
       "\n",
       "    .dataframe thead th {\n",
       "        text-align: right;\n",
       "    }\n",
       "</style>\n",
       "<table border=\"1\" class=\"dataframe\">\n",
       "  <thead>\n",
       "    <tr style=\"text-align: right;\">\n",
       "      <th></th>\n",
       "      <th>Label</th>\n",
       "    </tr>\n",
       "  </thead>\n",
       "  <tbody>\n",
       "    <tr>\n",
       "      <th>count</th>\n",
       "      <td>39706.000000</td>\n",
       "    </tr>\n",
       "    <tr>\n",
       "      <th>mean</th>\n",
       "      <td>0.579333</td>\n",
       "    </tr>\n",
       "    <tr>\n",
       "      <th>std</th>\n",
       "      <td>0.493672</td>\n",
       "    </tr>\n",
       "    <tr>\n",
       "      <th>min</th>\n",
       "      <td>0.000000</td>\n",
       "    </tr>\n",
       "    <tr>\n",
       "      <th>25%</th>\n",
       "      <td>0.000000</td>\n",
       "    </tr>\n",
       "    <tr>\n",
       "      <th>50%</th>\n",
       "      <td>1.000000</td>\n",
       "    </tr>\n",
       "    <tr>\n",
       "      <th>75%</th>\n",
       "      <td>1.000000</td>\n",
       "    </tr>\n",
       "    <tr>\n",
       "      <th>max</th>\n",
       "      <td>1.000000</td>\n",
       "    </tr>\n",
       "  </tbody>\n",
       "</table>\n",
       "</div>"
      ],
      "text/plain": [
       "              Label\n",
       "count  39706.000000\n",
       "mean       0.579333\n",
       "std        0.493672\n",
       "min        0.000000\n",
       "25%        0.000000\n",
       "50%        1.000000\n",
       "75%        1.000000\n",
       "max        1.000000"
      ]
     },
     "execution_count": 24,
     "metadata": {},
     "output_type": "execute_result"
    }
   ],
   "source": [
    "X_train.describe()"
   ]
  },
  {
   "cell_type": "markdown",
   "metadata": {},
   "source": [
    "Cambiamos las fechas a formato datetime"
   ]
  },
  {
   "cell_type": "code",
   "execution_count": 25,
   "metadata": {},
   "outputs": [
    {
     "name": "stderr",
     "output_type": "stream",
     "text": [
      "C:\\Users\\josem\\AppData\\Local\\Temp\\ipykernel_20576\\1149166573.py:1: UserWarning: Parsing dates in %d/%m/%Y format when dayfirst=False (the default) was specified. Pass `dayfirst=True` or specify a format to silence this warning.\n",
      "  X_train[\"Fecha\"] = pd.to_datetime(X_train[\"Fecha\"])\n"
     ]
    }
   ],
   "source": [
    "X_train[\"Fecha\"] = pd.to_datetime(X_train[\"Fecha\"])"
   ]
  },
  {
   "cell_type": "code",
   "execution_count": 26,
   "metadata": {},
   "outputs": [
    {
     "data": {
      "text/plain": [
       "Fecha\n",
       "2023-05-29    67\n",
       "2019-05-27    58\n",
       "2019-04-24    54\n",
       "2019-07-18    52\n",
       "2019-06-05    50\n",
       "              ..\n",
       "2024-09-09     1\n",
       "2023-08-12     1\n",
       "2017-02-11     1\n",
       "2023-11-21     1\n",
       "2017-08-22     1\n",
       "Name: count, Length: 2198, dtype: int64"
      ]
     },
     "execution_count": 26,
     "metadata": {},
     "output_type": "execute_result"
    }
   ],
   "source": [
    "X_train[\"Fecha\"].value_counts()"
   ]
  },
  {
   "cell_type": "markdown",
   "metadata": {},
   "source": [
    "# 3. Preparación de Datos"
   ]
  },
  {
   "cell_type": "markdown",
   "metadata": {},
   "source": [
    "3.1. Limpieza de Datos"
   ]
  },
  {
   "cell_type": "markdown",
   "metadata": {},
   "source": [
    "Tratar de dejar el texto lo más limpio posible para poder hacer el procesamiento de tokenización, para eso vamos a revisar los caracters de ascii las mayusuclas, los signos de puntuación, los números, las stopwords y demas elementos que solo generan imperfecciones a la hora de realizar la tokenizacion"
   ]
  },
  {
   "cell_type": "code",
   "execution_count": 27,
   "metadata": {},
   "outputs": [],
   "source": [
    "def limpiar_ascii(train):\n",
    "\n",
    "    train[\"Titulo\"] = train[\"Titulo\"].apply(lambda x: unicodedata.normalize(\"NFKD\", x).encode(\"ascii\", \"ignore\").decode(\"utf-8\"))\n",
    "    train[\"Descripcion\"] = train[\"Descripcion\"].apply(lambda x: unicodedata.normalize(\"NFKD\", x).encode(\"ascii\", \"ignore\").decode(\"utf-8\"))\n",
    "\n",
    "    return\n",
    "\n",
    "\n",
    "def limpiar_mayusculas(train):\n",
    "\n",
    "    train[\"Titulo\"] = train[\"Titulo\"].str.lower()\n",
    "    train[\"Descripcion\"] = train[\"Descripcion\"].str.lower()\n",
    "\n",
    "    return\n",
    "\n",
    "\n",
    "def limpiar_puntuacion(train):\n",
    "\n",
    "    train[\"Titulo\"] = train[\"Titulo\"].apply(lambda x: re.sub(r'[.:,;-_¿?¡!\"\\'()\\[\\]{}\\/%\\$@+*\\^]', '', x))\n",
    "    train[\"Descripcion\"] = train[\"Descripcion\"].apply(lambda x: re.sub(r'[.:,;-_¿?¡!\"\\'()\\[\\]{}\\/%\\$@+*\\^]', '', x))\n",
    "    \n",
    "    return\n",
    "\n",
    "\n",
    "def limpiar_numeros(train):\n",
    "\n",
    "    train[\"Titulo\"] = train[\"Titulo\"].apply(lambda x: re.sub(r'\\b\\d+\\b', lambda y: num2words.num2words(y.group(), lang='es'), x))\n",
    "    train[\"Descripcion\"] = train[\"Descripcion\"].apply(lambda x: re.sub(r'\\b\\d+\\b', lambda y: num2words.num2words(y.group(), lang='es'), x))\n",
    "\n",
    "    return\n",
    "\n",
    "\n",
    "palabras_stop = nlp.Defaults.stop_words\n",
    "\n",
    "palabras_s = r'\\b(?:' + '|'.join(palabras_stop) + r')\\b'\n",
    "\n",
    "def limpiar_stopwords(train):\n",
    "\n",
    "    train[\"Titulo\"] = train[\"Titulo\"].apply(lambda x: re.sub(palabras_s, '', x))\n",
    "    train[\"Descripcion\"] = train[\"Descripcion\"].apply(lambda x: re.sub(palabras_s, '', x))\n",
    "\n",
    "    return\n",
    "\n",
    "def limpiar_guiones(train):\n",
    "\n",
    "    train[\"Titulo\"] = train[\"Titulo\"].apply(lambda x: x.replace(\"-\", \" \"))\n",
    "    train[\"Descripcion\"] = train[\"Descripcion\"].apply(lambda x: x.replace(\"-\", \" \"))\n",
    "\n",
    "    return\n",
    "\n",
    "numeros_post_ascii = r'[0123456789]'\n",
    "\n",
    "def limpiar_numeros_ascii(train):\n",
    "\n",
    "    train[\"Titulo\"] = train[\"Titulo\"].apply(lambda x: re.sub(numeros_post_ascii, '', x))\n",
    "    train[\"Descripcion\"] = train[\"Descripcion\"].apply(lambda x: re.sub(numeros_post_ascii, '', x))\n",
    "\n",
    "    return\n"
   ]
  },
  {
   "cell_type": "code",
   "execution_count": 28,
   "metadata": {},
   "outputs": [
    {
     "name": "stdout",
     "output_type": "stream",
     "text": [
      "       ID  Label                                             Titulo  \\\n",
      "23862  ID      1   ayuntamiento  barcelona reclama mano tendida ...   \n",
      "44273  ID      0   equo vuelve      treinta  estimacian  voto  p...   \n",
      "43156  ID      1   madrid    ayuntamiento  madrid  personan  acu...   \n",
      "13087  ID      0   presencia  mujeres   caopulas   partidos sa e...   \n",
      "56295  ID      0   defensas intentan frenar   caso ere  juzgue  ...   \n",
      "...    ..    ...                                                ...   \n",
      "50057  ID      0     encuesta acamo valora  penas   caopula  procas   \n",
      "32511  ID      0  cristina narbona insta  evitar  bloqueo     pa...   \n",
      "5192   ID      1   patronal reconoce   relacian laboral  empresa...   \n",
      "12172  ID      1  aguado elige  jefe  canal  isabel ii  praximo ...   \n",
      "33003  ID      1  archivada  causa   policaas  madrid  insultos ...   \n",
      "\n",
      "                                             Descripcion      Fecha  \n",
      "23862   cuentas ascienden   mil seiscientos millones ... 2022-10-14  \n",
      "44273    david   cruz    pablo manica garcaa crecen  ... 2020-01-30  \n",
      "43156  josa luis martanez almeida    restituir   aolt... 2022-04-08  \n",
      "13087  eaj pnv  pnc   partidos  craticos   ley  parid... 2023-03-07  \n",
      "56295   abogados   veintidós ex altos cargos  gobiern... 2018-01-10  \n",
      "...                                                  ...        ...  \n",
      "50057   supremo condena  sedician   caopula  procas  ... 2019-10-10  \n",
      "32511   opcian  bienvenida  opcian    bienvenida   bl... 2019-10-05  \n",
      "5192    ministerio  trabajo  agentes sociales convien... 2021-02-10  \n",
      "12172  rafael martan prieto  sitaoa   principal candi... 2019-08-30  \n",
      "33003    grupo  llamaba vejestorio despreciable   alc... 2018-04-27  \n",
      "\n",
      "[39706 rows x 5 columns]\n"
     ]
    }
   ],
   "source": [
    "def limpiar_texto(train):\n",
    "\n",
    "    limpiar_ascii(train=train)\n",
    "    limpiar_mayusculas(train=train)\n",
    "    limpiar_puntuacion(train=train)\n",
    "    limpiar_numeros(train=train)\n",
    "    limpiar_stopwords(train=train)\n",
    "    limpiar_guiones(train=train)\n",
    "    limpiar_numeros_ascii(train=train)\n",
    "\n",
    "    return\n",
    "\n",
    "limpiar_texto(train=X_train)\n",
    "\n",
    "print(X_train)"
   ]
  },
  {
   "cell_type": "markdown",
   "metadata": {},
   "source": [
    "3.2. Tokenizacion"
   ]
  },
  {
   "cell_type": "markdown",
   "metadata": {},
   "source": [
    "Vamos a tokenizar por medio de spacy que ya tiene integrada esta función, además utilizamos otra librería llamada swifter para poder reducir los tiempos de ejecución de la tokenización por medio del procesamiento en paralelo."
   ]
  },
  {
   "cell_type": "code",
   "execution_count": 29,
   "metadata": {},
   "outputs": [
    {
     "data": {
      "application/vnd.jupyter.widget-view+json": {
       "model_id": "7dd409e1440143c4a9186880162600ce",
       "version_major": 2,
       "version_minor": 0
      },
      "text/plain": [
       "Dask Apply:   0%|          | 0/17 [00:00<?, ?it/s]"
      ]
     },
     "metadata": {},
     "output_type": "display_data"
    },
    {
     "data": {
      "application/vnd.jupyter.widget-view+json": {
       "model_id": "22169f4508d14a12a096a2dd9579bb2b",
       "version_major": 2,
       "version_minor": 0
      },
      "text/plain": [
       "Dask Apply:   0%|          | 0/17 [00:00<?, ?it/s]"
      ]
     },
     "metadata": {},
     "output_type": "display_data"
    }
   ],
   "source": [
    "def tokenizar(train):\n",
    "\n",
    "    train[\"Titulo_T\"] = train[\"Titulo\"].swifter.allow_dask_on_strings(enable=True).apply(lambda x: [token.text for token in nlp(x) if not token.is_space])\n",
    "    train[\"Descripcion_T\"] = train[\"Descripcion\"].swifter.allow_dask_on_strings(enable=True).apply(lambda x: [token.text for token in nlp(x) if not token.is_space])\n",
    "\n",
    "    return\n",
    "\n",
    "tokenizar(train=X_train)"
   ]
  },
  {
   "cell_type": "markdown",
   "metadata": {},
   "source": [
    "3.3. Vectorización"
   ]
  },
  {
   "cell_type": "markdown",
   "metadata": {},
   "source": [
    "Vectorizamos el conjunto de train con fit, para declarar las palabras y luego el conjunto de test lo vectorizamos con transform para no sobrescribir las palabras del paso anterior"
   ]
  },
  {
   "cell_type": "code",
   "execution_count": 30,
   "metadata": {},
   "outputs": [
    {
     "name": "stdout",
     "output_type": "stream",
     "text": [
      "  (np.int32(0), np.int32(5946))\t1\n",
      "  (np.int32(0), np.int32(6239))\t1\n",
      "  (np.int32(0), np.int32(36278))\t1\n",
      "  (np.int32(0), np.int32(27872))\t1\n",
      "  (np.int32(0), np.int32(41847))\t1\n",
      "  (np.int32(0), np.int32(31171))\t1\n",
      "  (np.int32(0), np.int32(4110))\t1\n",
      "  (np.int32(0), np.int32(34378))\t1\n",
      "  (np.int32(0), np.int32(3462))\t1\n",
      "  (np.int32(0), np.int32(12449))\t1\n",
      "  (np.int32(0), np.int32(4838))\t1\n",
      "  (np.int32(0), np.int32(28919))\t1\n",
      "  (np.int32(0), np.int32(39533))\t1\n",
      "  (np.int32(0), np.int32(28974))\t1\n",
      "  (np.int32(0), np.int32(9118))\t1\n",
      "  (np.int32(0), np.int32(35721))\t1\n",
      "  (np.int32(0), np.int32(41202))\t1\n",
      "  (np.int32(0), np.int32(16430))\t1\n",
      "  (np.int32(0), np.int32(22486))\t1\n",
      "  (np.int32(0), np.int32(21028))\t1\n",
      "  (np.int32(0), np.int32(16727))\t1\n",
      "  (np.int32(0), np.int32(40314))\t1\n",
      "  (np.int32(0), np.int32(11362))\t1\n",
      "  (np.int32(0), np.int32(42660))\t1\n",
      "  (np.int32(0), np.int32(6294))\t1\n",
      "  :\t:\n",
      "  (np.int32(39704), np.int32(16567))\t1\n",
      "  (np.int32(39704), np.int32(7740))\t1\n",
      "  (np.int32(39704), np.int32(42730))\t1\n",
      "  (np.int32(39704), np.int32(35762))\t1\n",
      "  (np.int32(39704), np.int32(23321))\t1\n",
      "  (np.int32(39705), np.int32(27511))\t1\n",
      "  (np.int32(39705), np.int32(8107))\t1\n",
      "  (np.int32(39705), np.int32(2352))\t1\n",
      "  (np.int32(39705), np.int32(22121))\t1\n",
      "  (np.int32(39705), np.int32(27516))\t1\n",
      "  (np.int32(39705), np.int32(8413))\t1\n",
      "  (np.int32(39705), np.int32(9927))\t1\n",
      "  (np.int32(39705), np.int32(12950))\t1\n",
      "  (np.int32(39705), np.int32(33487))\t1\n",
      "  (np.int32(39705), np.int32(14568))\t1\n",
      "  (np.int32(39705), np.int32(8911))\t1\n",
      "  (np.int32(39705), np.int32(24920))\t1\n",
      "  (np.int32(39705), np.int32(14689))\t1\n",
      "  (np.int32(39705), np.int32(18761))\t1\n",
      "  (np.int32(39705), np.int32(4338))\t1\n",
      "  (np.int32(39705), np.int32(5348))\t1\n",
      "  (np.int32(39705), np.int32(28260))\t1\n",
      "  (np.int32(39705), np.int32(27016))\t1\n",
      "  (np.int32(39705), np.int32(41987))\t1\n",
      "  (np.int32(39705), np.int32(43916))\t1\n"
     ]
    }
   ],
   "source": [
    "vectorizador = CountVectorizer() \n",
    "\n",
    "def vectorizar(train):\n",
    "\n",
    "    global vectorizador\n",
    "\n",
    "    textos = train[\"Titulo_T\"].astype(str) + \" \" + train[\"Descripcion_T\"].astype(str)\n",
    "\n",
    "    vector_df = vectorizador.fit_transform(textos)\n",
    "\n",
    "    return vector_df\n",
    "\n",
    "vectorizacion = vectorizar(train=X_train)\n",
    "\n",
    "print(vectorizacion)\n",
    "\n",
    "def vectorizar_test(train):\n",
    "\n",
    "    global vectorizador\n",
    "    \n",
    "    textos = train[\"Titulo_T\"].astype(str) + \" \" + train[\"Descripcion_T\"].astype(str)\n",
    "\n",
    "    vector_df = vectorizador.transform(textos)\n",
    "\n",
    "    return vector_df\n"
   ]
  },
  {
   "cell_type": "code",
   "execution_count": 31,
   "metadata": {},
   "outputs": [],
   "source": [
    "def preparacion_datos_train(x):\n",
    "\n",
    "    drop_empty(train=x)\n",
    "    drop_duplicates(train=x)\n",
    "    limpiar_texto(train=x)\n",
    "    tokenizar(train=x)\n",
    "    x_final = vectorizar(train=x)\n",
    "\n",
    "    return x_final\n",
    "\n",
    "def preparacion_datos_test(x):\n",
    "\n",
    "    drop_empty(train=x)\n",
    "    drop_duplicates(train=x)\n",
    "    limpiar_texto(train=x)\n",
    "    tokenizar(train=x)\n",
    "    x_final = vectorizar_test(train=x)\n",
    "\n",
    "    return x_final\n",
    "\n",
    "def actualizar_y_test(x):\n",
    "\n",
    "    drop_empty(train=x)\n",
    "    drop_duplicates(train=x)\n",
    "    \n",
    "    return\n"
   ]
  },
  {
   "cell_type": "markdown",
   "metadata": {},
   "source": [
    "# 4. Modelado"
   ]
  },
  {
   "cell_type": "markdown",
   "metadata": {},
   "source": [
    "Generamos nuestro modelo de Regresión Logística"
   ]
  },
  {
   "cell_type": "code",
   "execution_count": 32,
   "metadata": {},
   "outputs": [
    {
     "data": {
      "application/vnd.jupyter.widget-view+json": {
       "model_id": "dab14ad6727d4ae0b483312a2b8d5904",
       "version_major": 2,
       "version_minor": 0
      },
      "text/plain": [
       "Dask Apply:   0%|          | 0/17 [00:00<?, ?it/s]"
      ]
     },
     "metadata": {},
     "output_type": "display_data"
    },
    {
     "data": {
      "application/vnd.jupyter.widget-view+json": {
       "model_id": "d534f9ed9a7d4b56a6d3aa2c6a632eff",
       "version_major": 2,
       "version_minor": 0
      },
      "text/plain": [
       "Dask Apply:   0%|          | 0/17 [00:00<?, ?it/s]"
      ]
     },
     "metadata": {},
     "output_type": "display_data"
    },
    {
     "name": "stdout",
     "output_type": "stream",
     "text": [
      "(39705, 45153) (39705,)\n"
     ]
    },
    {
     "data": {
      "text/html": [
       "<style>#sk-container-id-1 {\n",
       "  /* Definition of color scheme common for light and dark mode */\n",
       "  --sklearn-color-text: black;\n",
       "  --sklearn-color-line: gray;\n",
       "  /* Definition of color scheme for unfitted estimators */\n",
       "  --sklearn-color-unfitted-level-0: #fff5e6;\n",
       "  --sklearn-color-unfitted-level-1: #f6e4d2;\n",
       "  --sklearn-color-unfitted-level-2: #ffe0b3;\n",
       "  --sklearn-color-unfitted-level-3: chocolate;\n",
       "  /* Definition of color scheme for fitted estimators */\n",
       "  --sklearn-color-fitted-level-0: #f0f8ff;\n",
       "  --sklearn-color-fitted-level-1: #d4ebff;\n",
       "  --sklearn-color-fitted-level-2: #b3dbfd;\n",
       "  --sklearn-color-fitted-level-3: cornflowerblue;\n",
       "\n",
       "  /* Specific color for light theme */\n",
       "  --sklearn-color-text-on-default-background: var(--sg-text-color, var(--theme-code-foreground, var(--jp-content-font-color1, black)));\n",
       "  --sklearn-color-background: var(--sg-background-color, var(--theme-background, var(--jp-layout-color0, white)));\n",
       "  --sklearn-color-border-box: var(--sg-text-color, var(--theme-code-foreground, var(--jp-content-font-color1, black)));\n",
       "  --sklearn-color-icon: #696969;\n",
       "\n",
       "  @media (prefers-color-scheme: dark) {\n",
       "    /* Redefinition of color scheme for dark theme */\n",
       "    --sklearn-color-text-on-default-background: var(--sg-text-color, var(--theme-code-foreground, var(--jp-content-font-color1, white)));\n",
       "    --sklearn-color-background: var(--sg-background-color, var(--theme-background, var(--jp-layout-color0, #111)));\n",
       "    --sklearn-color-border-box: var(--sg-text-color, var(--theme-code-foreground, var(--jp-content-font-color1, white)));\n",
       "    --sklearn-color-icon: #878787;\n",
       "  }\n",
       "}\n",
       "\n",
       "#sk-container-id-1 {\n",
       "  color: var(--sklearn-color-text);\n",
       "}\n",
       "\n",
       "#sk-container-id-1 pre {\n",
       "  padding: 0;\n",
       "}\n",
       "\n",
       "#sk-container-id-1 input.sk-hidden--visually {\n",
       "  border: 0;\n",
       "  clip: rect(1px 1px 1px 1px);\n",
       "  clip: rect(1px, 1px, 1px, 1px);\n",
       "  height: 1px;\n",
       "  margin: -1px;\n",
       "  overflow: hidden;\n",
       "  padding: 0;\n",
       "  position: absolute;\n",
       "  width: 1px;\n",
       "}\n",
       "\n",
       "#sk-container-id-1 div.sk-dashed-wrapped {\n",
       "  border: 1px dashed var(--sklearn-color-line);\n",
       "  margin: 0 0.4em 0.5em 0.4em;\n",
       "  box-sizing: border-box;\n",
       "  padding-bottom: 0.4em;\n",
       "  background-color: var(--sklearn-color-background);\n",
       "}\n",
       "\n",
       "#sk-container-id-1 div.sk-container {\n",
       "  /* jupyter's `normalize.less` sets `[hidden] { display: none; }`\n",
       "     but bootstrap.min.css set `[hidden] { display: none !important; }`\n",
       "     so we also need the `!important` here to be able to override the\n",
       "     default hidden behavior on the sphinx rendered scikit-learn.org.\n",
       "     See: https://github.com/scikit-learn/scikit-learn/issues/21755 */\n",
       "  display: inline-block !important;\n",
       "  position: relative;\n",
       "}\n",
       "\n",
       "#sk-container-id-1 div.sk-text-repr-fallback {\n",
       "  display: none;\n",
       "}\n",
       "\n",
       "div.sk-parallel-item,\n",
       "div.sk-serial,\n",
       "div.sk-item {\n",
       "  /* draw centered vertical line to link estimators */\n",
       "  background-image: linear-gradient(var(--sklearn-color-text-on-default-background), var(--sklearn-color-text-on-default-background));\n",
       "  background-size: 2px 100%;\n",
       "  background-repeat: no-repeat;\n",
       "  background-position: center center;\n",
       "}\n",
       "\n",
       "/* Parallel-specific style estimator block */\n",
       "\n",
       "#sk-container-id-1 div.sk-parallel-item::after {\n",
       "  content: \"\";\n",
       "  width: 100%;\n",
       "  border-bottom: 2px solid var(--sklearn-color-text-on-default-background);\n",
       "  flex-grow: 1;\n",
       "}\n",
       "\n",
       "#sk-container-id-1 div.sk-parallel {\n",
       "  display: flex;\n",
       "  align-items: stretch;\n",
       "  justify-content: center;\n",
       "  background-color: var(--sklearn-color-background);\n",
       "  position: relative;\n",
       "}\n",
       "\n",
       "#sk-container-id-1 div.sk-parallel-item {\n",
       "  display: flex;\n",
       "  flex-direction: column;\n",
       "}\n",
       "\n",
       "#sk-container-id-1 div.sk-parallel-item:first-child::after {\n",
       "  align-self: flex-end;\n",
       "  width: 50%;\n",
       "}\n",
       "\n",
       "#sk-container-id-1 div.sk-parallel-item:last-child::after {\n",
       "  align-self: flex-start;\n",
       "  width: 50%;\n",
       "}\n",
       "\n",
       "#sk-container-id-1 div.sk-parallel-item:only-child::after {\n",
       "  width: 0;\n",
       "}\n",
       "\n",
       "/* Serial-specific style estimator block */\n",
       "\n",
       "#sk-container-id-1 div.sk-serial {\n",
       "  display: flex;\n",
       "  flex-direction: column;\n",
       "  align-items: center;\n",
       "  background-color: var(--sklearn-color-background);\n",
       "  padding-right: 1em;\n",
       "  padding-left: 1em;\n",
       "}\n",
       "\n",
       "\n",
       "/* Toggleable style: style used for estimator/Pipeline/ColumnTransformer box that is\n",
       "clickable and can be expanded/collapsed.\n",
       "- Pipeline and ColumnTransformer use this feature and define the default style\n",
       "- Estimators will overwrite some part of the style using the `sk-estimator` class\n",
       "*/\n",
       "\n",
       "/* Pipeline and ColumnTransformer style (default) */\n",
       "\n",
       "#sk-container-id-1 div.sk-toggleable {\n",
       "  /* Default theme specific background. It is overwritten whether we have a\n",
       "  specific estimator or a Pipeline/ColumnTransformer */\n",
       "  background-color: var(--sklearn-color-background);\n",
       "}\n",
       "\n",
       "/* Toggleable label */\n",
       "#sk-container-id-1 label.sk-toggleable__label {\n",
       "  cursor: pointer;\n",
       "  display: block;\n",
       "  width: 100%;\n",
       "  margin-bottom: 0;\n",
       "  padding: 0.5em;\n",
       "  box-sizing: border-box;\n",
       "  text-align: center;\n",
       "}\n",
       "\n",
       "#sk-container-id-1 label.sk-toggleable__label-arrow:before {\n",
       "  /* Arrow on the left of the label */\n",
       "  content: \"▸\";\n",
       "  float: left;\n",
       "  margin-right: 0.25em;\n",
       "  color: var(--sklearn-color-icon);\n",
       "}\n",
       "\n",
       "#sk-container-id-1 label.sk-toggleable__label-arrow:hover:before {\n",
       "  color: var(--sklearn-color-text);\n",
       "}\n",
       "\n",
       "/* Toggleable content - dropdown */\n",
       "\n",
       "#sk-container-id-1 div.sk-toggleable__content {\n",
       "  max-height: 0;\n",
       "  max-width: 0;\n",
       "  overflow: hidden;\n",
       "  text-align: left;\n",
       "  /* unfitted */\n",
       "  background-color: var(--sklearn-color-unfitted-level-0);\n",
       "}\n",
       "\n",
       "#sk-container-id-1 div.sk-toggleable__content.fitted {\n",
       "  /* fitted */\n",
       "  background-color: var(--sklearn-color-fitted-level-0);\n",
       "}\n",
       "\n",
       "#sk-container-id-1 div.sk-toggleable__content pre {\n",
       "  margin: 0.2em;\n",
       "  border-radius: 0.25em;\n",
       "  color: var(--sklearn-color-text);\n",
       "  /* unfitted */\n",
       "  background-color: var(--sklearn-color-unfitted-level-0);\n",
       "}\n",
       "\n",
       "#sk-container-id-1 div.sk-toggleable__content.fitted pre {\n",
       "  /* unfitted */\n",
       "  background-color: var(--sklearn-color-fitted-level-0);\n",
       "}\n",
       "\n",
       "#sk-container-id-1 input.sk-toggleable__control:checked~div.sk-toggleable__content {\n",
       "  /* Expand drop-down */\n",
       "  max-height: 200px;\n",
       "  max-width: 100%;\n",
       "  overflow: auto;\n",
       "}\n",
       "\n",
       "#sk-container-id-1 input.sk-toggleable__control:checked~label.sk-toggleable__label-arrow:before {\n",
       "  content: \"▾\";\n",
       "}\n",
       "\n",
       "/* Pipeline/ColumnTransformer-specific style */\n",
       "\n",
       "#sk-container-id-1 div.sk-label input.sk-toggleable__control:checked~label.sk-toggleable__label {\n",
       "  color: var(--sklearn-color-text);\n",
       "  background-color: var(--sklearn-color-unfitted-level-2);\n",
       "}\n",
       "\n",
       "#sk-container-id-1 div.sk-label.fitted input.sk-toggleable__control:checked~label.sk-toggleable__label {\n",
       "  background-color: var(--sklearn-color-fitted-level-2);\n",
       "}\n",
       "\n",
       "/* Estimator-specific style */\n",
       "\n",
       "/* Colorize estimator box */\n",
       "#sk-container-id-1 div.sk-estimator input.sk-toggleable__control:checked~label.sk-toggleable__label {\n",
       "  /* unfitted */\n",
       "  background-color: var(--sklearn-color-unfitted-level-2);\n",
       "}\n",
       "\n",
       "#sk-container-id-1 div.sk-estimator.fitted input.sk-toggleable__control:checked~label.sk-toggleable__label {\n",
       "  /* fitted */\n",
       "  background-color: var(--sklearn-color-fitted-level-2);\n",
       "}\n",
       "\n",
       "#sk-container-id-1 div.sk-label label.sk-toggleable__label,\n",
       "#sk-container-id-1 div.sk-label label {\n",
       "  /* The background is the default theme color */\n",
       "  color: var(--sklearn-color-text-on-default-background);\n",
       "}\n",
       "\n",
       "/* On hover, darken the color of the background */\n",
       "#sk-container-id-1 div.sk-label:hover label.sk-toggleable__label {\n",
       "  color: var(--sklearn-color-text);\n",
       "  background-color: var(--sklearn-color-unfitted-level-2);\n",
       "}\n",
       "\n",
       "/* Label box, darken color on hover, fitted */\n",
       "#sk-container-id-1 div.sk-label.fitted:hover label.sk-toggleable__label.fitted {\n",
       "  color: var(--sklearn-color-text);\n",
       "  background-color: var(--sklearn-color-fitted-level-2);\n",
       "}\n",
       "\n",
       "/* Estimator label */\n",
       "\n",
       "#sk-container-id-1 div.sk-label label {\n",
       "  font-family: monospace;\n",
       "  font-weight: bold;\n",
       "  display: inline-block;\n",
       "  line-height: 1.2em;\n",
       "}\n",
       "\n",
       "#sk-container-id-1 div.sk-label-container {\n",
       "  text-align: center;\n",
       "}\n",
       "\n",
       "/* Estimator-specific */\n",
       "#sk-container-id-1 div.sk-estimator {\n",
       "  font-family: monospace;\n",
       "  border: 1px dotted var(--sklearn-color-border-box);\n",
       "  border-radius: 0.25em;\n",
       "  box-sizing: border-box;\n",
       "  margin-bottom: 0.5em;\n",
       "  /* unfitted */\n",
       "  background-color: var(--sklearn-color-unfitted-level-0);\n",
       "}\n",
       "\n",
       "#sk-container-id-1 div.sk-estimator.fitted {\n",
       "  /* fitted */\n",
       "  background-color: var(--sklearn-color-fitted-level-0);\n",
       "}\n",
       "\n",
       "/* on hover */\n",
       "#sk-container-id-1 div.sk-estimator:hover {\n",
       "  /* unfitted */\n",
       "  background-color: var(--sklearn-color-unfitted-level-2);\n",
       "}\n",
       "\n",
       "#sk-container-id-1 div.sk-estimator.fitted:hover {\n",
       "  /* fitted */\n",
       "  background-color: var(--sklearn-color-fitted-level-2);\n",
       "}\n",
       "\n",
       "/* Specification for estimator info (e.g. \"i\" and \"?\") */\n",
       "\n",
       "/* Common style for \"i\" and \"?\" */\n",
       "\n",
       ".sk-estimator-doc-link,\n",
       "a:link.sk-estimator-doc-link,\n",
       "a:visited.sk-estimator-doc-link {\n",
       "  float: right;\n",
       "  font-size: smaller;\n",
       "  line-height: 1em;\n",
       "  font-family: monospace;\n",
       "  background-color: var(--sklearn-color-background);\n",
       "  border-radius: 1em;\n",
       "  height: 1em;\n",
       "  width: 1em;\n",
       "  text-decoration: none !important;\n",
       "  margin-left: 1ex;\n",
       "  /* unfitted */\n",
       "  border: var(--sklearn-color-unfitted-level-1) 1pt solid;\n",
       "  color: var(--sklearn-color-unfitted-level-1);\n",
       "}\n",
       "\n",
       ".sk-estimator-doc-link.fitted,\n",
       "a:link.sk-estimator-doc-link.fitted,\n",
       "a:visited.sk-estimator-doc-link.fitted {\n",
       "  /* fitted */\n",
       "  border: var(--sklearn-color-fitted-level-1) 1pt solid;\n",
       "  color: var(--sklearn-color-fitted-level-1);\n",
       "}\n",
       "\n",
       "/* On hover */\n",
       "div.sk-estimator:hover .sk-estimator-doc-link:hover,\n",
       ".sk-estimator-doc-link:hover,\n",
       "div.sk-label-container:hover .sk-estimator-doc-link:hover,\n",
       ".sk-estimator-doc-link:hover {\n",
       "  /* unfitted */\n",
       "  background-color: var(--sklearn-color-unfitted-level-3);\n",
       "  color: var(--sklearn-color-background);\n",
       "  text-decoration: none;\n",
       "}\n",
       "\n",
       "div.sk-estimator.fitted:hover .sk-estimator-doc-link.fitted:hover,\n",
       ".sk-estimator-doc-link.fitted:hover,\n",
       "div.sk-label-container:hover .sk-estimator-doc-link.fitted:hover,\n",
       ".sk-estimator-doc-link.fitted:hover {\n",
       "  /* fitted */\n",
       "  background-color: var(--sklearn-color-fitted-level-3);\n",
       "  color: var(--sklearn-color-background);\n",
       "  text-decoration: none;\n",
       "}\n",
       "\n",
       "/* Span, style for the box shown on hovering the info icon */\n",
       ".sk-estimator-doc-link span {\n",
       "  display: none;\n",
       "  z-index: 9999;\n",
       "  position: relative;\n",
       "  font-weight: normal;\n",
       "  right: .2ex;\n",
       "  padding: .5ex;\n",
       "  margin: .5ex;\n",
       "  width: min-content;\n",
       "  min-width: 20ex;\n",
       "  max-width: 50ex;\n",
       "  color: var(--sklearn-color-text);\n",
       "  box-shadow: 2pt 2pt 4pt #999;\n",
       "  /* unfitted */\n",
       "  background: var(--sklearn-color-unfitted-level-0);\n",
       "  border: .5pt solid var(--sklearn-color-unfitted-level-3);\n",
       "}\n",
       "\n",
       ".sk-estimator-doc-link.fitted span {\n",
       "  /* fitted */\n",
       "  background: var(--sklearn-color-fitted-level-0);\n",
       "  border: var(--sklearn-color-fitted-level-3);\n",
       "}\n",
       "\n",
       ".sk-estimator-doc-link:hover span {\n",
       "  display: block;\n",
       "}\n",
       "\n",
       "/* \"?\"-specific style due to the `<a>` HTML tag */\n",
       "\n",
       "#sk-container-id-1 a.estimator_doc_link {\n",
       "  float: right;\n",
       "  font-size: 1rem;\n",
       "  line-height: 1em;\n",
       "  font-family: monospace;\n",
       "  background-color: var(--sklearn-color-background);\n",
       "  border-radius: 1rem;\n",
       "  height: 1rem;\n",
       "  width: 1rem;\n",
       "  text-decoration: none;\n",
       "  /* unfitted */\n",
       "  color: var(--sklearn-color-unfitted-level-1);\n",
       "  border: var(--sklearn-color-unfitted-level-1) 1pt solid;\n",
       "}\n",
       "\n",
       "#sk-container-id-1 a.estimator_doc_link.fitted {\n",
       "  /* fitted */\n",
       "  border: var(--sklearn-color-fitted-level-1) 1pt solid;\n",
       "  color: var(--sklearn-color-fitted-level-1);\n",
       "}\n",
       "\n",
       "/* On hover */\n",
       "#sk-container-id-1 a.estimator_doc_link:hover {\n",
       "  /* unfitted */\n",
       "  background-color: var(--sklearn-color-unfitted-level-3);\n",
       "  color: var(--sklearn-color-background);\n",
       "  text-decoration: none;\n",
       "}\n",
       "\n",
       "#sk-container-id-1 a.estimator_doc_link.fitted:hover {\n",
       "  /* fitted */\n",
       "  background-color: var(--sklearn-color-fitted-level-3);\n",
       "}\n",
       "</style><div id=\"sk-container-id-1\" class=\"sk-top-container\"><div class=\"sk-text-repr-fallback\"><pre>LogisticRegression()</pre><b>In a Jupyter environment, please rerun this cell to show the HTML representation or trust the notebook. <br />On GitHub, the HTML representation is unable to render, please try loading this page with nbviewer.org.</b></div><div class=\"sk-container\" hidden><div class=\"sk-item\"><div class=\"sk-estimator fitted sk-toggleable\"><input class=\"sk-toggleable__control sk-hidden--visually\" id=\"sk-estimator-id-1\" type=\"checkbox\" checked><label for=\"sk-estimator-id-1\" class=\"sk-toggleable__label fitted sk-toggleable__label-arrow fitted\">&nbsp;&nbsp;LogisticRegression<a class=\"sk-estimator-doc-link fitted\" rel=\"noreferrer\" target=\"_blank\" href=\"https://scikit-learn.org/1.5/modules/generated/sklearn.linear_model.LogisticRegression.html\">?<span>Documentation for LogisticRegression</span></a><span class=\"sk-estimator-doc-link fitted\">i<span>Fitted</span></span></label><div class=\"sk-toggleable__content fitted\"><pre>LogisticRegression()</pre></div> </div></div></div></div>"
      ],
      "text/plain": [
       "LogisticRegression()"
      ]
     },
     "execution_count": 32,
     "metadata": {},
     "output_type": "execute_result"
    }
   ],
   "source": [
    "x = preparacion_datos_train(x=X_train)\n",
    "\n",
    "y = X_train[\"Label\"]\n",
    "\n",
    "print(x.shape, y.shape)\n",
    "\n",
    "model = LogisticRegression()\n",
    "model.fit(x, y)"
   ]
  },
  {
   "cell_type": "markdown",
   "metadata": {},
   "source": [
    "Hacemos uso del test para predecir los valores con el modelo de la regresión logística"
   ]
  },
  {
   "cell_type": "code",
   "execution_count": 33,
   "metadata": {},
   "outputs": [
    {
     "data": {
      "application/vnd.jupyter.widget-view+json": {
       "model_id": "eb8515c0d1bf499f8671864682babd31",
       "version_major": 2,
       "version_minor": 0
      },
      "text/plain": [
       "Dask Apply:   0%|          | 0/17 [00:00<?, ?it/s]"
      ]
     },
     "metadata": {},
     "output_type": "display_data"
    },
    {
     "data": {
      "application/vnd.jupyter.widget-view+json": {
       "model_id": "1c7336c684424abfbac22bcd35389e7e",
       "version_major": 2,
       "version_minor": 0
      },
      "text/plain": [
       "Dask Apply:   0%|          | 0/17 [00:00<?, ?it/s]"
      ]
     },
     "metadata": {},
     "output_type": "display_data"
    },
    {
     "name": "stdout",
     "output_type": "stream",
     "text": [
      "  (np.int32(0), np.int32(362))\t1\n",
      "  (np.int32(0), np.int32(1727))\t1\n",
      "  (np.int32(0), np.int32(2452))\t1\n",
      "  (np.int32(0), np.int32(3615))\t1\n",
      "  (np.int32(0), np.int32(8294))\t1\n",
      "  (np.int32(0), np.int32(10912))\t1\n",
      "  (np.int32(0), np.int32(10956))\t1\n",
      "  (np.int32(0), np.int32(16134))\t1\n",
      "  (np.int32(0), np.int32(21464))\t1\n",
      "  (np.int32(0), np.int32(25897))\t1\n",
      "  (np.int32(0), np.int32(26519))\t1\n",
      "  (np.int32(0), np.int32(27420))\t1\n",
      "  (np.int32(0), np.int32(27981))\t1\n",
      "  (np.int32(0), np.int32(28270))\t1\n",
      "  (np.int32(0), np.int32(28303))\t1\n",
      "  (np.int32(0), np.int32(28474))\t1\n",
      "  (np.int32(0), np.int32(32493))\t1\n",
      "  (np.int32(0), np.int32(33360))\t1\n",
      "  (np.int32(0), np.int32(36379))\t2\n",
      "  (np.int32(0), np.int32(39144))\t1\n",
      "  (np.int32(0), np.int32(43841))\t1\n",
      "  (np.int32(0), np.int32(44253))\t1\n",
      "  (np.int32(1), np.int32(901))\t1\n",
      "  (np.int32(1), np.int32(5491))\t1\n",
      "  (np.int32(1), np.int32(7887))\t1\n",
      "  :\t:\n",
      "  (np.int32(17072), np.int32(36577))\t2\n",
      "  (np.int32(17072), np.int32(41637))\t1\n",
      "  (np.int32(17072), np.int32(43844))\t1\n",
      "  (np.int32(17073), np.int32(5266))\t2\n",
      "  (np.int32(17073), np.int32(5694))\t1\n",
      "  (np.int32(17073), np.int32(8193))\t2\n",
      "  (np.int32(17073), np.int32(9870))\t1\n",
      "  (np.int32(17073), np.int32(12382))\t2\n",
      "  (np.int32(17073), np.int32(24174))\t1\n",
      "  (np.int32(17073), np.int32(24962))\t1\n",
      "  (np.int32(17073), np.int32(25623))\t1\n",
      "  (np.int32(17073), np.int32(25873))\t2\n",
      "  (np.int32(17073), np.int32(25949))\t1\n",
      "  (np.int32(17073), np.int32(27564))\t1\n",
      "  (np.int32(17073), np.int32(28121))\t1\n",
      "  (np.int32(17073), np.int32(29463))\t1\n",
      "  (np.int32(17073), np.int32(31222))\t1\n",
      "  (np.int32(17073), np.int32(31274))\t1\n",
      "  (np.int32(17073), np.int32(32790))\t1\n",
      "  (np.int32(17073), np.int32(37866))\t1\n",
      "  (np.int32(17073), np.int32(39340))\t1\n",
      "  (np.int32(17073), np.int32(40962))\t2\n",
      "  (np.int32(17073), np.int32(41957))\t2\n",
      "  (np.int32(17073), np.int32(43844))\t1\n",
      "  (np.int32(17073), np.int32(45079))\t2\n"
     ]
    }
   ],
   "source": [
    "x_prep = preparacion_datos_test(x=X_test)\n",
    "\n",
    "print(x_prep)\n",
    "\n",
    "yt = model.predict(x_prep)"
   ]
  },
  {
   "cell_type": "markdown",
   "metadata": {},
   "source": [
    "Realizamos el proceso de cálculo de métricas para la regresión logística por medio de la libreria sklearn"
   ]
  },
  {
   "cell_type": "code",
   "execution_count": 34,
   "metadata": {},
   "outputs": [
    {
     "name": "stdout",
     "output_type": "stream",
     "text": [
      "Exactitud del modelo por medio de regresión logística: 0.8895982195150521\n",
      "Sensibilidad del modelo por medio de regresión logística: 0.9276634382566586\n",
      "Precision del modelo por medio de regresión logística: 0.8872913249059152\n",
      "Puntuación F1 del modelo por medio de regresión logística: 0.9070283600493219\n",
      "              precision    recall  f1-score   support\n",
      "\n",
      "           0       0.89      0.84      0.86      7162\n",
      "           1       0.89      0.93      0.91      9912\n",
      "\n",
      "    accuracy                           0.89     17074\n",
      "   macro avg       0.89      0.88      0.89     17074\n",
      "weighted avg       0.89      0.89      0.89     17074\n",
      "\n"
     ]
    },
    {
     "data": {
      "image/png": "[encoded data removed]",
      "text/plain": [
       "<Figure size 640x480 with 2 Axes>"
      ]
     },
     "metadata": {},
     "output_type": "display_data"
    }
   ],
   "source": [
    "from sklearn.metrics import confusion_matrix, ConfusionMatrixDisplay\n",
    "from sklearn.metrics import recall_score, precision_score, f1_score, confusion_matrix, ConfusionMatrixDisplay, classification_report\n",
    "\n",
    "actualizar_y_test(x=X_test)\n",
    "y_test = X_test[\"Label\"]\n",
    "\n",
    "exactitud = accuracy_score(y_test, yt)\n",
    "print(\"Exactitud del modelo por medio de regresión logística: \" + str(exactitud))\n",
    "\n",
    "recall = recall_score(y_test, yt)\n",
    "print(\"Sensibilidad del modelo por medio de regresión logística: \" + str(recall))\n",
    "\n",
    "precision = precision_score(y_test, yt)\n",
    "print(\"Precision del modelo por medio de regresión logística: \" + str(precision))\n",
    "\n",
    "puntuacion_F1 = f1_score(y_test, yt)\n",
    "print(\"Puntuación F1 del modelo por medio de regresión logística: \" + str(puntuacion_F1))\n",
    "\n",
    "matrix_logistic = confusion_matrix(y_test, yt)\n",
    "\n",
    "disp = ConfusionMatrixDisplay(confusion_matrix=matrix_logistic)\n",
    "disp.plot(cmap=\"Blues\")\n",
    "\n",
    "print(classification_report(y_test, yt))"
   ]
  },
  {
   "cell_type": "markdown",
   "metadata": {},
   "source": [
    "Probando con test que tiene un total de 17074 datos, vemos que hay en total 15189 datos que son clasificados de manera correcta y solamente 1885 datos que no estan clasificados de manera correcta"
   ]
  },
  {
   "cell_type": "markdown",
   "metadata": {},
   "source": [
    "Ahora generamos nuestro modelo con maquinas de soporte de vectores\n"
   ]
  },
  {
   "cell_type": "code",
   "execution_count": 35,
   "metadata": {},
   "outputs": [
    {
     "name": "stderr",
     "output_type": "stream",
     "text": [
      "c:\\Users\\josem\\AppData\\Local\\Programs\\Python\\Python39\\lib\\site-packages\\sklearn\\svm\\_base.py:297: ConvergenceWarning: Solver terminated early (max_iter=10000).  Consider pre-processing your data with StandardScaler or MinMaxScaler.\n",
      "  warnings.warn(\n"
     ]
    }
   ],
   "source": [
    "\n",
    "modelSVM = SVC(max_iter=10000)\n",
    "#modelSVM = LinearSVC(max_iter=100000)\n",
    "modelSVM.fit(x,y)\n",
    "salidavectores = modelSVM.predict(x_prep)\n"
   ]
  },
  {
   "cell_type": "markdown",
   "metadata": {},
   "source": [
    "Observamos la efectividad del modelo frente a las métricas planteadas\n"
   ]
  },
  {
   "cell_type": "code",
   "execution_count": 36,
   "metadata": {},
   "outputs": [
    {
     "name": "stdout",
     "output_type": "stream",
     "text": [
      "{np.int64(0): np.int64(6711), np.int64(1): np.int64(10363)}\n",
      "{np.int64(0): np.int64(6072), np.int64(1): np.int64(11002)}\n",
      "{np.int64(0): np.int64(6711), np.int64(1): np.int64(10363)}\n",
      "23862    1\n",
      "44273    0\n",
      "43156    1\n",
      "13087    0\n",
      "56295    0\n",
      "        ..\n",
      "50057    0\n",
      "32511    0\n",
      "5192     1\n",
      "12172    1\n",
      "33003    1\n",
      "Name: Label, Length: 39705, dtype: int64\n",
      "Exactitud del modelo por medio de máquinas de vectores: 0.8842684783881926\n",
      "Sensibilidad del modelo por medio de máquinas de vectores: 0.9553066989507667\n",
      "Precision del modelo por medio de máquinas de vectores: 0.860661697873114\n",
      "Puntuación F1 del modelo por medio de maquinas de vectores: 0.9055178349431003\n",
      "              precision    recall  f1-score   support\n",
      "\n",
      "           0       0.93      0.79      0.85      7162\n",
      "           1       0.86      0.96      0.91      9912\n",
      "\n",
      "    accuracy                           0.88     17074\n",
      "   macro avg       0.89      0.87      0.88     17074\n",
      "weighted avg       0.89      0.88      0.88     17074\n",
      "\n"
     ]
    },
    {
     "data": {
      "image/png": "[encoded data removed]",
      "text/plain": [
       "<Figure size 640x480 with 2 Axes>"
      ]
     },
     "metadata": {},
     "output_type": "display_data"
    }
   ],
   "source": [
    "salidavectores = np.where(salidavectores == -1, 0, salidavectores)\n",
    "valores_unicosyt, conteosyt = np.unique(yt, return_counts=True)\n",
    "valores_unicos, conteos = np.unique(salidavectores, return_counts=True)\n",
    "\n",
    "\n",
    "# Mostrar los resultados\n",
    "print(dict(zip(valores_unicosyt, conteosyt)))\n",
    "print(dict(zip(valores_unicos, conteos)))\n",
    "\n",
    "# Mostrar los resultados\n",
    "print(dict(zip(valores_unicosyt, conteosyt)))\n",
    "print(y)\n",
    "exactitudsvm = accuracy_score(y_test, salidavectores)\n",
    "print(\"Exactitud del modelo por medio de máquinas de vectores: \" + str(exactitudsvm))\n",
    "\n",
    "recallsvm = recall_score(y_test, salidavectores)\n",
    "print(\"Sensibilidad del modelo por medio de máquinas de vectores: \" + str(recallsvm))\n",
    "\n",
    "precisionsvm = precision_score(y_test, salidavectores)\n",
    "print(\"Precision del modelo por medio de máquinas de vectores: \" + str(precisionsvm))\n",
    "\n",
    "puntuacion_F1svm = f1_score(y_test, salidavectores)\n",
    "print(\"Puntuación F1 del modelo por medio de maquinas de vectores: \" + str(puntuacion_F1svm))\n",
    "\n",
    "matrix_logisticsvm = confusion_matrix(y_test, salidavectores)\n",
    "\n",
    "disp = ConfusionMatrixDisplay(confusion_matrix=matrix_logisticsvm)\n",
    "disp.plot(cmap=\"Blues\")\n",
    "\n",
    "print(classification_report(y_test, salidavectores))"
   ]
  },
  {
   "cell_type": "markdown",
   "metadata": {},
   "source": [
    "Por último generamos nuestro modelo de Naive Bayes"
   ]
  },
  {
   "cell_type": "code",
   "execution_count": 37,
   "metadata": {},
   "outputs": [
    {
     "name": "stdout",
     "output_type": "stream",
     "text": [
      "   ID  Label                                             Titulo  \\\n",
      "0  ID      1  'The Guardian' va con SÃ¡nchez: 'Europa necesi...   \n",
      "1  ID      0  REVELAN QUE EL GOBIERNO NEGOCIO LA LIBERACIÃN...   \n",
      "2  ID      1  El 'Ahora o nunca' de Joan Fuster sobre el est...   \n",
      "3  ID      1  Iglesias alienta a Yolanda DÃ­az, ERC y EH Bil...   \n",
      "4  ID      0  Puigdemont: 'No serÃ­a ninguna tragedia una re...   \n",
      "\n",
      "                                         Descripcion       Fecha  \n",
      "0  El diario britÃ¡nico publicÃ³ este pasado juev...  02/06/2023  \n",
      "1  REVELAN QUE EL GOBIERNO NEGOCIO LA LIBERACIÃN...  01/10/2023  \n",
      "2  El valencianismo convoca en CastellÃ³ su fiest...  25/04/2022  \n",
      "3  En polÃ­tica, igual que hay que negociar con l...  03/01/2022  \n",
      "4  En una entrevista en El Punt Avui, el lÃ­der d...  09/03/2018  \n",
      "Index(['ID', 'Label', 'Titulo', 'Descripcion', 'Fecha'], dtype='object')\n"
     ]
    }
   ],
   "source": [
    "# Importar librerías\n",
    "import pandas as pd\n",
    "from sklearn.model_selection import train_test_split\n",
    "from sklearn.naive_bayes import MultinomialNB, GaussianNB\n",
    "from sklearn.feature_extraction.text import CountVectorizer\n",
    "\n",
    "# Cargar los datos\n",
    "data = pd.read_csv(\"./data/fake_news_spanish.csv\", sep=\";\", encoding=\"ISO-8859-1\")\n",
    "\n",
    "# primeras filas para entender la estructura\n",
    "print(data.head())\n",
    "\n",
    "#columnas disponibles\n",
    "print(data.columns)"
   ]
  },
  {
   "cell_type": "markdown",
   "metadata": {},
   "source": [
    "Empezaremos importando las librerías y cargamos los datos.\n",
    "#Usamos pandas para manejar los datos. Usamos el train_test_split para dividir los datos en entrenamiento y prueba.\n",
    "#MultinomialNB y GaussianNB se usan para probar los modelos de Naive Bayes.\n",
    "#CountVectorizer lo usamos para transformar texto en datos numéricos. Cargamos el dataset y se muestra la estructura"
   ]
  },
  {
   "cell_type": "code",
   "execution_count": 38,
   "metadata": {},
   "outputs": [
    {
     "name": "stdout",
     "output_type": "stream",
     "text": [
      "Index(['ID', 'Label', 'Titulo', 'Descripcion', 'Fecha'], dtype='object')\n",
      "Tamaño del conjunto de entrenamiento: (45650,)\n",
      "Tamaño del conjunto de prueba: (11413,)\n",
      "Dimensión de X_train después de vectorizar: (45650, 42377)\n",
      "Dimensión de X_test después de vectorizar: (11413, 42377)\n"
     ]
    }
   ],
   "source": [
    "print(data.columns)\n",
    "\n",
    "X = data[\"Descripcion\"]  \n",
    "y = data[\"Label\"]\n",
    "\n",
    "# conjunto de entrenamiento y prueba \n",
    "X_train, X_test, y_train, y_test = train_test_split(X, y, test_size=0.2, random_state=42)\n",
    "\n",
    "# Verificar tamaños\n",
    "print(\"Tamaño del conjunto de entrenamiento:\", X_train.shape)\n",
    "print(\"Tamaño del conjunto de prueba:\", X_test.shape)\n",
    "\n",
    "# pasar de texto a una matriz de frecuencias de palabras\n",
    "vectorizer = CountVectorizer()\n",
    "X_train_vec = vectorizer.fit_transform(X_train)\n",
    "X_test_vec = vectorizer.transform(X_test)\n",
    "\n",
    "# verificar dimensiones despues de la transformacion\n",
    "print(\"Dimensión de X_train después de vectorizar:\", X_train_vec.shape)\n",
    "print(\"Dimensión de X_test después de vectorizar:\", X_test_vec.shape)"
   ]
  },
  {
   "cell_type": "code",
   "execution_count": 39,
   "metadata": {},
   "outputs": [
    {
     "name": "stdout",
     "output_type": "stream",
     "text": [
      "Primeras predicciones: [1 0 1 1 0 1 1 1 1 1]\n"
     ]
    }
   ],
   "source": [
    "from sklearn.naive_bayes import MultinomialNB\n",
    "\n",
    "# crear y entrenar el modelo\n",
    "model = MultinomialNB()\n",
    "model.fit(X_train_vec, y_train)\n",
    "\n",
    "# predicciones en el conjunto de prueba\n",
    "y_pred = model.predict(X_test_vec)\n",
    "\n",
    "# primeras predicciones\n",
    "print(\"Primeras predicciones:\", y_pred[:10])"
   ]
  },
  {
   "cell_type": "code",
   "execution_count": 40,
   "metadata": {},
   "outputs": [
    {
     "name": "stdout",
     "output_type": "stream",
     "text": [
      "Exactitud del modelo: 0.7047\n",
      "Precisión del modelo: 0.7236\n",
      "Sensibilidad (recall) del modelo: 0.7924\n",
      "Puntuación F1 del modelo: 0.7565\n",
      "\n",
      "Reporte de clasificación:\n",
      "              precision    recall  f1-score   support\n",
      "\n",
      "           0       0.67      0.58      0.63      4808\n",
      "           1       0.72      0.79      0.76      6605\n",
      "\n",
      "    accuracy                           0.70     11413\n",
      "   macro avg       0.70      0.69      0.69     11413\n",
      "weighted avg       0.70      0.70      0.70     11413\n",
      "\n"
     ]
    },
    {
     "data": {
      "text/plain": [
       "<sklearn.metrics._plot.confusion_matrix.ConfusionMatrixDisplay at 0x196b4729130>"
      ]
     },
     "execution_count": 40,
     "metadata": {},
     "output_type": "execute_result"
    },
    {
     "data": {
      "image/png": "[encoded data removed]",
      "text/plain": [
       "<Figure size 640x480 with 2 Axes>"
      ]
     },
     "metadata": {},
     "output_type": "display_data"
    }
   ],
   "source": [
    "from sklearn.metrics import accuracy_score, precision_score, recall_score, f1_score, classification_report, confusion_matrix, ConfusionMatrixDisplay\n",
    "\n",
    "# se calculan las metricas\n",
    "accuracy = accuracy_score(y_test, y_pred)\n",
    "precision = precision_score(y_test, y_pred)\n",
    "recall = recall_score(y_test, y_pred)\n",
    "f1 = f1_score(y_test, y_pred)\n",
    "\n",
    "# Imprimir\n",
    "print(f\"Exactitud del modelo: {accuracy:.4f}\")\n",
    "print(f\"Precisión del modelo: {precision:.4f}\")\n",
    "print(f\"Sensibilidad (recall) del modelo: {recall:.4f}\")\n",
    "print(f\"Puntuación F1 del modelo: {f1:.4f}\")\n",
    "\n",
    "# reporte de clasificación\n",
    "print(\"\\nReporte de clasificación:\")\n",
    "print(classification_report(y_test, y_pred))\n",
    "\n",
    "\n",
    "cm = confusion_matrix(y_test, y_pred)\n",
    "disp = ConfusionMatrixDisplay(confusion_matrix=cm)\n",
    "disp.plot(cmap=\"Blues\")"
   ]
  }
 ],
 "metadata": {
  "kernelspec": {
   "display_name": "Python 3",
   "language": "python",
   "name": "python3"
  },
  "language_info": {
   "codemirror_mode": {
    "name": "ipython",
    "version": 3
   },
   "file_extension": ".py",
   "mimetype": "text/x-python",
   "name": "python",
   "nbconvert_exporter": "python",
   "pygments_lexer": "ipython3",
   "version": "3.9.12"
  }
 },
 "nbformat": 4,
 "nbformat_minor": 2
}
