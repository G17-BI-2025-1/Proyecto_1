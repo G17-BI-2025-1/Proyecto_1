{
 "cells": [
  {
   "cell_type": "markdown",
   "metadata": {},
   "source": [
    "# Proyecto 1 Inteligencia de negocios - Clasificación Fake News #\n",
    "\n",
    "Grupo 17 - Miembros:\n",
    "\n",
    "*   Juan Esteban Diaz Castro - 202121646\n",
    "*   Jose Botello - 20\n",
    "*   Samuel Ramirez - 20\n"
   ]
  },
  {
   "cell_type": "code",
   "execution_count": 189,
   "metadata": {},
   "outputs": [
    {
     "name": "stdout",
     "output_type": "stream",
     "text": [
      "Defaulting to user installation because normal site-packages is not writeable\n",
      "Requirement already satisfied: numpy in c:\\users\\juane\\appdata\\local\\packages\\pythonsoftwarefoundation.python.3.12_qbz5n2kfra8p0\\localcache\\local-packages\\python312\\site-packages (2.2.3)\n",
      "Note: you may need to restart the kernel to use updated packages.\n"
     ]
    },
    {
     "name": "stderr",
     "output_type": "stream",
     "text": [
      "\n",
      "[notice] A new release of pip is available: 24.3.1 -> 25.0.1\n",
      "[notice] To update, run: C:\\Users\\juane\\AppData\\Local\\Microsoft\\WindowsApps\\PythonSoftwareFoundation.Python.3.12_qbz5n2kfra8p0\\python.exe -m pip install --upgrade pip\n"
     ]
    },
    {
     "name": "stdout",
     "output_type": "stream",
     "text": [
      "Defaulting to user installation because normal site-packages is not writeable\n",
      "Requirement already satisfied: pandas in c:\\users\\juane\\appdata\\local\\packages\\pythonsoftwarefoundation.python.3.12_qbz5n2kfra8p0\\localcache\\local-packages\\python312\\site-packages (2.2.3)\n",
      "Requirement already satisfied: numpy>=1.26.0 in c:\\users\\juane\\appdata\\local\\packages\\pythonsoftwarefoundation.python.3.12_qbz5n2kfra8p0\\localcache\\local-packages\\python312\\site-packages (from pandas) (2.2.3)\n",
      "Requirement already satisfied: python-dateutil>=2.8.2 in c:\\users\\juane\\appdata\\local\\packages\\pythonsoftwarefoundation.python.3.12_qbz5n2kfra8p0\\localcache\\local-packages\\python312\\site-packages (from pandas) (2.9.0.post0)\n",
      "Requirement already satisfied: pytz>=2020.1 in c:\\users\\juane\\appdata\\local\\packages\\pythonsoftwarefoundation.python.3.12_qbz5n2kfra8p0\\localcache\\local-packages\\python312\\site-packages (from pandas) (2025.1)\n",
      "Requirement already satisfied: tzdata>=2022.7 in c:\\users\\juane\\appdata\\local\\packages\\pythonsoftwarefoundation.python.3.12_qbz5n2kfra8p0\\localcache\\local-packages\\python312\\site-packages (from pandas) (2025.1)\n",
      "Requirement already satisfied: six>=1.5 in c:\\users\\juane\\appdata\\local\\packages\\pythonsoftwarefoundation.python.3.12_qbz5n2kfra8p0\\localcache\\local-packages\\python312\\site-packages (from python-dateutil>=2.8.2->pandas) (1.17.0)\n",
      "Note: you may need to restart the kernel to use updated packages.\n"
     ]
    },
    {
     "name": "stderr",
     "output_type": "stream",
     "text": [
      "\n",
      "[notice] A new release of pip is available: 24.3.1 -> 25.0.1\n",
      "[notice] To update, run: C:\\Users\\juane\\AppData\\Local\\Microsoft\\WindowsApps\\PythonSoftwareFoundation.Python.3.12_qbz5n2kfra8p0\\python.exe -m pip install --upgrade pip\n"
     ]
    },
    {
     "name": "stdout",
     "output_type": "stream",
     "text": [
      "Note: you may need to restart the kernel to use updated packages.Defaulting to user installation because normal site-packages is not writeable\n",
      "Requirement already satisfied: joblib in c:\\users\\juane\\appdata\\local\\packages\\pythonsoftwarefoundation.python.3.12_qbz5n2kfra8p0\\localcache\\local-packages\\python312\\site-packages (1.4.2)\n",
      "\n"
     ]
    },
    {
     "name": "stderr",
     "output_type": "stream",
     "text": [
      "\n",
      "[notice] A new release of pip is available: 24.3.1 -> 25.0.1\n",
      "[notice] To update, run: C:\\Users\\juane\\AppData\\Local\\Microsoft\\WindowsApps\\PythonSoftwareFoundation.Python.3.12_qbz5n2kfra8p0\\python.exe -m pip install --upgrade pip\n"
     ]
    },
    {
     "name": "stdout",
     "output_type": "stream",
     "text": [
      "Note: you may need to restart the kernel to use updated packages.\n"
     ]
    },
    {
     "name": "stderr",
     "output_type": "stream",
     "text": [
      "\n",
      "[notice] A new release of pip is available: 24.3.1 -> 25.0.1\n",
      "[notice] To update, run: C:\\Users\\juane\\AppData\\Local\\Microsoft\\WindowsApps\\PythonSoftwareFoundation.Python.3.12_qbz5n2kfra8p0\\python.exe -m pip install --upgrade pip\n"
     ]
    },
    {
     "name": "stdout",
     "output_type": "stream",
     "text": [
      "Defaulting to user installation because normal site-packages is not writeable\n",
      "Requirement already satisfied: matplotlib in c:\\users\\juane\\appdata\\local\\packages\\pythonsoftwarefoundation.python.3.12_qbz5n2kfra8p0\\localcache\\local-packages\\python312\\site-packages (3.10.0)\n",
      "Requirement already satisfied: contourpy>=1.0.1 in c:\\users\\juane\\appdata\\local\\packages\\pythonsoftwarefoundation.python.3.12_qbz5n2kfra8p0\\localcache\\local-packages\\python312\\site-packages (from matplotlib) (1.3.1)\n",
      "Requirement already satisfied: cycler>=0.10 in c:\\users\\juane\\appdata\\local\\packages\\pythonsoftwarefoundation.python.3.12_qbz5n2kfra8p0\\localcache\\local-packages\\python312\\site-packages (from matplotlib) (0.12.1)\n",
      "Requirement already satisfied: fonttools>=4.22.0 in c:\\users\\juane\\appdata\\local\\packages\\pythonsoftwarefoundation.python.3.12_qbz5n2kfra8p0\\localcache\\local-packages\\python312\\site-packages (from matplotlib) (4.56.0)\n",
      "Requirement already satisfied: kiwisolver>=1.3.1 in c:\\users\\juane\\appdata\\local\\packages\\pythonsoftwarefoundation.python.3.12_qbz5n2kfra8p0\\localcache\\local-packages\\python312\\site-packages (from matplotlib) (1.4.8)\n",
      "Requirement already satisfied: numpy>=1.23 in c:\\users\\juane\\appdata\\local\\packages\\pythonsoftwarefoundation.python.3.12_qbz5n2kfra8p0\\localcache\\local-packages\\python312\\site-packages (from matplotlib) (2.2.3)\n",
      "Requirement already satisfied: packaging>=20.0 in c:\\users\\juane\\appdata\\local\\packages\\pythonsoftwarefoundation.python.3.12_qbz5n2kfra8p0\\localcache\\local-packages\\python312\\site-packages (from matplotlib) (24.2)\n",
      "Requirement already satisfied: pillow>=8 in c:\\users\\juane\\appdata\\local\\packages\\pythonsoftwarefoundation.python.3.12_qbz5n2kfra8p0\\localcache\\local-packages\\python312\\site-packages (from matplotlib) (11.1.0)\n",
      "Requirement already satisfied: pyparsing>=2.3.1 in c:\\users\\juane\\appdata\\local\\packages\\pythonsoftwarefoundation.python.3.12_qbz5n2kfra8p0\\localcache\\local-packages\\python312\\site-packages (from matplotlib) (3.2.1)\n",
      "Requirement already satisfied: python-dateutil>=2.7 in c:\\users\\juane\\appdata\\local\\packages\\pythonsoftwarefoundation.python.3.12_qbz5n2kfra8p0\\localcache\\local-packages\\python312\\site-packages (from matplotlib) (2.9.0.post0)\n",
      "Requirement already satisfied: six>=1.5 in c:\\users\\juane\\appdata\\local\\packages\\pythonsoftwarefoundation.python.3.12_qbz5n2kfra8p0\\localcache\\local-packages\\python312\\site-packages (from python-dateutil>=2.7->matplotlib) (1.17.0)\n",
      "Defaulting to user installation because normal site-packages is not writeable\n",
      "Requirement already satisfied: seaborn in c:\\users\\juane\\appdata\\local\\packages\\pythonsoftwarefoundation.python.3.12_qbz5n2kfra8p0\\localcache\\local-packages\\python312\\site-packages (0.13.2)\n",
      "Requirement already satisfied: numpy!=1.24.0,>=1.20 in c:\\users\\juane\\appdata\\local\\packages\\pythonsoftwarefoundation.python.3.12_qbz5n2kfra8p0\\localcache\\local-packages\\python312\\site-packages (from seaborn) (2.2.3)\n",
      "Requirement already satisfied: pandas>=1.2 in c:\\users\\juane\\appdata\\local\\packages\\pythonsoftwarefoundation.python.3.12_qbz5n2kfra8p0\\localcache\\local-packages\\python312\\site-packages (from seaborn) (2.2.3)\n",
      "Requirement already satisfied: matplotlib!=3.6.1,>=3.4 in c:\\users\\juane\\appdata\\local\\packages\\pythonsoftwarefoundation.python.3.12_qbz5n2kfra8p0\\localcache\\local-packages\\python312\\site-packages (from seaborn) (3.10.0)\n",
      "Requirement already satisfied: contourpy>=1.0.1 in c:\\users\\juane\\appdata\\local\\packages\\pythonsoftwarefoundation.python.3.12_qbz5n2kfra8p0\\localcache\\local-packages\\python312\\site-packages (from matplotlib!=3.6.1,>=3.4->seaborn) (1.3.1)\n",
      "Requirement already satisfied: cycler>=0.10 in c:\\users\\juane\\appdata\\local\\packages\\pythonsoftwarefoundation.python.3.12_qbz5n2kfra8p0\\localcache\\local-packages\\python312\\site-packages (from matplotlib!=3.6.1,>=3.4->seaborn) (0.12.1)\n",
      "Requirement already satisfied: fonttools>=4.22.0 in c:\\users\\juane\\appdata\\local\\packages\\pythonsoftwarefoundation.python.3.12_qbz5n2kfra8p0\\localcache\\local-packages\\python312\\site-packages (from matplotlib!=3.6.1,>=3.4->seaborn) (4.56.0)\n",
      "Requirement already satisfied: kiwisolver>=1.3.1 in c:\\users\\juane\\appdata\\local\\packages\\pythonsoftwarefoundation.python.3.12_qbz5n2kfra8p0\\localcache\\local-packages\\python312\\site-packages (from matplotlib!=3.6.1,>=3.4->seaborn) (1.4.8)\n",
      "Requirement already satisfied: packaging>=20.0 in c:\\users\\juane\\appdata\\local\\packages\\pythonsoftwarefoundation.python.3.12_qbz5n2kfra8p0\\localcache\\local-packages\\python312\\site-packages (from matplotlib!=3.6.1,>=3.4->seaborn) (24.2)\n",
      "Requirement already satisfied: pillow>=8 in c:\\users\\juane\\appdata\\local\\packages\\pythonsoftwarefoundation.python.3.12_qbz5n2kfra8p0\\localcache\\local-packages\\python312\\site-packages (from matplotlib!=3.6.1,>=3.4->seaborn) (11.1.0)\n",
      "Requirement already satisfied: pyparsing>=2.3.1 in c:\\users\\juane\\appdata\\local\\packages\\pythonsoftwarefoundation.python.3.12_qbz5n2kfra8p0\\localcache\\local-packages\\python312\\site-packages (from matplotlib!=3.6.1,>=3.4->seaborn) (3.2.1)\n",
      "Requirement already satisfied: python-dateutil>=2.7 in c:\\users\\juane\\appdata\\local\\packages\\pythonsoftwarefoundation.python.3.12_qbz5n2kfra8p0\\localcache\\local-packages\\python312\\site-packages (from matplotlib!=3.6.1,>=3.4->seaborn) (2.9.0.post0)\n",
      "Requirement already satisfied: pytz>=2020.1 in c:\\users\\juane\\appdata\\local\\packages\\pythonsoftwarefoundation.python.3.12_qbz5n2kfra8p0\\localcache\\local-packages\\python312\\site-packages (from pandas>=1.2->seaborn) (2025.1)\n",
      "Requirement already satisfied: tzdata>=2022.7 in c:\\users\\juane\\appdata\\local\\packages\\pythonsoftwarefoundation.python.3.12_qbz5n2kfra8p0\\localcache\\local-packages\\python312\\site-packages (from pandas>=1.2->seaborn) (2025.1)\n",
      "Requirement already satisfied: six>=1.5 in c:\\users\\juane\\appdata\\local\\packages\\pythonsoftwarefoundation.python.3.12_qbz5n2kfra8p0\\localcache\\local-packages\\python312\\site-packages (from python-dateutil>=2.7->matplotlib!=3.6.1,>=3.4->seaborn) (1.17.0)\n",
      "Note: you may need to restart the kernel to use updated packages.\n"
     ]
    },
    {
     "name": "stderr",
     "output_type": "stream",
     "text": [
      "\n",
      "[notice] A new release of pip is available: 24.3.1 -> 25.0.1\n",
      "[notice] To update, run: C:\\Users\\juane\\AppData\\Local\\Microsoft\\WindowsApps\\PythonSoftwareFoundation.Python.3.12_qbz5n2kfra8p0\\python.exe -m pip install --upgrade pip\n"
     ]
    },
    {
     "name": "stdout",
     "output_type": "stream",
     "text": [
      "Defaulting to user installation because normal site-packages is not writeable\n",
      "Requirement already satisfied: scikit-learn in c:\\users\\juane\\appdata\\local\\packages\\pythonsoftwarefoundation.python.3.12_qbz5n2kfra8p0\\localcache\\local-packages\\python312\\site-packages (1.6.1)\n",
      "Requirement already satisfied: numpy>=1.19.5 in c:\\users\\juane\\appdata\\local\\packages\\pythonsoftwarefoundation.python.3.12_qbz5n2kfra8p0\\localcache\\local-packages\\python312\\site-packages (from scikit-learn) (2.2.3)\n",
      "Requirement already satisfied: scipy>=1.6.0 in c:\\users\\juane\\appdata\\local\\packages\\pythonsoftwarefoundation.python.3.12_qbz5n2kfra8p0\\localcache\\local-packages\\python312\\site-packages (from scikit-learn) (1.15.1)\n",
      "Requirement already satisfied: joblib>=1.2.0 in c:\\users\\juane\\appdata\\local\\packages\\pythonsoftwarefoundation.python.3.12_qbz5n2kfra8p0\\localcache\\local-packages\\python312\\site-packages (from scikit-learn) (1.4.2)\n",
      "Requirement already satisfied: threadpoolctl>=3.1.0 in c:\\users\\juane\\appdata\\local\\packages\\pythonsoftwarefoundation.python.3.12_qbz5n2kfra8p0\\localcache\\local-packages\\python312\\site-packages (from scikit-learn) (3.5.0)\n",
      "Note: you may need to restart the kernel to use updated packages.\n"
     ]
    },
    {
     "name": "stderr",
     "output_type": "stream",
     "text": [
      "\n",
      "[notice] A new release of pip is available: 24.3.1 -> 25.0.1\n",
      "[notice] To update, run: C:\\Users\\juane\\AppData\\Local\\Microsoft\\WindowsApps\\PythonSoftwareFoundation.Python.3.12_qbz5n2kfra8p0\\python.exe -m pip install --upgrade pip\n"
     ]
    },
    {
     "name": "stdout",
     "output_type": "stream",
     "text": [
      "Defaulting to user installation because normal site-packages is not writeable\n",
      "Requirement already satisfied: scipy in c:\\users\\juane\\appdata\\local\\packages\\pythonsoftwarefoundation.python.3.12_qbz5n2kfra8p0\\localcache\\local-packages\\python312\\site-packages (1.15.1)\n",
      "Requirement already satisfied: numpy<2.5,>=1.23.5 in c:\\users\\juane\\appdata\\local\\packages\\pythonsoftwarefoundation.python.3.12_qbz5n2kfra8p0\\localcache\\local-packages\\python312\\site-packages (from scipy) (2.2.3)\n",
      "Note: you may need to restart the kernel to use updated packages.\n"
     ]
    },
    {
     "name": "stderr",
     "output_type": "stream",
     "text": [
      "\n",
      "[notice] A new release of pip is available: 24.3.1 -> 25.0.1\n",
      "[notice] To update, run: C:\\Users\\juane\\AppData\\Local\\Microsoft\\WindowsApps\\PythonSoftwareFoundation.Python.3.12_qbz5n2kfra8p0\\python.exe -m pip install --upgrade pip\n"
     ]
    },
    {
     "name": "stdout",
     "output_type": "stream",
     "text": [
      "Defaulting to user installation because normal site-packages is not writeable\n",
      "Requirement already satisfied: jupyter in c:\\users\\juane\\appdata\\local\\packages\\pythonsoftwarefoundation.python.3.12_qbz5n2kfra8p0\\localcache\\local-packages\\python312\\site-packages (1.1.1)\n",
      "Requirement already satisfied: notebook in c:\\users\\juane\\appdata\\local\\packages\\pythonsoftwarefoundation.python.3.12_qbz5n2kfra8p0\\localcache\\local-packages\\python312\\site-packages (from jupyter) (7.3.2)\n",
      "Requirement already satisfied: jupyter-console in c:\\users\\juane\\appdata\\local\\packages\\pythonsoftwarefoundation.python.3.12_qbz5n2kfra8p0\\localcache\\local-packages\\python312\\site-packages (from jupyter) (6.6.3)\n",
      "Requirement already satisfied: nbconvert in c:\\users\\juane\\appdata\\local\\packages\\pythonsoftwarefoundation.python.3.12_qbz5n2kfra8p0\\localcache\\local-packages\\python312\\site-packages (from jupyter) (7.16.6)\n",
      "Requirement already satisfied: ipykernel in c:\\users\\juane\\appdata\\local\\packages\\pythonsoftwarefoundation.python.3.12_qbz5n2kfra8p0\\localcache\\local-packages\\python312\\site-packages (from jupyter) (6.29.5)\n",
      "Requirement already satisfied: ipywidgets in c:\\users\\juane\\appdata\\local\\packages\\pythonsoftwarefoundation.python.3.12_qbz5n2kfra8p0\\localcache\\local-packages\\python312\\site-packages (from jupyter) (8.1.5)\n",
      "Requirement already satisfied: jupyterlab in c:\\users\\juane\\appdata\\local\\packages\\pythonsoftwarefoundation.python.3.12_qbz5n2kfra8p0\\localcache\\local-packages\\python312\\site-packages (from jupyter) (4.3.5)\n",
      "Requirement already satisfied: comm>=0.1.1 in c:\\users\\juane\\appdata\\local\\packages\\pythonsoftwarefoundation.python.3.12_qbz5n2kfra8p0\\localcache\\local-packages\\python312\\site-packages (from ipykernel->jupyter) (0.2.2)\n",
      "Requirement already satisfied: debugpy>=1.6.5 in c:\\users\\juane\\appdata\\local\\packages\\pythonsoftwarefoundation.python.3.12_qbz5n2kfra8p0\\localcache\\local-packages\\python312\\site-packages (from ipykernel->jupyter) (1.8.12)\n",
      "Requirement already satisfied: ipython>=7.23.1 in c:\\users\\juane\\appdata\\local\\packages\\pythonsoftwarefoundation.python.3.12_qbz5n2kfra8p0\\localcache\\local-packages\\python312\\site-packages (from ipykernel->jupyter) (8.32.0)\n",
      "Requirement already satisfied: jupyter-client>=6.1.12 in c:\\users\\juane\\appdata\\local\\packages\\pythonsoftwarefoundation.python.3.12_qbz5n2kfra8p0\\localcache\\local-packages\\python312\\site-packages (from ipykernel->jupyter) (8.6.3)\n",
      "Requirement already satisfied: jupyter-core!=5.0.*,>=4.12 in c:\\users\\juane\\appdata\\local\\packages\\pythonsoftwarefoundation.python.3.12_qbz5n2kfra8p0\\localcache\\local-packages\\python312\\site-packages (from ipykernel->jupyter) (5.7.2)\n",
      "Requirement already satisfied: matplotlib-inline>=0.1 in c:\\users\\juane\\appdata\\local\\packages\\pythonsoftwarefoundation.python.3.12_qbz5n2kfra8p0\\localcache\\local-packages\\python312\\site-packages (from ipykernel->jupyter) (0.1.7)\n",
      "Requirement already satisfied: nest-asyncio in c:\\users\\juane\\appdata\\local\\packages\\pythonsoftwarefoundation.python.3.12_qbz5n2kfra8p0\\localcache\\local-packages\\python312\\site-packages (from ipykernel->jupyter) (1.6.0)\n",
      "Requirement already satisfied: packaging in c:\\users\\juane\\appdata\\local\\packages\\pythonsoftwarefoundation.python.3.12_qbz5n2kfra8p0\\localcache\\local-packages\\python312\\site-packages (from ipykernel->jupyter) (24.2)\n",
      "Requirement already satisfied: psutil in c:\\users\\juane\\appdata\\local\\packages\\pythonsoftwarefoundation.python.3.12_qbz5n2kfra8p0\\localcache\\local-packages\\python312\\site-packages (from ipykernel->jupyter) (6.1.1)\n",
      "Requirement already satisfied: pyzmq>=24 in c:\\users\\juane\\appdata\\local\\packages\\pythonsoftwarefoundation.python.3.12_qbz5n2kfra8p0\\localcache\\local-packages\\python312\\site-packages (from ipykernel->jupyter) (26.2.1)\n",
      "Requirement already satisfied: tornado>=6.1 in c:\\users\\juane\\appdata\\local\\packages\\pythonsoftwarefoundation.python.3.12_qbz5n2kfra8p0\\localcache\\local-packages\\python312\\site-packages (from ipykernel->jupyter) (6.4.2)\n",
      "Requirement already satisfied: traitlets>=5.4.0 in c:\\users\\juane\\appdata\\local\\packages\\pythonsoftwarefoundation.python.3.12_qbz5n2kfra8p0\\localcache\\local-packages\\python312\\site-packages (from ipykernel->jupyter) (5.14.3)\n",
      "Requirement already satisfied: widgetsnbextension~=4.0.12 in c:\\users\\juane\\appdata\\local\\packages\\pythonsoftwarefoundation.python.3.12_qbz5n2kfra8p0\\localcache\\local-packages\\python312\\site-packages (from ipywidgets->jupyter) (4.0.13)\n",
      "Requirement already satisfied: jupyterlab-widgets~=3.0.12 in c:\\users\\juane\\appdata\\local\\packages\\pythonsoftwarefoundation.python.3.12_qbz5n2kfra8p0\\localcache\\local-packages\\python312\\site-packages (from ipywidgets->jupyter) (3.0.13)\n",
      "Requirement already satisfied: prompt-toolkit>=3.0.30 in c:\\users\\juane\\appdata\\local\\packages\\pythonsoftwarefoundation.python.3.12_qbz5n2kfra8p0\\localcache\\local-packages\\python312\\site-packages (from jupyter-console->jupyter) (3.0.50)\n",
      "Requirement already satisfied: pygments in c:\\users\\juane\\appdata\\local\\packages\\pythonsoftwarefoundation.python.3.12_qbz5n2kfra8p0\\localcache\\local-packages\\python312\\site-packages (from jupyter-console->jupyter) (2.19.1)\n",
      "Requirement already satisfied: async-lru>=1.0.0 in c:\\users\\juane\\appdata\\local\\packages\\pythonsoftwarefoundation.python.3.12_qbz5n2kfra8p0\\localcache\\local-packages\\python312\\site-packages (from jupyterlab->jupyter) (2.0.4)\n",
      "Requirement already satisfied: httpx>=0.25.0 in c:\\users\\juane\\appdata\\local\\packages\\pythonsoftwarefoundation.python.3.12_qbz5n2kfra8p0\\localcache\\local-packages\\python312\\site-packages (from jupyterlab->jupyter) (0.28.1)\n",
      "Requirement already satisfied: jinja2>=3.0.3 in c:\\users\\juane\\appdata\\local\\packages\\pythonsoftwarefoundation.python.3.12_qbz5n2kfra8p0\\localcache\\local-packages\\python312\\site-packages (from jupyterlab->jupyter) (3.1.5)\n",
      "Requirement already satisfied: jupyter-lsp>=2.0.0 in c:\\users\\juane\\appdata\\local\\packages\\pythonsoftwarefoundation.python.3.12_qbz5n2kfra8p0\\localcache\\local-packages\\python312\\site-packages (from jupyterlab->jupyter) (2.2.5)\n",
      "Requirement already satisfied: jupyter-server<3,>=2.4.0 in c:\\users\\juane\\appdata\\local\\packages\\pythonsoftwarefoundation.python.3.12_qbz5n2kfra8p0\\localcache\\local-packages\\python312\\site-packages (from jupyterlab->jupyter) (2.15.0)\n",
      "Requirement already satisfied: jupyterlab-server<3,>=2.27.1 in c:\\users\\juane\\appdata\\local\\packages\\pythonsoftwarefoundation.python.3.12_qbz5n2kfra8p0\\localcache\\local-packages\\python312\\site-packages (from jupyterlab->jupyter) (2.27.3)\n",
      "Requirement already satisfied: notebook-shim>=0.2 in c:\\users\\juane\\appdata\\local\\packages\\pythonsoftwarefoundation.python.3.12_qbz5n2kfra8p0\\localcache\\local-packages\\python312\\site-packages (from jupyterlab->jupyter) (0.2.4)\n",
      "Requirement already satisfied: setuptools>=40.8.0 in c:\\users\\juane\\appdata\\local\\packages\\pythonsoftwarefoundation.python.3.12_qbz5n2kfra8p0\\localcache\\local-packages\\python312\\site-packages (from jupyterlab->jupyter) (75.8.0)\n",
      "Requirement already satisfied: beautifulsoup4 in c:\\users\\juane\\appdata\\local\\packages\\pythonsoftwarefoundation.python.3.12_qbz5n2kfra8p0\\localcache\\local-packages\\python312\\site-packages (from nbconvert->jupyter) (4.13.3)\n",
      "Requirement already satisfied: bleach!=5.0.0 in c:\\users\\juane\\appdata\\local\\packages\\pythonsoftwarefoundation.python.3.12_qbz5n2kfra8p0\\localcache\\local-packages\\python312\\site-packages (from bleach[css]!=5.0.0->nbconvert->jupyter) (6.2.0)\n",
      "Requirement already satisfied: defusedxml in c:\\users\\juane\\appdata\\local\\packages\\pythonsoftwarefoundation.python.3.12_qbz5n2kfra8p0\\localcache\\local-packages\\python312\\site-packages (from nbconvert->jupyter) (0.7.1)\n",
      "Requirement already satisfied: jupyterlab-pygments in c:\\users\\juane\\appdata\\local\\packages\\pythonsoftwarefoundation.python.3.12_qbz5n2kfra8p0\\localcache\\local-packages\\python312\\site-packages (from nbconvert->jupyter) (0.3.0)\n",
      "Requirement already satisfied: markupsafe>=2.0 in c:\\users\\juane\\appdata\\local\\packages\\pythonsoftwarefoundation.python.3.12_qbz5n2kfra8p0\\localcache\\local-packages\\python312\\site-packages (from nbconvert->jupyter) (3.0.2)\n",
      "Requirement already satisfied: mistune<4,>=2.0.3 in c:\\users\\juane\\appdata\\local\\packages\\pythonsoftwarefoundation.python.3.12_qbz5n2kfra8p0\\localcache\\local-packages\\python312\\site-packages (from nbconvert->jupyter) (3.1.1)\n",
      "Requirement already satisfied: nbclient>=0.5.0 in c:\\users\\juane\\appdata\\local\\packages\\pythonsoftwarefoundation.python.3.12_qbz5n2kfra8p0\\localcache\\local-packages\\python312\\site-packages (from nbconvert->jupyter) (0.10.2)\n",
      "Requirement already satisfied: nbformat>=5.7 in c:\\users\\juane\\appdata\\local\\packages\\pythonsoftwarefoundation.python.3.12_qbz5n2kfra8p0\\localcache\\local-packages\\python312\\site-packages (from nbconvert->jupyter) (5.10.4)\n",
      "Requirement already satisfied: pandocfilters>=1.4.1 in c:\\users\\juane\\appdata\\local\\packages\\pythonsoftwarefoundation.python.3.12_qbz5n2kfra8p0\\localcache\\local-packages\\python312\\site-packages (from nbconvert->jupyter) (1.5.1)\n",
      "Requirement already satisfied: webencodings in c:\\users\\juane\\appdata\\local\\packages\\pythonsoftwarefoundation.python.3.12_qbz5n2kfra8p0\\localcache\\local-packages\\python312\\site-packages (from bleach!=5.0.0->bleach[css]!=5.0.0->nbconvert->jupyter) (0.5.1)\n",
      "Requirement already satisfied: tinycss2<1.5,>=1.1.0 in c:\\users\\juane\\appdata\\local\\packages\\pythonsoftwarefoundation.python.3.12_qbz5n2kfra8p0\\localcache\\local-packages\\python312\\site-packages (from bleach[css]!=5.0.0->nbconvert->jupyter) (1.4.0)\n",
      "Requirement already satisfied: anyio in c:\\users\\juane\\appdata\\local\\packages\\pythonsoftwarefoundation.python.3.12_qbz5n2kfra8p0\\localcache\\local-packages\\python312\\site-packages (from httpx>=0.25.0->jupyterlab->jupyter) (4.8.0)\n",
      "Requirement already satisfied: certifi in c:\\users\\juane\\appdata\\local\\packages\\pythonsoftwarefoundation.python.3.12_qbz5n2kfra8p0\\localcache\\local-packages\\python312\\site-packages (from httpx>=0.25.0->jupyterlab->jupyter) (2025.1.31)\n",
      "Requirement already satisfied: httpcore==1.* in c:\\users\\juane\\appdata\\local\\packages\\pythonsoftwarefoundation.python.3.12_qbz5n2kfra8p0\\localcache\\local-packages\\python312\\site-packages (from httpx>=0.25.0->jupyterlab->jupyter) (1.0.7)\n",
      "Requirement already satisfied: idna in c:\\users\\juane\\appdata\\local\\packages\\pythonsoftwarefoundation.python.3.12_qbz5n2kfra8p0\\localcache\\local-packages\\python312\\site-packages (from httpx>=0.25.0->jupyterlab->jupyter) (3.10)\n",
      "Requirement already satisfied: h11<0.15,>=0.13 in c:\\users\\juane\\appdata\\local\\packages\\pythonsoftwarefoundation.python.3.12_qbz5n2kfra8p0\\localcache\\local-packages\\python312\\site-packages (from httpcore==1.*->httpx>=0.25.0->jupyterlab->jupyter) (0.14.0)\n",
      "Requirement already satisfied: colorama in c:\\users\\juane\\appdata\\local\\packages\\pythonsoftwarefoundation.python.3.12_qbz5n2kfra8p0\\localcache\\local-packages\\python312\\site-packages (from ipython>=7.23.1->ipykernel->jupyter) (0.4.6)\n",
      "Requirement already satisfied: decorator in c:\\users\\juane\\appdata\\local\\packages\\pythonsoftwarefoundation.python.3.12_qbz5n2kfra8p0\\localcache\\local-packages\\python312\\site-packages (from ipython>=7.23.1->ipykernel->jupyter) (5.1.1)\n",
      "Requirement already satisfied: jedi>=0.16 in c:\\users\\juane\\appdata\\local\\packages\\pythonsoftwarefoundation.python.3.12_qbz5n2kfra8p0\\localcache\\local-packages\\python312\\site-packages (from ipython>=7.23.1->ipykernel->jupyter) (0.19.2)\n",
      "Requirement already satisfied: stack_data in c:\\users\\juane\\appdata\\local\\packages\\pythonsoftwarefoundation.python.3.12_qbz5n2kfra8p0\\localcache\\local-packages\\python312\\site-packages (from ipython>=7.23.1->ipykernel->jupyter) (0.6.3)\n",
      "Requirement already satisfied: python-dateutil>=2.8.2 in c:\\users\\juane\\appdata\\local\\packages\\pythonsoftwarefoundation.python.3.12_qbz5n2kfra8p0\\localcache\\local-packages\\python312\\site-packages (from jupyter-client>=6.1.12->ipykernel->jupyter) (2.9.0.post0)\n",
      "Requirement already satisfied: platformdirs>=2.5 in c:\\users\\juane\\appdata\\local\\packages\\pythonsoftwarefoundation.python.3.12_qbz5n2kfra8p0\\localcache\\local-packages\\python312\\site-packages (from jupyter-core!=5.0.*,>=4.12->ipykernel->jupyter) (4.3.6)\n",
      "Requirement already satisfied: pywin32>=300 in c:\\users\\juane\\appdata\\local\\packages\\pythonsoftwarefoundation.python.3.12_qbz5n2kfra8p0\\localcache\\local-packages\\python312\\site-packages (from jupyter-core!=5.0.*,>=4.12->ipykernel->jupyter) (308)\n",
      "Requirement already satisfied: argon2-cffi>=21.1 in c:\\users\\juane\\appdata\\local\\packages\\pythonsoftwarefoundation.python.3.12_qbz5n2kfra8p0\\localcache\\local-packages\\python312\\site-packages (from jupyter-server<3,>=2.4.0->jupyterlab->jupyter) (23.1.0)\n",
      "Requirement already satisfied: jupyter-events>=0.11.0 in c:\\users\\juane\\appdata\\local\\packages\\pythonsoftwarefoundation.python.3.12_qbz5n2kfra8p0\\localcache\\local-packages\\python312\\site-packages (from jupyter-server<3,>=2.4.0->jupyterlab->jupyter) (0.12.0)\n",
      "Requirement already satisfied: jupyter-server-terminals>=0.4.4 in c:\\users\\juane\\appdata\\local\\packages\\pythonsoftwarefoundation.python.3.12_qbz5n2kfra8p0\\localcache\\local-packages\\python312\\site-packages (from jupyter-server<3,>=2.4.0->jupyterlab->jupyter) (0.5.3)\n",
      "Requirement already satisfied: overrides>=5.0 in c:\\users\\juane\\appdata\\local\\packages\\pythonsoftwarefoundation.python.3.12_qbz5n2kfra8p0\\localcache\\local-packages\\python312\\site-packages (from jupyter-server<3,>=2.4.0->jupyterlab->jupyter) (7.7.0)\n",
      "Requirement already satisfied: prometheus-client>=0.9 in c:\\users\\juane\\appdata\\local\\packages\\pythonsoftwarefoundation.python.3.12_qbz5n2kfra8p0\\localcache\\local-packages\\python312\\site-packages (from jupyter-server<3,>=2.4.0->jupyterlab->jupyter) (0.21.1)\n",
      "Requirement already satisfied: pywinpty>=2.0.1 in c:\\users\\juane\\appdata\\local\\packages\\pythonsoftwarefoundation.python.3.12_qbz5n2kfra8p0\\localcache\\local-packages\\python312\\site-packages (from jupyter-server<3,>=2.4.0->jupyterlab->jupyter) (2.0.15)\n",
      "Requirement already satisfied: send2trash>=1.8.2 in c:\\users\\juane\\appdata\\local\\packages\\pythonsoftwarefoundation.python.3.12_qbz5n2kfra8p0\\localcache\\local-packages\\python312\\site-packages (from jupyter-server<3,>=2.4.0->jupyterlab->jupyter) (1.8.3)\n",
      "Requirement already satisfied: terminado>=0.8.3 in c:\\users\\juane\\appdata\\local\\packages\\pythonsoftwarefoundation.python.3.12_qbz5n2kfra8p0\\localcache\\local-packages\\python312\\site-packages (from jupyter-server<3,>=2.4.0->jupyterlab->jupyter) (0.18.1)\n",
      "Requirement already satisfied: websocket-client>=1.7 in c:\\users\\juane\\appdata\\local\\packages\\pythonsoftwarefoundation.python.3.12_qbz5n2kfra8p0\\localcache\\local-packages\\python312\\site-packages (from jupyter-server<3,>=2.4.0->jupyterlab->jupyter) (1.8.0)\n",
      "Requirement already satisfied: babel>=2.10 in c:\\users\\juane\\appdata\\local\\packages\\pythonsoftwarefoundation.python.3.12_qbz5n2kfra8p0\\localcache\\local-packages\\python312\\site-packages (from jupyterlab-server<3,>=2.27.1->jupyterlab->jupyter) (2.17.0)\n",
      "Requirement already satisfied: json5>=0.9.0 in c:\\users\\juane\\appdata\\local\\packages\\pythonsoftwarefoundation.python.3.12_qbz5n2kfra8p0\\localcache\\local-packages\\python312\\site-packages (from jupyterlab-server<3,>=2.27.1->jupyterlab->jupyter) (0.10.0)\n",
      "Requirement already satisfied: jsonschema>=4.18.0 in c:\\users\\juane\\appdata\\local\\packages\\pythonsoftwarefoundation.python.3.12_qbz5n2kfra8p0\\localcache\\local-packages\\python312\\site-packages (from jupyterlab-server<3,>=2.27.1->jupyterlab->jupyter) (4.23.0)\n",
      "Requirement already satisfied: requests>=2.31 in c:\\users\\juane\\appdata\\local\\packages\\pythonsoftwarefoundation.python.3.12_qbz5n2kfra8p0\\localcache\\local-packages\\python312\\site-packages (from jupyterlab-server<3,>=2.27.1->jupyterlab->jupyter) (2.32.3)\n",
      "Requirement already satisfied: fastjsonschema>=2.15 in c:\\users\\juane\\appdata\\local\\packages\\pythonsoftwarefoundation.python.3.12_qbz5n2kfra8p0\\localcache\\local-packages\\python312\\site-packages (from nbformat>=5.7->nbconvert->jupyter) (2.21.1)\n",
      "Requirement already satisfied: wcwidth in c:\\users\\juane\\appdata\\local\\packages\\pythonsoftwarefoundation.python.3.12_qbz5n2kfra8p0\\localcache\\local-packages\\python312\\site-packages (from prompt-toolkit>=3.0.30->jupyter-console->jupyter) (0.2.13)\n",
      "Requirement already satisfied: soupsieve>1.2 in c:\\users\\juane\\appdata\\local\\packages\\pythonsoftwarefoundation.python.3.12_qbz5n2kfra8p0\\localcache\\local-packages\\python312\\site-packages (from beautifulsoup4->nbconvert->jupyter) (2.6)\n",
      "Requirement already satisfied: typing-extensions>=4.0.0 in c:\\users\\juane\\appdata\\local\\packages\\pythonsoftwarefoundation.python.3.12_qbz5n2kfra8p0\\localcache\\local-packages\\python312\\site-packages (from beautifulsoup4->nbconvert->jupyter) (4.12.2)\n",
      "Requirement already satisfied: sniffio>=1.1 in c:\\users\\juane\\appdata\\local\\packages\\pythonsoftwarefoundation.python.3.12_qbz5n2kfra8p0\\localcache\\local-packages\\python312\\site-packages (from anyio->httpx>=0.25.0->jupyterlab->jupyter) (1.3.1)\n",
      "Requirement already satisfied: argon2-cffi-bindings in c:\\users\\juane\\appdata\\local\\packages\\pythonsoftwarefoundation.python.3.12_qbz5n2kfra8p0\\localcache\\local-packages\\python312\\site-packages (from argon2-cffi>=21.1->jupyter-server<3,>=2.4.0->jupyterlab->jupyter) (21.2.0)\n",
      "Requirement already satisfied: parso<0.9.0,>=0.8.4 in c:\\users\\juane\\appdata\\local\\packages\\pythonsoftwarefoundation.python.3.12_qbz5n2kfra8p0\\localcache\\local-packages\\python312\\site-packages (from jedi>=0.16->ipython>=7.23.1->ipykernel->jupyter) (0.8.4)\n",
      "Requirement already satisfied: attrs>=22.2.0 in c:\\users\\juane\\appdata\\local\\packages\\pythonsoftwarefoundation.python.3.12_qbz5n2kfra8p0\\localcache\\local-packages\\python312\\site-packages (from jsonschema>=4.18.0->jupyterlab-server<3,>=2.27.1->jupyterlab->jupyter) (25.1.0)\n",
      "Requirement already satisfied: jsonschema-specifications>=2023.03.6 in c:\\users\\juane\\appdata\\local\\packages\\pythonsoftwarefoundation.python.3.12_qbz5n2kfra8p0\\localcache\\local-packages\\python312\\site-packages (from jsonschema>=4.18.0->jupyterlab-server<3,>=2.27.1->jupyterlab->jupyter) (2024.10.1)\n",
      "Requirement already satisfied: referencing>=0.28.4 in c:\\users\\juane\\appdata\\local\\packages\\pythonsoftwarefoundation.python.3.12_qbz5n2kfra8p0\\localcache\\local-packages\\python312\\site-packages (from jsonschema>=4.18.0->jupyterlab-server<3,>=2.27.1->jupyterlab->jupyter) (0.36.2)\n",
      "Requirement already satisfied: rpds-py>=0.7.1 in c:\\users\\juane\\appdata\\local\\packages\\pythonsoftwarefoundation.python.3.12_qbz5n2kfra8p0\\localcache\\local-packages\\python312\\site-packages (from jsonschema>=4.18.0->jupyterlab-server<3,>=2.27.1->jupyterlab->jupyter) (0.22.3)\n",
      "Requirement already satisfied: python-json-logger>=2.0.4 in c:\\users\\juane\\appdata\\local\\packages\\pythonsoftwarefoundation.python.3.12_qbz5n2kfra8p0\\localcache\\local-packages\\python312\\site-packages (from jupyter-events>=0.11.0->jupyter-server<3,>=2.4.0->jupyterlab->jupyter) (3.2.1)\n",
      "Requirement already satisfied: pyyaml>=5.3 in c:\\users\\juane\\appdata\\local\\packages\\pythonsoftwarefoundation.python.3.12_qbz5n2kfra8p0\\localcache\\local-packages\\python312\\site-packages (from jupyter-events>=0.11.0->jupyter-server<3,>=2.4.0->jupyterlab->jupyter) (6.0.2)\n",
      "Requirement already satisfied: rfc3339-validator in c:\\users\\juane\\appdata\\local\\packages\\pythonsoftwarefoundation.python.3.12_qbz5n2kfra8p0\\localcache\\local-packages\\python312\\site-packages (from jupyter-events>=0.11.0->jupyter-server<3,>=2.4.0->jupyterlab->jupyter) (0.1.4)\n",
      "Requirement already satisfied: rfc3986-validator>=0.1.1 in c:\\users\\juane\\appdata\\local\\packages\\pythonsoftwarefoundation.python.3.12_qbz5n2kfra8p0\\localcache\\local-packages\\python312\\site-packages (from jupyter-events>=0.11.0->jupyter-server<3,>=2.4.0->jupyterlab->jupyter) (0.1.1)\n",
      "Requirement already satisfied: six>=1.5 in c:\\users\\juane\\appdata\\local\\packages\\pythonsoftwarefoundation.python.3.12_qbz5n2kfra8p0\\localcache\\local-packages\\python312\\site-packages (from python-dateutil>=2.8.2->jupyter-client>=6.1.12->ipykernel->jupyter) (1.17.0)\n",
      "Requirement already satisfied: charset-normalizer<4,>=2 in c:\\users\\juane\\appdata\\local\\packages\\pythonsoftwarefoundation.python.3.12_qbz5n2kfra8p0\\localcache\\local-packages\\python312\\site-packages (from requests>=2.31->jupyterlab-server<3,>=2.27.1->jupyterlab->jupyter) (3.4.1)\n",
      "Requirement already satisfied: urllib3<3,>=1.21.1 in c:\\users\\juane\\appdata\\local\\packages\\pythonsoftwarefoundation.python.3.12_qbz5n2kfra8p0\\localcache\\local-packages\\python312\\site-packages (from requests>=2.31->jupyterlab-server<3,>=2.27.1->jupyterlab->jupyter) (2.3.0)\n",
      "Requirement already satisfied: executing>=1.2.0 in c:\\users\\juane\\appdata\\local\\packages\\pythonsoftwarefoundation.python.3.12_qbz5n2kfra8p0\\localcache\\local-packages\\python312\\site-packages (from stack_data->ipython>=7.23.1->ipykernel->jupyter) (2.2.0)\n",
      "Requirement already satisfied: asttokens>=2.1.0 in c:\\users\\juane\\appdata\\local\\packages\\pythonsoftwarefoundation.python.3.12_qbz5n2kfra8p0\\localcache\\local-packages\\python312\\site-packages (from stack_data->ipython>=7.23.1->ipykernel->jupyter) (3.0.0)\n",
      "Requirement already satisfied: pure-eval in c:\\users\\juane\\appdata\\local\\packages\\pythonsoftwarefoundation.python.3.12_qbz5n2kfra8p0\\localcache\\local-packages\\python312\\site-packages (from stack_data->ipython>=7.23.1->ipykernel->jupyter) (0.2.3)\n",
      "Requirement already satisfied: fqdn in c:\\users\\juane\\appdata\\local\\packages\\pythonsoftwarefoundation.python.3.12_qbz5n2kfra8p0\\localcache\\local-packages\\python312\\site-packages (from jsonschema[format-nongpl]>=4.18.0->jupyter-events>=0.11.0->jupyter-server<3,>=2.4.0->jupyterlab->jupyter) (1.5.1)\n",
      "Requirement already satisfied: isoduration in c:\\users\\juane\\appdata\\local\\packages\\pythonsoftwarefoundation.python.3.12_qbz5n2kfra8p0\\localcache\\local-packages\\python312\\site-packages (from jsonschema[format-nongpl]>=4.18.0->jupyter-events>=0.11.0->jupyter-server<3,>=2.4.0->jupyterlab->jupyter) (20.11.0)\n",
      "Requirement already satisfied: jsonpointer>1.13 in c:\\users\\juane\\appdata\\local\\packages\\pythonsoftwarefoundation.python.3.12_qbz5n2kfra8p0\\localcache\\local-packages\\python312\\site-packages (from jsonschema[format-nongpl]>=4.18.0->jupyter-events>=0.11.0->jupyter-server<3,>=2.4.0->jupyterlab->jupyter) (3.0.0)\n",
      "Requirement already satisfied: uri-template in c:\\users\\juane\\appdata\\local\\packages\\pythonsoftwarefoundation.python.3.12_qbz5n2kfra8p0\\localcache\\local-packages\\python312\\site-packages (from jsonschema[format-nongpl]>=4.18.0->jupyter-events>=0.11.0->jupyter-server<3,>=2.4.0->jupyterlab->jupyter) (1.3.0)\n",
      "Requirement already satisfied: webcolors>=24.6.0 in c:\\users\\juane\\appdata\\local\\packages\\pythonsoftwarefoundation.python.3.12_qbz5n2kfra8p0\\localcache\\local-packages\\python312\\site-packages (from jsonschema[format-nongpl]>=4.18.0->jupyter-events>=0.11.0->jupyter-server<3,>=2.4.0->jupyterlab->jupyter) (24.11.1)\n",
      "Requirement already satisfied: cffi>=1.0.1 in c:\\users\\juane\\appdata\\local\\packages\\pythonsoftwarefoundation.python.3.12_qbz5n2kfra8p0\\localcache\\local-packages\\python312\\site-packages (from argon2-cffi-bindings->argon2-cffi>=21.1->jupyter-server<3,>=2.4.0->jupyterlab->jupyter) (1.17.1)\n",
      "Requirement already satisfied: pycparser in c:\\users\\juane\\appdata\\local\\packages\\pythonsoftwarefoundation.python.3.12_qbz5n2kfra8p0\\localcache\\local-packages\\python312\\site-packages (from cffi>=1.0.1->argon2-cffi-bindings->argon2-cffi>=21.1->jupyter-server<3,>=2.4.0->jupyterlab->jupyter) (2.22)\n",
      "Requirement already satisfied: arrow>=0.15.0 in c:\\users\\juane\\appdata\\local\\packages\\pythonsoftwarefoundation.python.3.12_qbz5n2kfra8p0\\localcache\\local-packages\\python312\\site-packages (from isoduration->jsonschema[format-nongpl]>=4.18.0->jupyter-events>=0.11.0->jupyter-server<3,>=2.4.0->jupyterlab->jupyter) (1.3.0)\n",
      "Requirement already satisfied: types-python-dateutil>=2.8.10 in c:\\users\\juane\\appdata\\local\\packages\\pythonsoftwarefoundation.python.3.12_qbz5n2kfra8p0\\localcache\\local-packages\\python312\\site-packages (from arrow>=0.15.0->isoduration->jsonschema[format-nongpl]>=4.18.0->jupyter-events>=0.11.0->jupyter-server<3,>=2.4.0->jupyterlab->jupyter) (2.9.0.20241206)\n",
      "Note: you may need to restart the kernel to use updated packages.\n"
     ]
    },
    {
     "name": "stderr",
     "output_type": "stream",
     "text": [
      "\n",
      "[notice] A new release of pip is available: 24.3.1 -> 25.0.1\n",
      "[notice] To update, run: C:\\Users\\juane\\AppData\\Local\\Microsoft\\WindowsApps\\PythonSoftwareFoundation.Python.3.12_qbz5n2kfra8p0\\python.exe -m pip install --upgrade pip\n"
     ]
    },
    {
     "name": "stdout",
     "output_type": "stream",
     "text": [
      "Defaulting to user installation because normal site-packages is not writeable\n",
      "Requirement already satisfied: num2words in c:\\users\\juane\\appdata\\local\\packages\\pythonsoftwarefoundation.python.3.12_qbz5n2kfra8p0\\localcache\\local-packages\\python312\\site-packages (0.5.14)\n",
      "Requirement already satisfied: docopt>=0.6.2 in c:\\users\\juane\\appdata\\local\\packages\\pythonsoftwarefoundation.python.3.12_qbz5n2kfra8p0\\localcache\\local-packages\\python312\\site-packages (from num2words) (0.6.2)\n",
      "Note: you may need to restart the kernel to use updated packages.\n"
     ]
    },
    {
     "name": "stderr",
     "output_type": "stream",
     "text": [
      "\n",
      "[notice] A new release of pip is available: 24.3.1 -> 25.0.1\n",
      "[notice] To update, run: C:\\Users\\juane\\AppData\\Local\\Microsoft\\WindowsApps\\PythonSoftwareFoundation.Python.3.12_qbz5n2kfra8p0\\python.exe -m pip install --upgrade pip\n"
     ]
    },
    {
     "name": "stdout",
     "output_type": "stream",
     "text": [
      "Defaulting to user installation because normal site-packages is not writeable\n",
      "Requirement already satisfied: inflect in c:\\users\\juane\\appdata\\local\\packages\\pythonsoftwarefoundation.python.3.12_qbz5n2kfra8p0\\localcache\\local-packages\\python312\\site-packages (7.5.0)\n",
      "Requirement already satisfied: more_itertools>=8.5.0 in c:\\users\\juane\\appdata\\local\\packages\\pythonsoftwarefoundation.python.3.12_qbz5n2kfra8p0\\localcache\\local-packages\\python312\\site-packages (from inflect) (10.6.0)\n",
      "Requirement already satisfied: typeguard>=4.0.1 in c:\\users\\juane\\appdata\\local\\packages\\pythonsoftwarefoundation.python.3.12_qbz5n2kfra8p0\\localcache\\local-packages\\python312\\site-packages (from inflect) (4.4.2)\n",
      "Requirement already satisfied: typing_extensions>=4.10.0 in c:\\users\\juane\\appdata\\local\\packages\\pythonsoftwarefoundation.python.3.12_qbz5n2kfra8p0\\localcache\\local-packages\\python312\\site-packages (from typeguard>=4.0.1->inflect) (4.12.2)\n",
      "Note: you may need to restart the kernel to use updated packages.\n"
     ]
    },
    {
     "name": "stderr",
     "output_type": "stream",
     "text": [
      "\n",
      "[notice] A new release of pip is available: 24.3.1 -> 25.0.1\n",
      "[notice] To update, run: C:\\Users\\juane\\AppData\\Local\\Microsoft\\WindowsApps\\PythonSoftwareFoundation.Python.3.12_qbz5n2kfra8p0\\python.exe -m pip install --upgrade pip\n"
     ]
    },
    {
     "name": "stdout",
     "output_type": "stream",
     "text": [
      "Defaulting to user installation because normal site-packages is not writeableNote: you may need to restart the kernel to use updated packages.\n",
      "\n",
      "Requirement already satisfied: spacy in c:\\users\\juane\\appdata\\local\\packages\\pythonsoftwarefoundation.python.3.12_qbz5n2kfra8p0\\localcache\\local-packages\\python312\\site-packages (3.8.4)\n",
      "Requirement already satisfied: spacy-legacy<3.1.0,>=3.0.11 in c:\\users\\juane\\appdata\\local\\packages\\pythonsoftwarefoundation.python.3.12_qbz5n2kfra8p0\\localcache\\local-packages\\python312\\site-packages (from spacy) (3.0.12)\n",
      "Requirement already satisfied: spacy-loggers<2.0.0,>=1.0.0 in c:\\users\\juane\\appdata\\local\\packages\\pythonsoftwarefoundation.python.3.12_qbz5n2kfra8p0\\localcache\\local-packages\\python312\\site-packages (from spacy) (1.0.5)\n",
      "Requirement already satisfied: murmurhash<1.1.0,>=0.28.0 in c:\\users\\juane\\appdata\\local\\packages\\pythonsoftwarefoundation.python.3.12_qbz5n2kfra8p0\\localcache\\local-packages\\python312\\site-packages (from spacy) (1.0.12)\n",
      "Requirement already satisfied: cymem<2.1.0,>=2.0.2 in c:\\users\\juane\\appdata\\local\\packages\\pythonsoftwarefoundation.python.3.12_qbz5n2kfra8p0\\localcache\\local-packages\\python312\\site-packages (from spacy) (2.0.11)\n",
      "Requirement already satisfied: preshed<3.1.0,>=3.0.2 in c:\\users\\juane\\appdata\\local\\packages\\pythonsoftwarefoundation.python.3.12_qbz5n2kfra8p0\\localcache\\local-packages\\python312\\site-packages (from spacy) (3.0.9)\n",
      "Requirement already satisfied: thinc<8.4.0,>=8.3.4 in c:\\users\\juane\\appdata\\local\\packages\\pythonsoftwarefoundation.python.3.12_qbz5n2kfra8p0\\localcache\\local-packages\\python312\\site-packages (from spacy) (8.3.4)\n",
      "Requirement already satisfied: wasabi<1.2.0,>=0.9.1 in c:\\users\\juane\\appdata\\local\\packages\\pythonsoftwarefoundation.python.3.12_qbz5n2kfra8p0\\localcache\\local-packages\\python312\\site-packages (from spacy) (1.1.3)\n",
      "Requirement already satisfied: srsly<3.0.0,>=2.4.3 in c:\\users\\juane\\appdata\\local\\packages\\pythonsoftwarefoundation.python.3.12_qbz5n2kfra8p0\\localcache\\local-packages\\python312\\site-packages (from spacy) (2.5.1)\n",
      "Requirement already satisfied: catalogue<2.1.0,>=2.0.6 in c:\\users\\juane\\appdata\\local\\packages\\pythonsoftwarefoundation.python.3.12_qbz5n2kfra8p0\\localcache\\local-packages\\python312\\site-packages (from spacy) (2.0.10)\n",
      "Requirement already satisfied: weasel<0.5.0,>=0.1.0 in c:\\users\\juane\\appdata\\local\\packages\\pythonsoftwarefoundation.python.3.12_qbz5n2kfra8p0\\localcache\\local-packages\\python312\\site-packages (from spacy) (0.4.1)\n",
      "Requirement already satisfied: typer<1.0.0,>=0.3.0 in c:\\users\\juane\\appdata\\local\\packages\\pythonsoftwarefoundation.python.3.12_qbz5n2kfra8p0\\localcache\\local-packages\\python312\\site-packages (from spacy) (0.15.1)\n",
      "Requirement already satisfied: tqdm<5.0.0,>=4.38.0 in c:\\users\\juane\\appdata\\local\\packages\\pythonsoftwarefoundation.python.3.12_qbz5n2kfra8p0\\localcache\\local-packages\\python312\\site-packages (from spacy) (4.67.1)\n",
      "Requirement already satisfied: numpy>=1.19.0 in c:\\users\\juane\\appdata\\local\\packages\\pythonsoftwarefoundation.python.3.12_qbz5n2kfra8p0\\localcache\\local-packages\\python312\\site-packages (from spacy) (2.2.3)\n",
      "Requirement already satisfied: requests<3.0.0,>=2.13.0 in c:\\users\\juane\\appdata\\local\\packages\\pythonsoftwarefoundation.python.3.12_qbz5n2kfra8p0\\localcache\\local-packages\\python312\\site-packages (from spacy) (2.32.3)\n",
      "Requirement already satisfied: pydantic!=1.8,!=1.8.1,<3.0.0,>=1.7.4 in c:\\users\\juane\\appdata\\local\\packages\\pythonsoftwarefoundation.python.3.12_qbz5n2kfra8p0\\localcache\\local-packages\\python312\\site-packages (from spacy) (2.10.6)\n",
      "Requirement already satisfied: jinja2 in c:\\users\\juane\\appdata\\local\\packages\\pythonsoftwarefoundation.python.3.12_qbz5n2kfra8p0\\localcache\\local-packages\\python312\\site-packages (from spacy) (3.1.5)\n",
      "Requirement already satisfied: setuptools in c:\\users\\juane\\appdata\\local\\packages\\pythonsoftwarefoundation.python.3.12_qbz5n2kfra8p0\\localcache\\local-packages\\python312\\site-packages (from spacy) (75.8.0)\n",
      "Requirement already satisfied: packaging>=20.0 in c:\\users\\juane\\appdata\\local\\packages\\pythonsoftwarefoundation.python.3.12_qbz5n2kfra8p0\\localcache\\local-packages\\python312\\site-packages (from spacy) (24.2)\n",
      "Requirement already satisfied: langcodes<4.0.0,>=3.2.0 in c:\\users\\juane\\appdata\\local\\packages\\pythonsoftwarefoundation.python.3.12_qbz5n2kfra8p0\\localcache\\local-packages\\python312\\site-packages (from spacy) (3.5.0)\n",
      "Requirement already satisfied: language-data>=1.2 in c:\\users\\juane\\appdata\\local\\packages\\pythonsoftwarefoundation.python.3.12_qbz5n2kfra8p0\\localcache\\local-packages\\python312\\site-packages (from langcodes<4.0.0,>=3.2.0->spacy) (1.3.0)\n",
      "Requirement already satisfied: annotated-types>=0.6.0 in c:\\users\\juane\\appdata\\local\\packages\\pythonsoftwarefoundation.python.3.12_qbz5n2kfra8p0\\localcache\\local-packages\\python312\\site-packages (from pydantic!=1.8,!=1.8.1,<3.0.0,>=1.7.4->spacy) (0.7.0)\n",
      "Requirement already satisfied: pydantic-core==2.27.2 in c:\\users\\juane\\appdata\\local\\packages\\pythonsoftwarefoundation.python.3.12_qbz5n2kfra8p0\\localcache\\local-packages\\python312\\site-packages (from pydantic!=1.8,!=1.8.1,<3.0.0,>=1.7.4->spacy) (2.27.2)\n",
      "Requirement already satisfied: typing-extensions>=4.12.2 in c:\\users\\juane\\appdata\\local\\packages\\pythonsoftwarefoundation.python.3.12_qbz5n2kfra8p0\\localcache\\local-packages\\python312\\site-packages (from pydantic!=1.8,!=1.8.1,<3.0.0,>=1.7.4->spacy) (4.12.2)\n",
      "Requirement already satisfied: charset-normalizer<4,>=2 in c:\\users\\juane\\appdata\\local\\packages\\pythonsoftwarefoundation.python.3.12_qbz5n2kfra8p0\\localcache\\local-packages\\python312\\site-packages (from requests<3.0.0,>=2.13.0->spacy) (3.4.1)\n",
      "Requirement already satisfied: idna<4,>=2.5 in c:\\users\\juane\\appdata\\local\\packages\\pythonsoftwarefoundation.python.3.12_qbz5n2kfra8p0\\localcache\\local-packages\\python312\\site-packages (from requests<3.0.0,>=2.13.0->spacy) (3.10)\n",
      "Requirement already satisfied: urllib3<3,>=1.21.1 in c:\\users\\juane\\appdata\\local\\packages\\pythonsoftwarefoundation.python.3.12_qbz5n2kfra8p0\\localcache\\local-packages\\python312\\site-packages (from requests<3.0.0,>=2.13.0->spacy) (2.3.0)\n",
      "Requirement already satisfied: certifi>=2017.4.17 in c:\\users\\juane\\appdata\\local\\packages\\pythonsoftwarefoundation.python.3.12_qbz5n2kfra8p0\\localcache\\local-packages\\python312\\site-packages (from requests<3.0.0,>=2.13.0->spacy) (2025.1.31)\n",
      "Requirement already satisfied: blis<1.3.0,>=1.2.0 in c:\\users\\juane\\appdata\\local\\packages\\pythonsoftwarefoundation.python.3.12_qbz5n2kfra8p0\\localcache\\local-packages\\python312\\site-packages (from thinc<8.4.0,>=8.3.4->spacy) (1.2.0)\n",
      "Requirement already satisfied: confection<1.0.0,>=0.0.1 in c:\\users\\juane\\appdata\\local\\packages\\pythonsoftwarefoundation.python.3.12_qbz5n2kfra8p0\\localcache\\local-packages\\python312\\site-packages (from thinc<8.4.0,>=8.3.4->spacy) (0.1.5)\n",
      "Requirement already satisfied: colorama in c:\\users\\juane\\appdata\\local\\packages\\pythonsoftwarefoundation.python.3.12_qbz5n2kfra8p0\\localcache\\local-packages\\python312\\site-packages (from tqdm<5.0.0,>=4.38.0->spacy) (0.4.6)\n",
      "Requirement already satisfied: click>=8.0.0 in c:\\users\\juane\\appdata\\local\\packages\\pythonsoftwarefoundation.python.3.12_qbz5n2kfra8p0\\localcache\\local-packages\\python312\\site-packages (from typer<1.0.0,>=0.3.0->spacy) (8.1.8)\n",
      "Requirement already satisfied: shellingham>=1.3.0 in c:\\users\\juane\\appdata\\local\\packages\\pythonsoftwarefoundation.python.3.12_qbz5n2kfra8p0\\localcache\\local-packages\\python312\\site-packages (from typer<1.0.0,>=0.3.0->spacy) (1.5.4)\n",
      "Requirement already satisfied: rich>=10.11.0 in c:\\users\\juane\\appdata\\local\\packages\\pythonsoftwarefoundation.python.3.12_qbz5n2kfra8p0\\localcache\\local-packages\\python312\\site-packages (from typer<1.0.0,>=0.3.0->spacy) (13.9.4)\n",
      "Requirement already satisfied: cloudpathlib<1.0.0,>=0.7.0 in c:\\users\\juane\\appdata\\local\\packages\\pythonsoftwarefoundation.python.3.12_qbz5n2kfra8p0\\localcache\\local-packages\\python312\\site-packages (from weasel<0.5.0,>=0.1.0->spacy) (0.20.0)\n",
      "Requirement already satisfied: smart-open<8.0.0,>=5.2.1 in c:\\users\\juane\\appdata\\local\\packages\\pythonsoftwarefoundation.python.3.12_qbz5n2kfra8p0\\localcache\\local-packages\\python312\\site-packages (from weasel<0.5.0,>=0.1.0->spacy) (7.1.0)\n",
      "Requirement already satisfied: MarkupSafe>=2.0 in c:\\users\\juane\\appdata\\local\\packages\\pythonsoftwarefoundation.python.3.12_qbz5n2kfra8p0\\localcache\\local-packages\\python312\\site-packages (from jinja2->spacy) (3.0.2)\n",
      "Requirement already satisfied: marisa-trie>=1.1.0 in c:\\users\\juane\\appdata\\local\\packages\\pythonsoftwarefoundation.python.3.12_qbz5n2kfra8p0\\localcache\\local-packages\\python312\\site-packages (from language-data>=1.2->langcodes<4.0.0,>=3.2.0->spacy) (1.2.1)\n",
      "Requirement already satisfied: markdown-it-py>=2.2.0 in c:\\users\\juane\\appdata\\local\\packages\\pythonsoftwarefoundation.python.3.12_qbz5n2kfra8p0\\localcache\\local-packages\\python312\\site-packages (from rich>=10.11.0->typer<1.0.0,>=0.3.0->spacy) (3.0.0)\n",
      "Requirement already satisfied: pygments<3.0.0,>=2.13.0 in c:\\users\\juane\\appdata\\local\\packages\\pythonsoftwarefoundation.python.3.12_qbz5n2kfra8p0\\localcache\\local-packages\\python312\\site-packages (from rich>=10.11.0->typer<1.0.0,>=0.3.0->spacy) (2.19.1)\n",
      "Requirement already satisfied: wrapt in c:\\users\\juane\\appdata\\local\\packages\\pythonsoftwarefoundation.python.3.12_qbz5n2kfra8p0\\localcache\\local-packages\\python312\\site-packages (from smart-open<8.0.0,>=5.2.1->weasel<0.5.0,>=0.1.0->spacy) (1.17.2)\n",
      "Requirement already satisfied: mdurl~=0.1 in c:\\users\\juane\\appdata\\local\\packages\\pythonsoftwarefoundation.python.3.12_qbz5n2kfra8p0\\localcache\\local-packages\\python312\\site-packages (from markdown-it-py>=2.2.0->rich>=10.11.0->typer<1.0.0,>=0.3.0->spacy) (0.1.2)\n"
     ]
    },
    {
     "name": "stderr",
     "output_type": "stream",
     "text": [
      "\n",
      "[notice] A new release of pip is available: 24.3.1 -> 25.0.1\n",
      "[notice] To update, run: C:\\Users\\juane\\AppData\\Local\\Microsoft\\WindowsApps\\PythonSoftwareFoundation.Python.3.12_qbz5n2kfra8p0\\python.exe -m pip install --upgrade pip\n",
      "C:\\Users\\juane\\AppData\\Local\\Microsoft\\WindowsApps\\PythonSoftwareFoundation.Python.3.11_qbz5n2kfra8p0\\python.exe: No module named spacy\n"
     ]
    }
   ],
   "source": [
    "%pip install numpy\n",
    "%pip install pandas\n",
    "%pip install joblib\n",
    "%pip install matplotlib\n",
    "%pip install seaborn\n",
    "%pip install scikit-learn\n",
    "%pip install scipy\n",
    "%pip install jupyter\n",
    "\n",
    "%pip install num2words\n",
    "%pip install inflect\n",
    "%pip install spacy\n",
    "!python -m spacy download es_core_news_sm"
   ]
  },
  {
   "cell_type": "code",
   "execution_count": null,
   "metadata": {},
   "outputs": [
    {
     "name": "stdout",
     "output_type": "stream",
     "text": [
      "Defaulting to user installation because normal site-packages is not writeable\n",
      "Collecting es-core-news-sm==3.8.0\n",
      "  Downloading https://github.com/explosion/spacy-models/releases/download/es_core_news_sm-3.8.0/es_core_news_sm-3.8.0-py3-none-any.whl (12.9 MB)\n",
      "     ---------------------------------------- 0.0/12.9 MB ? eta -:--:--\n",
      "     ----- ---------------------------------- 1.8/12.9 MB 10.1 MB/s eta 0:00:02\n",
      "     ------------- -------------------------- 4.2/12.9 MB 10.1 MB/s eta 0:00:01\n",
      "     ----------------- ---------------------- 5.8/12.9 MB 9.0 MB/s eta 0:00:01\n",
      "     -------------------- ------------------- 6.6/12.9 MB 8.1 MB/s eta 0:00:01\n",
      "     -------------------------- ------------- 8.4/12.9 MB 8.0 MB/s eta 0:00:01\n",
      "     ------------------------------- -------- 10.2/12.9 MB 8.1 MB/s eta 0:00:01\n",
      "     -------------------------------------- - 12.3/12.9 MB 8.5 MB/s eta 0:00:01\n",
      "     ---------------------------------------- 12.9/12.9 MB 7.8 MB/s eta 0:00:00\n",
      "\u001b[38;5;2m✔ Download and installation successful\u001b[0m\n",
      "You can now load the package via spacy.load('es_core_news_sm')\n"
     ]
    },
    {
     "name": "stderr",
     "output_type": "stream",
     "text": [
      "\n",
      "[notice] A new release of pip is available: 24.3.1 -> 25.0.1\n",
      "[notice] To update, run: C:\\Users\\juane\\AppData\\Local\\Microsoft\\WindowsApps\\PythonSoftwareFoundation.Python.3.12_qbz5n2kfra8p0\\python.exe -m pip install --upgrade pip\n"
     ]
    }
   ],
   "source": [
    "import numpy as np\n",
    "import pandas as pd\n",
    "\n",
    "from joblib import dump, load\n",
    "\n",
    "import matplotlib.pyplot as plt\n",
    "import seaborn as sns\n",
    "\n",
    "from sklearn.model_selection import train_test_split\n",
    "\n",
    "from sklearn.pipeline import Pipeline\n",
    "\n",
    "from sklearn.preprocessing import StandardScaler\n",
    "from sklearn.linear_model import LogisticRegression\n",
    "from sklearn.svm import SVC\n",
    "from sklearn.naive_bayes import GaussianNB\n",
    "\n",
    "from sklearn.datasets import load_iris\n",
    "from sklearn.metrics import accuracy_score\n",
    "\n",
    "\n",
    "import scipy.stats as stats\n",
    "\n",
    "import spacy\n",
    "import unicodedata\n",
    "import sys\n",
    "import re\n",
    "import inflect\n",
    "import num2words\n",
    "\n",
    "!{sys.executable} -m spacy download es_core_news_sm\n",
    "nlp = spacy.load(\"es_core_news_sm\")"
   ]
  },
  {
   "cell_type": "code",
   "execution_count": 191,
   "metadata": {},
   "outputs": [],
   "source": [
    "nlp = spacy.load(\"es_core_news_sm\")"
   ]
  },
  {
   "cell_type": "markdown",
   "metadata": {},
   "source": [
    "# 1. Carga de Datos"
   ]
  },
  {
   "cell_type": "code",
   "execution_count": 192,
   "metadata": {},
   "outputs": [
    {
     "data": {
      "text/plain": [
       "(57063, 5)"
      ]
     },
     "execution_count": 192,
     "metadata": {},
     "output_type": "execute_result"
    }
   ],
   "source": [
    "data = \"./data/fake_news_spanish.csv\"\n",
    "\n",
    "news = pd.read_csv(data, sep=\";\", encoding=\"ISO-8859-1\")\n",
    "\n",
    "data_news = news.copy()\n",
    "\n",
    "data_news.shape"
   ]
  },
  {
   "cell_type": "code",
   "execution_count": 193,
   "metadata": {},
   "outputs": [
    {
     "data": {
      "text/html": [
       "<div>\n",
       "<style scoped>\n",
       "    .dataframe tbody tr th:only-of-type {\n",
       "        vertical-align: middle;\n",
       "    }\n",
       "\n",
       "    .dataframe tbody tr th {\n",
       "        vertical-align: top;\n",
       "    }\n",
       "\n",
       "    .dataframe thead th {\n",
       "        text-align: right;\n",
       "    }\n",
       "</style>\n",
       "<table border=\"1\" class=\"dataframe\">\n",
       "  <thead>\n",
       "    <tr style=\"text-align: right;\">\n",
       "      <th></th>\n",
       "      <th>ID</th>\n",
       "      <th>Label</th>\n",
       "      <th>Titulo</th>\n",
       "      <th>Descripcion</th>\n",
       "      <th>Fecha</th>\n",
       "    </tr>\n",
       "  </thead>\n",
       "  <tbody>\n",
       "    <tr>\n",
       "      <th>3216</th>\n",
       "      <td>ID</td>\n",
       "      <td>0</td>\n",
       "      <td>El Congreso rechaza con contundencia la ley de...</td>\n",
       "      <td>Iniciativa vers per Catalunya, EQUO, Unidos In...</td>\n",
       "      <td>19/06/2018</td>\n",
       "    </tr>\n",
       "    <tr>\n",
       "      <th>1938</th>\n",
       "      <td>ID</td>\n",
       "      <td>1</td>\n",
       "      <td>Una semana frenÃ©tica: del veto a Iglesias al ...</td>\n",
       "      <td>CrÃ³nica de los Ãºltimos dÃ­as de negociacione...</td>\n",
       "      <td>27/07/2019</td>\n",
       "    </tr>\n",
       "    <tr>\n",
       "      <th>56985</th>\n",
       "      <td>ID</td>\n",
       "      <td>1</td>\n",
       "      <td>MaÃ±ueco rescata como asesor en Castilla y LeÃ...</td>\n",
       "      <td>El presidente de la Junta acabÃ³ con la carrer...</td>\n",
       "      <td>20/04/2022</td>\n",
       "    </tr>\n",
       "    <tr>\n",
       "      <th>48771</th>\n",
       "      <td>ID</td>\n",
       "      <td>0</td>\n",
       "      <td>El acuerdo entre el Gobierno y PP no peligra, ...</td>\n",
       "      <td>La direcciÃ³n de PP asegura a PÃºblico que la ...</td>\n",
       "      <td>26/09/2018</td>\n",
       "    </tr>\n",
       "    <tr>\n",
       "      <th>54459</th>\n",
       "      <td>ID</td>\n",
       "      <td>0</td>\n",
       "      <td>DIRECTO | Cifuentes se aferra al cargo y EQUO ...</td>\n",
       "      <td>Sigue al minuto la Ãºltima hora desde la Asamb...</td>\n",
       "      <td>04/04/2018</td>\n",
       "    </tr>\n",
       "  </tbody>\n",
       "</table>\n",
       "</div>"
      ],
      "text/plain": [
       "       ID  Label                                             Titulo  \\\n",
       "3216   ID      0  El Congreso rechaza con contundencia la ley de...   \n",
       "1938   ID      1  Una semana frenÃ©tica: del veto a Iglesias al ...   \n",
       "56985  ID      1  MaÃ±ueco rescata como asesor en Castilla y LeÃ...   \n",
       "48771  ID      0  El acuerdo entre el Gobierno y PP no peligra, ...   \n",
       "54459  ID      0  DIRECTO | Cifuentes se aferra al cargo y EQUO ...   \n",
       "\n",
       "                                             Descripcion       Fecha  \n",
       "3216   Iniciativa vers per Catalunya, EQUO, Unidos In...  19/06/2018  \n",
       "1938   CrÃ³nica de los Ãºltimos dÃ­as de negociacione...  27/07/2019  \n",
       "56985  El presidente de la Junta acabÃ³ con la carrer...  20/04/2022  \n",
       "48771  La direcciÃ³n de PP asegura a PÃºblico que la ...  26/09/2018  \n",
       "54459  Sigue al minuto la Ãºltima hora desde la Asamb...  04/04/2018  "
      ]
     },
     "execution_count": 193,
     "metadata": {},
     "output_type": "execute_result"
    }
   ],
   "source": [
    "data_news.sample(5)"
   ]
  },
  {
   "cell_type": "code",
   "execution_count": 194,
   "metadata": {},
   "outputs": [
    {
     "data": {
      "text/plain": [
       "ID             object\n",
       "Label           int64\n",
       "Titulo         object\n",
       "Descripcion    object\n",
       "Fecha          object\n",
       "dtype: object"
      ]
     },
     "execution_count": 194,
     "metadata": {},
     "output_type": "execute_result"
    }
   ],
   "source": [
    "data_news.dtypes"
   ]
  },
  {
   "cell_type": "markdown",
   "metadata": {},
   "source": [
    "# 2. Perfilamiento de Datos"
   ]
  },
  {
   "cell_type": "markdown",
   "metadata": {},
   "source": [
    "Separación datos en train y test"
   ]
  },
  {
   "cell_type": "code",
   "execution_count": 195,
   "metadata": {},
   "outputs": [
    {
     "data": {
      "text/plain": [
       "((39944, 5), (39944,))"
      ]
     },
     "execution_count": 195,
     "metadata": {},
     "output_type": "execute_result"
    }
   ],
   "source": [
    "X_train, X_test, y_train , y_test = train_test_split(data_news, data_news[\"Label\"], test_size=0.3, random_state=1)\n",
    "\n",
    "X_train.shape, y_train.shape"
   ]
  },
  {
   "cell_type": "code",
   "execution_count": 196,
   "metadata": {},
   "outputs": [
    {
     "data": {
      "text/plain": [
       "((17119, 5), (17119,))"
      ]
     },
     "execution_count": 196,
     "metadata": {},
     "output_type": "execute_result"
    }
   ],
   "source": [
    "X_test.shape, y_test.shape"
   ]
  },
  {
   "cell_type": "code",
   "execution_count": 197,
   "metadata": {},
   "outputs": [
    {
     "data": {
      "text/html": [
       "<div>\n",
       "<style scoped>\n",
       "    .dataframe tbody tr th:only-of-type {\n",
       "        vertical-align: middle;\n",
       "    }\n",
       "\n",
       "    .dataframe tbody tr th {\n",
       "        vertical-align: top;\n",
       "    }\n",
       "\n",
       "    .dataframe thead th {\n",
       "        text-align: right;\n",
       "    }\n",
       "</style>\n",
       "<table border=\"1\" class=\"dataframe\">\n",
       "  <thead>\n",
       "    <tr style=\"text-align: right;\">\n",
       "      <th></th>\n",
       "      <th>ID</th>\n",
       "      <th>Label</th>\n",
       "      <th>Titulo</th>\n",
       "      <th>Descripcion</th>\n",
       "      <th>Fecha</th>\n",
       "    </tr>\n",
       "  </thead>\n",
       "  <tbody>\n",
       "    <tr>\n",
       "      <th>23862</th>\n",
       "      <td>ID</td>\n",
       "      <td>1</td>\n",
       "      <td>El Ayuntamiento de Barcelona reclama 'mano ten...</td>\n",
       "      <td>Las cuentas ascienden a 3.600 millones, una ci...</td>\n",
       "      <td>14/10/2022</td>\n",
       "    </tr>\n",
       "    <tr>\n",
       "      <th>44273</th>\n",
       "      <td>ID</td>\n",
       "      <td>0</td>\n",
       "      <td>El EQUO vuelve a estar por encima del 30% en e...</td>\n",
       "      <td>Los de David de la Cruz y los de Pablo MÃ³nica...</td>\n",
       "      <td>30/01/2020</td>\n",
       "    </tr>\n",
       "    <tr>\n",
       "      <th>43156</th>\n",
       "      <td>ID</td>\n",
       "      <td>1</td>\n",
       "      <td>MÃ¡s Madrid, Podemos y el Ayuntamiento de Madr...</td>\n",
       "      <td>JosÃ© Luis MartÃ­nez-Almeida, dice que quiere ...</td>\n",
       "      <td>08/04/2022</td>\n",
       "    </tr>\n",
       "    <tr>\n",
       "      <th>13087</th>\n",
       "      <td>ID</td>\n",
       "      <td>0</td>\n",
       "      <td>La presencia de mujeres en las cÃºpulas de los...</td>\n",
       "      <td>EAJ-PNV y PNC, los dos partidos mÃ¡s crÃ­ticos...</td>\n",
       "      <td>07/03/2023</td>\n",
       "    </tr>\n",
       "    <tr>\n",
       "      <th>56295</th>\n",
       "      <td>ID</td>\n",
       "      <td>0</td>\n",
       "      <td>Las defensas intentan frenar que el caso ERE s...</td>\n",
       "      <td>Los abogados de los 22 ex altos cargos del Gob...</td>\n",
       "      <td>10/01/2018</td>\n",
       "    </tr>\n",
       "    <tr>\n",
       "      <th>...</th>\n",
       "      <td>...</td>\n",
       "      <td>...</td>\n",
       "      <td>...</td>\n",
       "      <td>...</td>\n",
       "      <td>...</td>\n",
       "    </tr>\n",
       "    <tr>\n",
       "      <th>50057</th>\n",
       "      <td>ID</td>\n",
       "      <td>0</td>\n",
       "      <td>Encuesta: Â¿CÃ³mo valora las penas a la cÃºpul...</td>\n",
       "      <td>El Supremo condena por sediciÃ³n a la cÃºpula ...</td>\n",
       "      <td>10/10/2019</td>\n",
       "    </tr>\n",
       "    <tr>\n",
       "      <th>32511</th>\n",
       "      <td>ID</td>\n",
       "      <td>0</td>\n",
       "      <td>Cristina Narbona insta a evitar el bloqueo y q...</td>\n",
       "      <td>Cualquier opciÃ³n es bienvenida. La opciÃ³n qu...</td>\n",
       "      <td>05/10/2019</td>\n",
       "    </tr>\n",
       "    <tr>\n",
       "      <th>5192</th>\n",
       "      <td>ID</td>\n",
       "      <td>1</td>\n",
       "      <td>La patronal reconoce que hay relaciÃ³n laboral...</td>\n",
       "      <td>El Ministerio de Trabajo y agentes sociales co...</td>\n",
       "      <td>10/02/2021</td>\n",
       "    </tr>\n",
       "    <tr>\n",
       "      <th>12172</th>\n",
       "      <td>ID</td>\n",
       "      <td>1</td>\n",
       "      <td>Aguado elige al jefe del Canal de Isabel II co...</td>\n",
       "      <td>Rafael MartÃ­n Prieto, se sitÃºa como el princ...</td>\n",
       "      <td>30/08/2019</td>\n",
       "    </tr>\n",
       "    <tr>\n",
       "      <th>33003</th>\n",
       "      <td>ID</td>\n",
       "      <td>1</td>\n",
       "      <td>Archivada la causa contra tres policÃ­as de Ma...</td>\n",
       "      <td>En el grupo se llamaba vejestorio despreciable...</td>\n",
       "      <td>27/04/2018</td>\n",
       "    </tr>\n",
       "  </tbody>\n",
       "</table>\n",
       "<p>39944 rows × 5 columns</p>\n",
       "</div>"
      ],
      "text/plain": [
       "       ID  Label                                             Titulo  \\\n",
       "23862  ID      1  El Ayuntamiento de Barcelona reclama 'mano ten...   \n",
       "44273  ID      0  El EQUO vuelve a estar por encima del 30% en e...   \n",
       "43156  ID      1  MÃ¡s Madrid, Podemos y el Ayuntamiento de Madr...   \n",
       "13087  ID      0  La presencia de mujeres en las cÃºpulas de los...   \n",
       "56295  ID      0  Las defensas intentan frenar que el caso ERE s...   \n",
       "...    ..    ...                                                ...   \n",
       "50057  ID      0  Encuesta: Â¿CÃ³mo valora las penas a la cÃºpul...   \n",
       "32511  ID      0  Cristina Narbona insta a evitar el bloqueo y q...   \n",
       "5192   ID      1  La patronal reconoce que hay relaciÃ³n laboral...   \n",
       "12172  ID      1  Aguado elige al jefe del Canal de Isabel II co...   \n",
       "33003  ID      1  Archivada la causa contra tres policÃ­as de Ma...   \n",
       "\n",
       "                                             Descripcion       Fecha  \n",
       "23862  Las cuentas ascienden a 3.600 millones, una ci...  14/10/2022  \n",
       "44273  Los de David de la Cruz y los de Pablo MÃ³nica...  30/01/2020  \n",
       "43156  JosÃ© Luis MartÃ­nez-Almeida, dice que quiere ...  08/04/2022  \n",
       "13087  EAJ-PNV y PNC, los dos partidos mÃ¡s crÃ­ticos...  07/03/2023  \n",
       "56295  Los abogados de los 22 ex altos cargos del Gob...  10/01/2018  \n",
       "...                                                  ...         ...  \n",
       "50057  El Supremo condena por sediciÃ³n a la cÃºpula ...  10/10/2019  \n",
       "32511  Cualquier opciÃ³n es bienvenida. La opciÃ³n qu...  05/10/2019  \n",
       "5192   El Ministerio de Trabajo y agentes sociales co...  10/02/2021  \n",
       "12172  Rafael MartÃ­n Prieto, se sitÃºa como el princ...  30/08/2019  \n",
       "33003  En el grupo se llamaba vejestorio despreciable...  27/04/2018  \n",
       "\n",
       "[39944 rows x 5 columns]"
      ]
     },
     "execution_count": 197,
     "metadata": {},
     "output_type": "execute_result"
    }
   ],
   "source": [
    "X_train"
   ]
  },
  {
   "cell_type": "code",
   "execution_count": 198,
   "metadata": {},
   "outputs": [
    {
     "name": "stdout",
     "output_type": "stream",
     "text": [
      "<class 'pandas.core.frame.DataFrame'>\n",
      "Index: 39944 entries, 23862 to 33003\n",
      "Data columns (total 5 columns):\n",
      " #   Column       Non-Null Count  Dtype \n",
      "---  ------       --------------  ----- \n",
      " 0   ID           39944 non-null  object\n",
      " 1   Label        39944 non-null  int64 \n",
      " 2   Titulo       39930 non-null  object\n",
      " 3   Descripcion  39944 non-null  object\n",
      " 4   Fecha        39944 non-null  object\n",
      "dtypes: int64(1), object(4)\n",
      "memory usage: 1.8+ MB\n"
     ]
    }
   ],
   "source": [
    "X_train.info()"
   ]
  },
  {
   "cell_type": "code",
   "execution_count": 199,
   "metadata": {},
   "outputs": [
    {
     "data": {
      "text/plain": [
       "ID             39944\n",
       "Label          39944\n",
       "Titulo         39930\n",
       "Descripcion    39944\n",
       "Fecha          39944\n",
       "dtype: int64"
      ]
     },
     "execution_count": 199,
     "metadata": {},
     "output_type": "execute_result"
    }
   ],
   "source": [
    "X_train.count()"
   ]
  },
  {
   "cell_type": "code",
   "execution_count": 200,
   "metadata": {},
   "outputs": [
    {
     "data": {
      "text/html": [
       "<div>\n",
       "<style scoped>\n",
       "    .dataframe tbody tr th:only-of-type {\n",
       "        vertical-align: middle;\n",
       "    }\n",
       "\n",
       "    .dataframe tbody tr th {\n",
       "        vertical-align: top;\n",
       "    }\n",
       "\n",
       "    .dataframe thead th {\n",
       "        text-align: right;\n",
       "    }\n",
       "</style>\n",
       "<table border=\"1\" class=\"dataframe\">\n",
       "  <thead>\n",
       "    <tr style=\"text-align: right;\">\n",
       "      <th></th>\n",
       "      <th>Label</th>\n",
       "    </tr>\n",
       "  </thead>\n",
       "  <tbody>\n",
       "    <tr>\n",
       "      <th>count</th>\n",
       "      <td>39944.000000</td>\n",
       "    </tr>\n",
       "    <tr>\n",
       "      <th>mean</th>\n",
       "      <td>0.580988</td>\n",
       "    </tr>\n",
       "    <tr>\n",
       "      <th>std</th>\n",
       "      <td>0.493403</td>\n",
       "    </tr>\n",
       "    <tr>\n",
       "      <th>min</th>\n",
       "      <td>0.000000</td>\n",
       "    </tr>\n",
       "    <tr>\n",
       "      <th>25%</th>\n",
       "      <td>0.000000</td>\n",
       "    </tr>\n",
       "    <tr>\n",
       "      <th>50%</th>\n",
       "      <td>1.000000</td>\n",
       "    </tr>\n",
       "    <tr>\n",
       "      <th>75%</th>\n",
       "      <td>1.000000</td>\n",
       "    </tr>\n",
       "    <tr>\n",
       "      <th>max</th>\n",
       "      <td>1.000000</td>\n",
       "    </tr>\n",
       "  </tbody>\n",
       "</table>\n",
       "</div>"
      ],
      "text/plain": [
       "              Label\n",
       "count  39944.000000\n",
       "mean       0.580988\n",
       "std        0.493403\n",
       "min        0.000000\n",
       "25%        0.000000\n",
       "50%        1.000000\n",
       "75%        1.000000\n",
       "max        1.000000"
      ]
     },
     "execution_count": 200,
     "metadata": {},
     "output_type": "execute_result"
    }
   ],
   "source": [
    "X_train.describe()"
   ]
  },
  {
   "cell_type": "code",
   "execution_count": 201,
   "metadata": {},
   "outputs": [
    {
     "data": {
      "text/plain": [
       "count    39944.000000\n",
       "mean       248.101793\n",
       "std        282.318642\n",
       "min         37.000000\n",
       "25%        175.000000\n",
       "50%        226.000000\n",
       "75%        272.000000\n",
       "max      14281.000000\n",
       "Name: Descripcion, dtype: float64"
      ]
     },
     "execution_count": 201,
     "metadata": {},
     "output_type": "execute_result"
    }
   ],
   "source": [
    "X_train[\"Descripcion\"].apply(len).describe()"
   ]
  },
  {
   "cell_type": "markdown",
   "metadata": {},
   "source": [
    "2.2 Análisis de Calidad"
   ]
  },
  {
   "cell_type": "markdown",
   "metadata": {},
   "source": [
    "2.2.1 Completitud"
   ]
  },
  {
   "cell_type": "code",
   "execution_count": 202,
   "metadata": {},
   "outputs": [
    {
     "data": {
      "text/html": [
       "<div>\n",
       "<style scoped>\n",
       "    .dataframe tbody tr th:only-of-type {\n",
       "        vertical-align: middle;\n",
       "    }\n",
       "\n",
       "    .dataframe tbody tr th {\n",
       "        vertical-align: top;\n",
       "    }\n",
       "\n",
       "    .dataframe thead th {\n",
       "        text-align: right;\n",
       "    }\n",
       "</style>\n",
       "<table border=\"1\" class=\"dataframe\">\n",
       "  <thead>\n",
       "    <tr style=\"text-align: right;\">\n",
       "      <th></th>\n",
       "      <th>0</th>\n",
       "    </tr>\n",
       "  </thead>\n",
       "  <tbody>\n",
       "    <tr>\n",
       "      <th>Titulo</th>\n",
       "      <td>0.035049</td>\n",
       "    </tr>\n",
       "    <tr>\n",
       "      <th>ID</th>\n",
       "      <td>0.000000</td>\n",
       "    </tr>\n",
       "    <tr>\n",
       "      <th>Label</th>\n",
       "      <td>0.000000</td>\n",
       "    </tr>\n",
       "    <tr>\n",
       "      <th>Descripcion</th>\n",
       "      <td>0.000000</td>\n",
       "    </tr>\n",
       "    <tr>\n",
       "      <th>Fecha</th>\n",
       "      <td>0.000000</td>\n",
       "    </tr>\n",
       "  </tbody>\n",
       "</table>\n",
       "</div>"
      ],
      "text/plain": [
       "                    0\n",
       "Titulo       0.035049\n",
       "ID           0.000000\n",
       "Label        0.000000\n",
       "Descripcion  0.000000\n",
       "Fecha        0.000000"
      ]
     },
     "execution_count": 202,
     "metadata": {},
     "output_type": "execute_result"
    }
   ],
   "source": [
    "df_porcentajes = (100*X_train.isna().sum()/len(X_train)).to_frame()\n",
    "df_porcentajes.sort_values(0, ascending = False)"
   ]
  },
  {
   "cell_type": "code",
   "execution_count": 203,
   "metadata": {},
   "outputs": [
    {
     "data": {
      "text/html": [
       "<div>\n",
       "<style scoped>\n",
       "    .dataframe tbody tr th:only-of-type {\n",
       "        vertical-align: middle;\n",
       "    }\n",
       "\n",
       "    .dataframe tbody tr th {\n",
       "        vertical-align: top;\n",
       "    }\n",
       "\n",
       "    .dataframe thead th {\n",
       "        text-align: right;\n",
       "    }\n",
       "</style>\n",
       "<table border=\"1\" class=\"dataframe\">\n",
       "  <thead>\n",
       "    <tr style=\"text-align: right;\">\n",
       "      <th></th>\n",
       "      <th>ID</th>\n",
       "      <th>Label</th>\n",
       "      <th>Titulo</th>\n",
       "      <th>Descripcion</th>\n",
       "      <th>Fecha</th>\n",
       "    </tr>\n",
       "  </thead>\n",
       "  <tbody>\n",
       "    <tr>\n",
       "      <th>3243</th>\n",
       "      <td>ID</td>\n",
       "      <td>0</td>\n",
       "      <td>NaN</td>\n",
       "      <td>Hace unos 75 aÃ±os, Hermann GÃ¶ring testificÃ³...</td>\n",
       "      <td>16/06/2019</td>\n",
       "    </tr>\n",
       "    <tr>\n",
       "      <th>36724</th>\n",
       "      <td>ID</td>\n",
       "      <td>0</td>\n",
       "      <td>NaN</td>\n",
       "      <td>Como muchos de ustedes recordarÃ¡n, ayer por l...</td>\n",
       "      <td>04/02/2023</td>\n",
       "    </tr>\n",
       "    <tr>\n",
       "      <th>55146</th>\n",
       "      <td>ID</td>\n",
       "      <td>0</td>\n",
       "      <td>NaN</td>\n",
       "      <td>Denuncia PÃºblica\\nSe veÃ­a venir... En Gualac...</td>\n",
       "      <td>15/02/2023</td>\n",
       "    </tr>\n",
       "    <tr>\n",
       "      <th>47967</th>\n",
       "      <td>ID</td>\n",
       "      <td>0</td>\n",
       "      <td>NaN</td>\n",
       "      <td>Se han dado a conocer los datos electorales pr...</td>\n",
       "      <td>19/04/2019</td>\n",
       "    </tr>\n",
       "    <tr>\n",
       "      <th>7345</th>\n",
       "      <td>ID</td>\n",
       "      <td>0</td>\n",
       "      <td>NaN</td>\n",
       "      <td>Defienden dichos con capitulos de Don Gato.\\n\\...</td>\n",
       "      <td>02/07/2023</td>\n",
       "    </tr>\n",
       "    <tr>\n",
       "      <th>7652</th>\n",
       "      <td>ID</td>\n",
       "      <td>0</td>\n",
       "      <td>NaN</td>\n",
       "      <td>Lean (y vean la imagen) con mucha atenciÃ³n:\\n...</td>\n",
       "      <td>04/08/2018</td>\n",
       "    </tr>\n",
       "    <tr>\n",
       "      <th>4189</th>\n",
       "      <td>ID</td>\n",
       "      <td>0</td>\n",
       "      <td>NaN</td>\n",
       "      <td>Evidentemente, Barak Obama ha sido arrestado e...</td>\n",
       "      <td>10/03/2022</td>\n",
       "    </tr>\n",
       "    <tr>\n",
       "      <th>5041</th>\n",
       "      <td>ID</td>\n",
       "      <td>0</td>\n",
       "      <td>NaN</td>\n",
       "      <td>\"DespuÃ©s de convertirme en presidente, le ped...</td>\n",
       "      <td>16/03/2022</td>\n",
       "    </tr>\n",
       "    <tr>\n",
       "      <th>35816</th>\n",
       "      <td>ID</td>\n",
       "      <td>0</td>\n",
       "      <td>NaN</td>\n",
       "      <td>#ÃLTIMA_HORA Le ordenarÃ© a los empresarios d...</td>\n",
       "      <td>07/05/2021</td>\n",
       "    </tr>\n",
       "    <tr>\n",
       "      <th>15159</th>\n",
       "      <td>ID</td>\n",
       "      <td>0</td>\n",
       "      <td>NaN</td>\n",
       "      <td>Declarar a Bill Gates enemigo pÃºblico y proce...</td>\n",
       "      <td>02/08/2024</td>\n",
       "    </tr>\n",
       "    <tr>\n",
       "      <th>9700</th>\n",
       "      <td>ID</td>\n",
       "      <td>0</td>\n",
       "      <td>NaN</td>\n",
       "      <td>Â¿SabÃ­as que Francisco Sagasti saliÃ³ a march...</td>\n",
       "      <td>26/12/2018</td>\n",
       "    </tr>\n",
       "    <tr>\n",
       "      <th>5644</th>\n",
       "      <td>ID</td>\n",
       "      <td>0</td>\n",
       "      <td>NaN</td>\n",
       "      <td>Me pasaron de buena fuente hoy (un vecino del ...</td>\n",
       "      <td>08/04/2023</td>\n",
       "    </tr>\n",
       "    <tr>\n",
       "      <th>40295</th>\n",
       "      <td>ID</td>\n",
       "      <td>0</td>\n",
       "      <td>NaN</td>\n",
       "      <td>Juanma Moreno Bonilla, presidente de la Junta ...</td>\n",
       "      <td>21/08/2020</td>\n",
       "    </tr>\n",
       "    <tr>\n",
       "      <th>24806</th>\n",
       "      <td>ID</td>\n",
       "      <td>0</td>\n",
       "      <td>NaN</td>\n",
       "      <td>CUANDO LAS IMÃGENES HABLAN MÃS QUE PALABRAS....</td>\n",
       "      <td>28/06/2018</td>\n",
       "    </tr>\n",
       "  </tbody>\n",
       "</table>\n",
       "</div>"
      ],
      "text/plain": [
       "       ID  Label Titulo                                        Descripcion  \\\n",
       "3243   ID      0    NaN  Hace unos 75 aÃ±os, Hermann GÃ¶ring testificÃ³...   \n",
       "36724  ID      0    NaN  Como muchos de ustedes recordarÃ¡n, ayer por l...   \n",
       "55146  ID      0    NaN  Denuncia PÃºblica\\nSe veÃ­a venir... En Gualac...   \n",
       "47967  ID      0    NaN  Se han dado a conocer los datos electorales pr...   \n",
       "7345   ID      0    NaN  Defienden dichos con capitulos de Don Gato.\\n\\...   \n",
       "7652   ID      0    NaN  Lean (y vean la imagen) con mucha atenciÃ³n:\\n...   \n",
       "4189   ID      0    NaN  Evidentemente, Barak Obama ha sido arrestado e...   \n",
       "5041   ID      0    NaN  \"DespuÃ©s de convertirme en presidente, le ped...   \n",
       "35816  ID      0    NaN  #ÃLTIMA_HORA Le ordenarÃ© a los empresarios d...   \n",
       "15159  ID      0    NaN  Declarar a Bill Gates enemigo pÃºblico y proce...   \n",
       "9700   ID      0    NaN  Â¿SabÃ­as que Francisco Sagasti saliÃ³ a march...   \n",
       "5644   ID      0    NaN  Me pasaron de buena fuente hoy (un vecino del ...   \n",
       "40295  ID      0    NaN  Juanma Moreno Bonilla, presidente de la Junta ...   \n",
       "24806  ID      0    NaN  CUANDO LAS IMÃGENES HABLAN MÃS QUE PALABRAS....   \n",
       "\n",
       "            Fecha  \n",
       "3243   16/06/2019  \n",
       "36724  04/02/2023  \n",
       "55146  15/02/2023  \n",
       "47967  19/04/2019  \n",
       "7345   02/07/2023  \n",
       "7652   04/08/2018  \n",
       "4189   10/03/2022  \n",
       "5041   16/03/2022  \n",
       "35816  07/05/2021  \n",
       "15159  02/08/2024  \n",
       "9700   26/12/2018  \n",
       "5644   08/04/2023  \n",
       "40295  21/08/2020  \n",
       "24806  28/06/2018  "
      ]
     },
     "execution_count": 203,
     "metadata": {},
     "output_type": "execute_result"
    }
   ],
   "source": [
    "filas_incompletas = X_train[X_train.isna().any(axis=1)]\n",
    "filas_incompletas\n"
   ]
  },
  {
   "cell_type": "markdown",
   "metadata": {},
   "source": [
    "Podemos eliminar los registros que estan vacios"
   ]
  },
  {
   "cell_type": "code",
   "execution_count": 204,
   "metadata": {},
   "outputs": [
    {
     "name": "stdout",
     "output_type": "stream",
     "text": [
      "None\n"
     ]
    },
    {
     "data": {
      "text/plain": [
       "(39930, 5)"
      ]
     },
     "execution_count": 204,
     "metadata": {},
     "output_type": "execute_result"
    }
   ],
   "source": [
    "def drop_empty(train):\n",
    "\n",
    "    train.dropna(inplace=True)\n",
    "\n",
    "    return\n",
    "\n",
    "print(drop_empty(train=X_train))\n",
    "\n",
    "X_train.shape"
   ]
  },
  {
   "cell_type": "code",
   "execution_count": 205,
   "metadata": {},
   "outputs": [
    {
     "data": {
      "text/html": [
       "<div>\n",
       "<style scoped>\n",
       "    .dataframe tbody tr th:only-of-type {\n",
       "        vertical-align: middle;\n",
       "    }\n",
       "\n",
       "    .dataframe tbody tr th {\n",
       "        vertical-align: top;\n",
       "    }\n",
       "\n",
       "    .dataframe thead th {\n",
       "        text-align: right;\n",
       "    }\n",
       "</style>\n",
       "<table border=\"1\" class=\"dataframe\">\n",
       "  <thead>\n",
       "    <tr style=\"text-align: right;\">\n",
       "      <th></th>\n",
       "      <th>ID</th>\n",
       "      <th>Label</th>\n",
       "      <th>Titulo</th>\n",
       "      <th>Descripcion</th>\n",
       "      <th>Fecha</th>\n",
       "    </tr>\n",
       "  </thead>\n",
       "  <tbody>\n",
       "  </tbody>\n",
       "</table>\n",
       "</div>"
      ],
      "text/plain": [
       "Empty DataFrame\n",
       "Columns: [ID, Label, Titulo, Descripcion, Fecha]\n",
       "Index: []"
      ]
     },
     "execution_count": 205,
     "metadata": {},
     "output_type": "execute_result"
    }
   ],
   "source": [
    "filas_incompletas = X_train[X_train.isna().any(axis=1)]\n",
    "filas_incompletas"
   ]
  },
  {
   "cell_type": "markdown",
   "metadata": {},
   "source": [
    "2.2.2 Duplicidad"
   ]
  },
  {
   "cell_type": "code",
   "execution_count": 206,
   "metadata": {},
   "outputs": [
    {
     "data": {
      "text/html": [
       "<div>\n",
       "<style scoped>\n",
       "    .dataframe tbody tr th:only-of-type {\n",
       "        vertical-align: middle;\n",
       "    }\n",
       "\n",
       "    .dataframe tbody tr th {\n",
       "        vertical-align: top;\n",
       "    }\n",
       "\n",
       "    .dataframe thead th {\n",
       "        text-align: right;\n",
       "    }\n",
       "</style>\n",
       "<table border=\"1\" class=\"dataframe\">\n",
       "  <thead>\n",
       "    <tr style=\"text-align: right;\">\n",
       "      <th></th>\n",
       "      <th>ID</th>\n",
       "      <th>Label</th>\n",
       "      <th>Titulo</th>\n",
       "      <th>Descripcion</th>\n",
       "      <th>Fecha</th>\n",
       "    </tr>\n",
       "  </thead>\n",
       "  <tbody>\n",
       "    <tr>\n",
       "      <th>14575</th>\n",
       "      <td>ID</td>\n",
       "      <td>1</td>\n",
       "      <td>'Hazlo por Madrid', el lema del PSOE se centra...</td>\n",
       "      <td>Gabilondo asegura que si hay movilizaciÃ³n Ayu...</td>\n",
       "      <td>12/04/2021</td>\n",
       "    </tr>\n",
       "    <tr>\n",
       "      <th>40673</th>\n",
       "      <td>ID</td>\n",
       "      <td>1</td>\n",
       "      <td>'Hazlo por Madrid', el lema del PSOE se centra...</td>\n",
       "      <td>Gabilondo asegura que si hay movilizaciÃ³n Ayu...</td>\n",
       "      <td>12/04/2021</td>\n",
       "    </tr>\n",
       "    <tr>\n",
       "      <th>31439</th>\n",
       "      <td>ID</td>\n",
       "      <td>1</td>\n",
       "      <td>'SÃ¡lvame Deluxe' entra en polÃ­tica</td>\n",
       "      <td>El presentador del programa de Telecinco acomp...</td>\n",
       "      <td>24/04/2021</td>\n",
       "    </tr>\n",
       "    <tr>\n",
       "      <th>13847</th>\n",
       "      <td>ID</td>\n",
       "      <td>1</td>\n",
       "      <td>'SÃ¡lvame Deluxe' entra en polÃ­tica</td>\n",
       "      <td>El presentador del programa de Telecinco acomp...</td>\n",
       "      <td>24/04/2021</td>\n",
       "    </tr>\n",
       "    <tr>\n",
       "      <th>50738</th>\n",
       "      <td>ID</td>\n",
       "      <td>1</td>\n",
       "      <td>70.000 millones en tres aÃ±os para modernizar ...</td>\n",
       "      <td>El 39% de los fondos se destinarÃ¡ a la transi...</td>\n",
       "      <td>13/04/2021</td>\n",
       "    </tr>\n",
       "    <tr>\n",
       "      <th>...</th>\n",
       "      <td>...</td>\n",
       "      <td>...</td>\n",
       "      <td>...</td>\n",
       "      <td>...</td>\n",
       "      <td>...</td>\n",
       "    </tr>\n",
       "    <tr>\n",
       "      <th>28964</th>\n",
       "      <td>ID</td>\n",
       "      <td>1</td>\n",
       "      <td>Â¿A quÃ© hora puedo ir a votar en las eleccion...</td>\n",
       "      <td>La Comunidad de Madrid ha establecido una guÃ­...</td>\n",
       "      <td>30/04/2021</td>\n",
       "    </tr>\n",
       "    <tr>\n",
       "      <th>54584</th>\n",
       "      <td>ID</td>\n",
       "      <td>1</td>\n",
       "      <td>Â¿Hartazgo de centralismo en ValÃ¨ncia?</td>\n",
       "      <td>La guerra de declaraciones entre Ayuso y el go...</td>\n",
       "      <td>15/04/2021</td>\n",
       "    </tr>\n",
       "    <tr>\n",
       "      <th>54615</th>\n",
       "      <td>ID</td>\n",
       "      <td>1</td>\n",
       "      <td>Â¿Hartazgo de centralismo en ValÃ¨ncia?</td>\n",
       "      <td>La guerra de declaraciones entre Ayuso y el go...</td>\n",
       "      <td>15/04/2021</td>\n",
       "    </tr>\n",
       "    <tr>\n",
       "      <th>10974</th>\n",
       "      <td>ID</td>\n",
       "      <td>1</td>\n",
       "      <td>Â¿Ignorarles o rebatirles?: la nueva campaÃ±a ...</td>\n",
       "      <td>La formaciÃ³n de Abascal busca normalizar las ...</td>\n",
       "      <td>21/04/2021</td>\n",
       "    </tr>\n",
       "    <tr>\n",
       "      <th>51859</th>\n",
       "      <td>ID</td>\n",
       "      <td>1</td>\n",
       "      <td>Â¿Ignorarles o rebatirles?: la nueva campaÃ±a ...</td>\n",
       "      <td>La formaciÃ³n de Abascal busca normalizar las ...</td>\n",
       "      <td>21/04/2021</td>\n",
       "    </tr>\n",
       "  </tbody>\n",
       "</table>\n",
       "<p>437 rows × 5 columns</p>\n",
       "</div>"
      ],
      "text/plain": [
       "       ID  Label                                             Titulo  \\\n",
       "14575  ID      1  'Hazlo por Madrid', el lema del PSOE se centra...   \n",
       "40673  ID      1  'Hazlo por Madrid', el lema del PSOE se centra...   \n",
       "31439  ID      1               'SÃ¡lvame Deluxe' entra en polÃ­tica   \n",
       "13847  ID      1               'SÃ¡lvame Deluxe' entra en polÃ­tica   \n",
       "50738  ID      1  70.000 millones en tres aÃ±os para modernizar ...   \n",
       "...    ..    ...                                                ...   \n",
       "28964  ID      1  Â¿A quÃ© hora puedo ir a votar en las eleccion...   \n",
       "54584  ID      1            Â¿Hartazgo de centralismo en ValÃ¨ncia?   \n",
       "54615  ID      1            Â¿Hartazgo de centralismo en ValÃ¨ncia?   \n",
       "10974  ID      1  Â¿Ignorarles o rebatirles?: la nueva campaÃ±a ...   \n",
       "51859  ID      1  Â¿Ignorarles o rebatirles?: la nueva campaÃ±a ...   \n",
       "\n",
       "                                             Descripcion       Fecha  \n",
       "14575  Gabilondo asegura que si hay movilizaciÃ³n Ayu...  12/04/2021  \n",
       "40673  Gabilondo asegura que si hay movilizaciÃ³n Ayu...  12/04/2021  \n",
       "31439  El presentador del programa de Telecinco acomp...  24/04/2021  \n",
       "13847  El presentador del programa de Telecinco acomp...  24/04/2021  \n",
       "50738  El 39% de los fondos se destinarÃ¡ a la transi...  13/04/2021  \n",
       "...                                                  ...         ...  \n",
       "28964  La Comunidad de Madrid ha establecido una guÃ­...  30/04/2021  \n",
       "54584  La guerra de declaraciones entre Ayuso y el go...  15/04/2021  \n",
       "54615  La guerra de declaraciones entre Ayuso y el go...  15/04/2021  \n",
       "10974  La formaciÃ³n de Abascal busca normalizar las ...  21/04/2021  \n",
       "51859  La formaciÃ³n de Abascal busca normalizar las ...  21/04/2021  \n",
       "\n",
       "[437 rows x 5 columns]"
      ]
     },
     "execution_count": 206,
     "metadata": {},
     "output_type": "execute_result"
    }
   ],
   "source": [
    "duplicated_rows = X_train.loc[X_train.duplicated(subset=[\"Titulo\"]+[\"Descripcion\"], keep=False)].sort_values(\"Titulo\")\n",
    "duplicated_rows"
   ]
  },
  {
   "cell_type": "markdown",
   "metadata": {},
   "source": [
    "Eliminar noticias duplicadas"
   ]
  },
  {
   "cell_type": "code",
   "execution_count": 207,
   "metadata": {},
   "outputs": [
    {
     "name": "stdout",
     "output_type": "stream",
     "text": [
      "       ID  Label                                             Titulo  \\\n",
      "40673  ID      1  'Hazlo por Madrid', el lema del PSOE se centra...   \n",
      "14575  ID      1  'Hazlo por Madrid', el lema del PSOE se centra...   \n",
      "13847  ID      1               'SÃ¡lvame Deluxe' entra en polÃ­tica   \n",
      "31439  ID      1               'SÃ¡lvame Deluxe' entra en polÃ­tica   \n",
      "14981  ID      1  'Vivir a la madrileÃ±a': la realidad no tan id...   \n",
      "...    ..    ...                                                ...   \n",
      "8464   ID      1  Â¿Por quÃ© las energÃ­as verdes estÃ¡n causand...   \n",
      "37769  ID      1  Â¿QuÃ© son las polÃ­ticas activas de empleo y ...   \n",
      "28272  ID      1  Â¿QuÃ© son las polÃ­ticas activas de empleo y ...   \n",
      "35301  ID      1  Ãngels BarcelÃ³: 'Los demÃ³cratas somos mucho...   \n",
      "29781  ID      1  Ãngels BarcelÃ³: 'Los demÃ³cratas somos mucho...   \n",
      "\n",
      "                                             Descripcion       Fecha  \n",
      "40673  Gabilondo asegura que si hay movilizaciÃ³n Ayu...  12/04/2021  \n",
      "14575  Gabilondo asegura que si hay movilizaciÃ³n Ayu...  12/04/2021  \n",
      "13847  El presentador del programa de Telecinco acomp...  24/04/2021  \n",
      "31439  El presentador del programa de Telecinco acomp...  24/04/2021  \n",
      "14981  La candidata del PP asegura que en Madrid se v...  27/04/2021  \n",
      "...                                                  ...         ...  \n",
      "8464   El decreto 16/2019 liberaliza la implantaciÃ³n...  12/04/2021  \n",
      "37769  Las polÃ­ticas activas de empleo fueron una de...  12/04/2021  \n",
      "28272  Las polÃ­ticas activas de empleo fueron una de...  12/04/2021  \n",
      "35301  La periodista de la Cadena Ser se ha visto obl...  23/04/2021  \n",
      "29781  La periodista de la Cadena Ser se ha visto obl...  23/04/2021  \n",
      "\n",
      "[882 rows x 5 columns]\n",
      "None\n"
     ]
    },
    {
     "data": {
      "text/plain": [
       "(39706, 5)"
      ]
     },
     "execution_count": 207,
     "metadata": {},
     "output_type": "execute_result"
    }
   ],
   "source": [
    "def drop_duplicates(train):\n",
    "\n",
    "    train.drop_duplicates(subset = ['Titulo'] + ['Descripcion'], keep = 'first', inplace = True)\n",
    "\n",
    "    duplicated_rows = data_news.loc[data_news.duplicated(subset=[\"Titulo\"]+[\"Descripcion\"], keep=False)].sort_values(\"Titulo\")\n",
    "    print(duplicated_rows)\n",
    "\n",
    "    return\n",
    "\n",
    "print(drop_duplicates(train=X_train))\n",
    "\n",
    "X_train.shape"
   ]
  },
  {
   "cell_type": "code",
   "execution_count": 208,
   "metadata": {},
   "outputs": [
    {
     "data": {
      "text/html": [
       "<div>\n",
       "<style scoped>\n",
       "    .dataframe tbody tr th:only-of-type {\n",
       "        vertical-align: middle;\n",
       "    }\n",
       "\n",
       "    .dataframe tbody tr th {\n",
       "        vertical-align: top;\n",
       "    }\n",
       "\n",
       "    .dataframe thead th {\n",
       "        text-align: right;\n",
       "    }\n",
       "</style>\n",
       "<table border=\"1\" class=\"dataframe\">\n",
       "  <thead>\n",
       "    <tr style=\"text-align: right;\">\n",
       "      <th></th>\n",
       "      <th>ID</th>\n",
       "      <th>Label</th>\n",
       "      <th>Titulo</th>\n",
       "      <th>Descripcion</th>\n",
       "      <th>Fecha</th>\n",
       "    </tr>\n",
       "  </thead>\n",
       "  <tbody>\n",
       "  </tbody>\n",
       "</table>\n",
       "</div>"
      ],
      "text/plain": [
       "Empty DataFrame\n",
       "Columns: [ID, Label, Titulo, Descripcion, Fecha]\n",
       "Index: []"
      ]
     },
     "execution_count": 208,
     "metadata": {},
     "output_type": "execute_result"
    }
   ],
   "source": [
    "duplicated_rows = X_train.loc[X_train.duplicated(subset=[\"Titulo\"]+[\"Descripcion\"], keep=False)].sort_values(\"Titulo\")\n",
    "duplicated_rows"
   ]
  },
  {
   "cell_type": "markdown",
   "metadata": {},
   "source": [
    "2.2.3 Consistencia"
   ]
  },
  {
   "cell_type": "code",
   "execution_count": 209,
   "metadata": {},
   "outputs": [
    {
     "name": "stdout",
     "output_type": "stream",
     "text": [
      "Longitud del Titulo: \n",
      "23862    109\n",
      "44273    112\n",
      "43156    117\n",
      "13087    130\n",
      "56295     78\n",
      "        ... \n",
      "50057     62\n",
      "32511     97\n",
      "5192     111\n",
      "12172     85\n",
      "33003     84\n",
      "Name: Titulo, Length: 39706, dtype: int64\n",
      "\n",
      "Longitud de la Descripcion: \n",
      "23862    237\n",
      "44273    273\n",
      "43156    263\n",
      "13087    142\n",
      "56295    330\n",
      "        ... \n",
      "50057    104\n",
      "32511    160\n",
      "5192     366\n",
      "12172    225\n",
      "33003    191\n",
      "Name: Descripcion, Length: 39706, dtype: int64\n"
     ]
    }
   ],
   "source": [
    "len_titulo = X_train[\"Titulo\"].apply(len)\n",
    "len_descripcion = X_train[\"Descripcion\"].apply(len)\n",
    "\n",
    "print(\"Longitud del Titulo: \\n\" + str(len_titulo))\n",
    "print(\"\\nLongitud de la Descripcion: \\n\" + str(len_descripcion))\n"
   ]
  },
  {
   "cell_type": "code",
   "execution_count": 210,
   "metadata": {},
   "outputs": [
    {
     "data": {
      "text/plain": [
       "count    39706.000000\n",
       "mean        96.482068\n",
       "std         22.079494\n",
       "min         13.000000\n",
       "25%         81.000000\n",
       "50%         96.000000\n",
       "75%        113.000000\n",
       "max        258.000000\n",
       "Name: Titulo, dtype: float64"
      ]
     },
     "execution_count": 210,
     "metadata": {},
     "output_type": "execute_result"
    }
   ],
   "source": [
    "len_titulo.describe()"
   ]
  },
  {
   "cell_type": "code",
   "execution_count": 211,
   "metadata": {},
   "outputs": [
    {
     "data": {
      "text/plain": [
       "count    39706.000000\n",
       "mean       247.504861\n",
       "std        278.800589\n",
       "min         37.000000\n",
       "25%        175.000000\n",
       "50%        226.000000\n",
       "75%        272.000000\n",
       "max      14281.000000\n",
       "Name: Descripcion, dtype: float64"
      ]
     },
     "execution_count": 211,
     "metadata": {},
     "output_type": "execute_result"
    }
   ],
   "source": [
    "len_descripcion.describe()"
   ]
  },
  {
   "cell_type": "markdown",
   "metadata": {},
   "source": [
    "2.2.4 Validez"
   ]
  },
  {
   "cell_type": "code",
   "execution_count": 212,
   "metadata": {},
   "outputs": [
    {
     "data": {
      "text/html": [
       "<div>\n",
       "<style scoped>\n",
       "    .dataframe tbody tr th:only-of-type {\n",
       "        vertical-align: middle;\n",
       "    }\n",
       "\n",
       "    .dataframe tbody tr th {\n",
       "        vertical-align: top;\n",
       "    }\n",
       "\n",
       "    .dataframe thead th {\n",
       "        text-align: right;\n",
       "    }\n",
       "</style>\n",
       "<table border=\"1\" class=\"dataframe\">\n",
       "  <thead>\n",
       "    <tr style=\"text-align: right;\">\n",
       "      <th></th>\n",
       "      <th>Label</th>\n",
       "    </tr>\n",
       "  </thead>\n",
       "  <tbody>\n",
       "    <tr>\n",
       "      <th>count</th>\n",
       "      <td>39706.000000</td>\n",
       "    </tr>\n",
       "    <tr>\n",
       "      <th>mean</th>\n",
       "      <td>0.579333</td>\n",
       "    </tr>\n",
       "    <tr>\n",
       "      <th>std</th>\n",
       "      <td>0.493672</td>\n",
       "    </tr>\n",
       "    <tr>\n",
       "      <th>min</th>\n",
       "      <td>0.000000</td>\n",
       "    </tr>\n",
       "    <tr>\n",
       "      <th>25%</th>\n",
       "      <td>0.000000</td>\n",
       "    </tr>\n",
       "    <tr>\n",
       "      <th>50%</th>\n",
       "      <td>1.000000</td>\n",
       "    </tr>\n",
       "    <tr>\n",
       "      <th>75%</th>\n",
       "      <td>1.000000</td>\n",
       "    </tr>\n",
       "    <tr>\n",
       "      <th>max</th>\n",
       "      <td>1.000000</td>\n",
       "    </tr>\n",
       "  </tbody>\n",
       "</table>\n",
       "</div>"
      ],
      "text/plain": [
       "              Label\n",
       "count  39706.000000\n",
       "mean       0.579333\n",
       "std        0.493672\n",
       "min        0.000000\n",
       "25%        0.000000\n",
       "50%        1.000000\n",
       "75%        1.000000\n",
       "max        1.000000"
      ]
     },
     "execution_count": 212,
     "metadata": {},
     "output_type": "execute_result"
    }
   ],
   "source": [
    "X_train.describe()"
   ]
  },
  {
   "cell_type": "code",
   "execution_count": 213,
   "metadata": {},
   "outputs": [
    {
     "name": "stderr",
     "output_type": "stream",
     "text": [
      "C:\\Users\\juane\\AppData\\Local\\Temp\\ipykernel_16296\\1149166573.py:1: UserWarning: Parsing dates in %d/%m/%Y format when dayfirst=False (the default) was specified. Pass `dayfirst=True` or specify a format to silence this warning.\n",
      "  X_train[\"Fecha\"] = pd.to_datetime(X_train[\"Fecha\"])\n"
     ]
    }
   ],
   "source": [
    "X_train[\"Fecha\"] = pd.to_datetime(X_train[\"Fecha\"])"
   ]
  },
  {
   "cell_type": "code",
   "execution_count": 214,
   "metadata": {},
   "outputs": [
    {
     "data": {
      "text/plain": [
       "Fecha\n",
       "2023-05-29    67\n",
       "2019-05-27    58\n",
       "2019-04-24    54\n",
       "2019-07-18    52\n",
       "2019-06-05    50\n",
       "              ..\n",
       "2024-09-09     1\n",
       "2023-08-12     1\n",
       "2017-02-11     1\n",
       "2023-11-21     1\n",
       "2017-08-22     1\n",
       "Name: count, Length: 2198, dtype: int64"
      ]
     },
     "execution_count": 214,
     "metadata": {},
     "output_type": "execute_result"
    }
   ],
   "source": [
    "X_train[\"Fecha\"].value_counts()"
   ]
  },
  {
   "cell_type": "markdown",
   "metadata": {},
   "source": [
    "# 3. Preparación de Datos"
   ]
  },
  {
   "cell_type": "markdown",
   "metadata": {},
   "source": [
    "3.1. Limpieza de Datos"
   ]
  },
  {
   "cell_type": "markdown",
   "metadata": {},
   "source": [
    "Tratar de dejar el texto lo más limpio posible para poder hacer el procesamiento de tokenización"
   ]
  },
  {
   "cell_type": "code",
   "execution_count": 215,
   "metadata": {},
   "outputs": [],
   "source": [
    "def limpiar_ascii(train):\n",
    "\n",
    "    train[\"Titulo\"] = train[\"Titulo\"].apply(lambda x: unicodedata.normalize(\"NFKD\", x).encode(\"ascii\", \"ignore\").decode(\"utf-8\"))\n",
    "    train[\"Descripcion\"] = train[\"Descripcion\"].apply(lambda x: unicodedata.normalize(\"NFKD\", x).encode(\"ascii\", \"ignore\").decode(\"utf-8\"))\n",
    "\n",
    "    return\n",
    "\n",
    "\n",
    "def limpiar_mayusculas(train):\n",
    "\n",
    "    train[\"Titulo\"] = train[\"Titulo\"].str.lower()\n",
    "    train[\"Descripcion\"] = train[\"Descripcion\"].str.lower()\n",
    "\n",
    "    return\n",
    "\n",
    "\n",
    "def limpiar_puntuacion(train):\n",
    "\n",
    "    train[\"Titulo\"] = train[\"Titulo\"].apply(lambda x: re.sub(r'[.:,;-_¿?¡!\"\\'()\\[\\]{}\\/%\\$@+*\\^]', '', x))\n",
    "    train[\"Descripcion\"] = train[\"Descripcion\"].apply(lambda x: re.sub(r'[.:,;-_¿?¡!\"\\'()\\[\\]{}\\/%\\$@+*\\^]', '', x))\n",
    "    \n",
    "    return\n",
    "\n",
    "\n",
    "def limpiar_numeros(train):\n",
    "\n",
    "    train[\"Titulo\"] = train[\"Titulo\"].apply(lambda x: re.sub(r'\\b\\d+\\b', lambda y: num2words.num2words(y.group(), lang='es'), x))\n",
    "    train[\"Descripcion\"] = train[\"Descripcion\"].apply(lambda x: re.sub(r'\\b\\d+\\b', lambda y: num2words.num2words(y.group(), lang='es'), x))\n",
    "\n",
    "    return\n",
    "\n",
    "\n",
    "palabras_stop = nlp.Defaults.stop_words\n",
    "\n",
    "palabras_s = r'\\b(?:' + '|'.join(palabras_stop) + r')\\b'\n",
    "\n",
    "def limpiar_stopwords(train):\n",
    "\n",
    "    train[\"Titulo\"] = train[\"Titulo\"].apply(lambda x: re.sub(palabras_s, '', x))\n",
    "    train[\"Descripcion\"] = train[\"Descripcion\"].apply(lambda x: re.sub(palabras_s, '', x))\n",
    "\n",
    "    return\n",
    "\n",
    "def limpiar_guiones(train):\n",
    "\n",
    "    train[\"Titulo\"] = train[\"Titulo\"].apply(lambda x: x.replace(\"-\", \" \"))\n",
    "    train[\"Descripcion\"] = train[\"Descripcion\"].apply(lambda x: x.replace(\"-\", \" \"))\n",
    "\n",
    "    return\n",
    "\n",
    "numeros_post_ascii = r'[0123456789]'\n",
    "\n",
    "def limpiar_numeros_ascii(train):\n",
    "\n",
    "    train[\"Titulo\"] = train[\"Titulo\"].apply(lambda x: re.sub(numeros_post_ascii, '', x))\n",
    "    train[\"Descripcion\"] = train[\"Descripcion\"].apply(lambda x: re.sub(numeros_post_ascii, '', x))\n",
    "\n",
    "    return\n"
   ]
  },
  {
   "cell_type": "code",
   "execution_count": 216,
   "metadata": {},
   "outputs": [
    {
     "name": "stdout",
     "output_type": "stream",
     "text": [
      "       ID  Label                                             Titulo  \\\n",
      "23862  ID      1   ayuntamiento  barcelona reclama mano tendida ...   \n",
      "44273  ID      0   equo vuelve      treinta  estimacian  voto  p...   \n",
      "43156  ID      1   madrid    ayuntamiento  madrid  personan  acu...   \n",
      "13087  ID      0   presencia  mujeres   caopulas   partidos sa e...   \n",
      "56295  ID      0   defensas intentan frenar   caso ere  juzgue  ...   \n",
      "...    ..    ...                                                ...   \n",
      "50057  ID      0     encuesta acamo valora  penas   caopula  procas   \n",
      "32511  ID      0  cristina narbona insta  evitar  bloqueo     pa...   \n",
      "5192   ID      1   patronal reconoce   relacian laboral  empresa...   \n",
      "12172  ID      1  aguado elige  jefe  canal  isabel ii  praximo ...   \n",
      "33003  ID      1  archivada  causa   policaas  madrid  insultos ...   \n",
      "\n",
      "                                             Descripcion      Fecha  \n",
      "23862   cuentas ascienden   mil seiscientos millones ... 2022-10-14  \n",
      "44273    david   cruz    pablo manica garcaa crecen  ... 2020-01-30  \n",
      "43156  josa luis martanez almeida    restituir   aolt... 2022-04-08  \n",
      "13087  eaj pnv  pnc   partidos  craticos   ley  parid... 2023-03-07  \n",
      "56295   abogados   veintidós ex altos cargos  gobiern... 2018-01-10  \n",
      "...                                                  ...        ...  \n",
      "50057   supremo condena  sedician   caopula  procas  ... 2019-10-10  \n",
      "32511   opcian  bienvenida  opcian    bienvenida   bl... 2019-10-05  \n",
      "5192    ministerio  trabajo  agentes sociales convien... 2021-02-10  \n",
      "12172  rafael martan prieto  sitaoa   principal candi... 2019-08-30  \n",
      "33003    grupo  llamaba vejestorio despreciable   alc... 2018-04-27  \n",
      "\n",
      "[39706 rows x 5 columns]\n"
     ]
    }
   ],
   "source": [
    "def limpiar_texto(train):\n",
    "\n",
    "    limpiar_ascii(train=train)\n",
    "    limpiar_mayusculas(train=train)\n",
    "    limpiar_puntuacion(train=train)\n",
    "    limpiar_numeros(train=train)\n",
    "    limpiar_stopwords(train=train)\n",
    "    limpiar_guiones(train=train)\n",
    "    limpiar_numeros_ascii(train=train)\n",
    "\n",
    "    return\n",
    "\n",
    "limpiar_texto(train=X_train)\n",
    "\n",
    "print(X_train)"
   ]
  },
  {
   "cell_type": "markdown",
   "metadata": {},
   "source": [
    "3.2. Tokenizacion"
   ]
  },
  {
   "cell_type": "code",
   "execution_count": 217,
   "metadata": {},
   "outputs": [
    {
     "name": "stdout",
     "output_type": "stream",
     "text": [
      "       ID  Label                                             Titulo  \\\n",
      "23862  ID      1   ayuntamiento  barcelona reclama mano tendida ...   \n",
      "44273  ID      0   equo vuelve      treinta  estimacian  voto  p...   \n",
      "43156  ID      1   madrid    ayuntamiento  madrid  personan  acu...   \n",
      "13087  ID      0   presencia  mujeres   caopulas   partidos sa e...   \n",
      "56295  ID      0   defensas intentan frenar   caso ere  juzgue  ...   \n",
      "...    ..    ...                                                ...   \n",
      "50057  ID      0     encuesta acamo valora  penas   caopula  procas   \n",
      "32511  ID      0  cristina narbona insta  evitar  bloqueo     pa...   \n",
      "5192   ID      1   patronal reconoce   relacian laboral  empresa...   \n",
      "12172  ID      1  aguado elige  jefe  canal  isabel ii  praximo ...   \n",
      "33003  ID      1  archivada  causa   policaas  madrid  insultos ...   \n",
      "\n",
      "                                             Descripcion      Fecha  \\\n",
      "23862   cuentas ascienden   mil seiscientos millones ... 2022-10-14   \n",
      "44273    david   cruz    pablo manica garcaa crecen  ... 2020-01-30   \n",
      "43156  josa luis martanez almeida    restituir   aolt... 2022-04-08   \n",
      "13087  eaj pnv  pnc   partidos  craticos   ley  parid... 2023-03-07   \n",
      "56295   abogados   veintidós ex altos cargos  gobiern... 2018-01-10   \n",
      "...                                                  ...        ...   \n",
      "50057   supremo condena  sedician   caopula  procas  ... 2019-10-10   \n",
      "32511   opcian  bienvenida  opcian    bienvenida   bl... 2019-10-05   \n",
      "5192    ministerio  trabajo  agentes sociales convien... 2021-02-10   \n",
      "12172  rafael martan prieto  sitaoa   principal candi... 2019-08-30   \n",
      "33003    grupo  llamaba vejestorio despreciable   alc... 2018-04-27   \n",
      "\n",
      "                                                Titulo_T  \\\n",
      "23862  [ , ayuntamiento,  , barcelona, reclama, mano,...   \n",
      "44273  [ , equo, vuelve,      , treinta,  , estimacia...   \n",
      "43156  [ , madrid,    , ayuntamiento,  , madrid,  , p...   \n",
      "13087  [ , presencia,  , mujeres,   , caopulas,   , p...   \n",
      "56295  [ , defensas, intentan, frenar,   , caso, ere,...   \n",
      "...                                                  ...   \n",
      "50057  [encuesta, acamo, valora,  , penas,   , caopul...   \n",
      "32511  [cristina, narbona, insta,  , evitar,  , bloqu...   \n",
      "5192   [ , patronal, reconoce,   , relacian, laboral,...   \n",
      "12172  [aguado, elige,  , jefe,  , canal,  , isabel, ...   \n",
      "33003  [archivada,  , causa,   , policaas,  , madrid,...   \n",
      "\n",
      "                                           Descripcion_T  \n",
      "23862  [ , cuentas, ascienden,   , mil, seiscientos, ...  \n",
      "44273  [  , david,   , cruz,    , pablo, manica, garc...  \n",
      "43156  [josa, luis, martanez, almeida,    , restituir...  \n",
      "13087  [eaj, pnv,  , pnc,   , partidos,  , craticos, ...  \n",
      "56295  [ , abogados,   , veintidós, ex, altos, cargos...  \n",
      "...                                                  ...  \n",
      "50057  [ , supremo, condena,  , sedician,   , caopula...  \n",
      "32511  [ , opcian,  , bienvenida,  , opcian,    , bie...  \n",
      "5192   [ , ministerio,  , trabajo,  , agentes, social...  \n",
      "12172  [rafael, martan, prieto,  , sitaoa,   , princi...  \n",
      "33003  [  , grupo,  , llamaba, vejestorio, despreciab...  \n",
      "\n",
      "[39706 rows x 7 columns]\n"
     ]
    }
   ],
   "source": [
    "def tokenizar(train):\n",
    "\n",
    "    train[\"Titulo_T\"] = train[\"Titulo\"].apply(lambda x: [token.text for token in nlp(x)])\n",
    "    train[\"Descripcion_T\"] = train[\"Descripcion\"].apply(lambda x: [token.text for token in nlp(x)])\n",
    "\n",
    "    return\n",
    "\n",
    "tokenizar(train=X_train)\n",
    "print(X_train)"
   ]
  }
 ],
 "metadata": {
  "kernelspec": {
   "display_name": "Python 3",
   "language": "python",
   "name": "python3"
  },
  "language_info": {
   "codemirror_mode": {
    "name": "ipython",
    "version": 3
   },
   "file_extension": ".py",
   "mimetype": "text/x-python",
   "name": "python",
   "nbconvert_exporter": "python",
   "pygments_lexer": "ipython3",
   "version": "3.12.9"
  }
 },
 "nbformat": 4,
 "nbformat_minor": 2
}
